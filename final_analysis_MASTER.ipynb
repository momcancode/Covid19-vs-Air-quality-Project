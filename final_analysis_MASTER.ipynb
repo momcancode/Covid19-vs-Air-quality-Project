{
 "cells": [
  {
   "cell_type": "markdown",
   "metadata": {
    "toc": true
   },
   "source": [
    "<h1>Table of Contents<span class=\"tocSkip\"></span></h1>\n",
    "<div class=\"toc\"><ul class=\"toc-item\"><li><span><a href=\"#Final-analysis:-Impact-of-Covid-19-pandemic-on-the-air-quality\" data-toc-modified-id=\"Final-analysis:-Impact-of-Covid-19-pandemic-on-the-air-quality-1\"><span class=\"toc-item-num\">1&nbsp;&nbsp;</span>Final analysis: Impact of Covid-19 pandemic on the air quality</a></span><ul class=\"toc-item\"><li><span><a href=\"#Import-the-air-quality-and-covid-data-files\" data-toc-modified-id=\"Import-the-air-quality-and-covid-data-files-1.1\"><span class=\"toc-item-num\">1.1&nbsp;&nbsp;</span>Import the air quality and covid data files</a></span></li><li><span><a href=\"#How-has-change-in-Covid-19-active-cases-correlated-with-change-in-Australia's-air-quality-in-2020H1?\" data-toc-modified-id=\"How-has-change-in-Covid-19-active-cases-correlated-with-change-in-Australia's-air-quality-in-2020H1?-1.2\"><span class=\"toc-item-num\">1.2&nbsp;&nbsp;</span>How has change in Covid-19 active cases correlated with change in Australia's air quality in 2020H1?</a></span></li><li><span><a href=\"#How-has-change-in-Covid-19-active-cases-correlated-with-change-in-India's-air-quality-in-2020H1?\" data-toc-modified-id=\"How-has-change-in-Covid-19-active-cases-correlated-with-change-in-India's-air-quality-in-2020H1?-1.3\"><span class=\"toc-item-num\">1.3&nbsp;&nbsp;</span>How has change in Covid-19 active cases correlated with change in India's air quality in 2020H1?</a></span></li><li><span><a href=\"#How-has-change-in-Covid-19-active-cases-correlated-with-change-in-the-world's-air-quality-in-2020H1?\" data-toc-modified-id=\"How-has-change-in-Covid-19-active-cases-correlated-with-change-in-the-world's-air-quality-in-2020H1?-1.4\"><span class=\"toc-item-num\">1.4&nbsp;&nbsp;</span>How has change in Covid-19 active cases correlated with change in the world's air quality in 2020H1?</a></span></li></ul></li></ul></div>"
   ]
  },
  {
   "cell_type": "markdown",
   "metadata": {},
   "source": [
    "# Final analysis: Impact of Covid-19 pandemic on the air quality"
   ]
  },
  {
   "cell_type": "code",
   "execution_count": 1,
   "metadata": {},
   "outputs": [],
   "source": [
    "# Dependencies and Setup\n",
    "import matplotlib.pyplot as plt\n",
    "import pandas as pd\n",
    "import numpy as np\n",
    "import datetime\n",
    "from scipy.stats import linregress"
   ]
  },
  {
   "cell_type": "markdown",
   "metadata": {},
   "source": [
    "## Import the air quality and covid data files "
   ]
  },
  {
   "cell_type": "code",
   "execution_count": 2,
   "metadata": {},
   "outputs": [
    {
     "data": {
      "text/html": [
       "<div>\n",
       "<style scoped>\n",
       "    .dataframe tbody tr th:only-of-type {\n",
       "        vertical-align: middle;\n",
       "    }\n",
       "\n",
       "    .dataframe tbody tr th {\n",
       "        vertical-align: top;\n",
       "    }\n",
       "\n",
       "    .dataframe thead th {\n",
       "        text-align: right;\n",
       "    }\n",
       "</style>\n",
       "<table border=\"1\" class=\"dataframe\">\n",
       "  <thead>\n",
       "    <tr style=\"text-align: right;\">\n",
       "      <th></th>\n",
       "      <th>Date</th>\n",
       "      <th>Country_code</th>\n",
       "      <th>City</th>\n",
       "      <th>Specie</th>\n",
       "      <th>count</th>\n",
       "      <th>min</th>\n",
       "      <th>max</th>\n",
       "      <th>median</th>\n",
       "      <th>variance</th>\n",
       "      <th>Country_name</th>\n",
       "    </tr>\n",
       "  </thead>\n",
       "  <tbody>\n",
       "    <tr>\n",
       "      <th>0</th>\n",
       "      <td>2020-02-24</td>\n",
       "      <td>IR</td>\n",
       "      <td>Isfahan</td>\n",
       "      <td>pm25</td>\n",
       "      <td>129</td>\n",
       "      <td>54.0</td>\n",
       "      <td>194.0</td>\n",
       "      <td>126.0</td>\n",
       "      <td>10921.40</td>\n",
       "      <td>Iran, Islamic Republic of</td>\n",
       "    </tr>\n",
       "    <tr>\n",
       "      <th>1</th>\n",
       "      <td>2020-05-07</td>\n",
       "      <td>IR</td>\n",
       "      <td>Isfahan</td>\n",
       "      <td>pm25</td>\n",
       "      <td>168</td>\n",
       "      <td>17.0</td>\n",
       "      <td>168.0</td>\n",
       "      <td>91.0</td>\n",
       "      <td>14014.00</td>\n",
       "      <td>Iran, Islamic Republic of</td>\n",
       "    </tr>\n",
       "    <tr>\n",
       "      <th>2</th>\n",
       "      <td>2020-05-28</td>\n",
       "      <td>IR</td>\n",
       "      <td>Isfahan</td>\n",
       "      <td>pm25</td>\n",
       "      <td>127</td>\n",
       "      <td>17.0</td>\n",
       "      <td>115.0</td>\n",
       "      <td>72.0</td>\n",
       "      <td>3558.56</td>\n",
       "      <td>Iran, Islamic Republic of</td>\n",
       "    </tr>\n",
       "    <tr>\n",
       "      <th>3</th>\n",
       "      <td>2020-02-20</td>\n",
       "      <td>IR</td>\n",
       "      <td>Isfahan</td>\n",
       "      <td>pm25</td>\n",
       "      <td>113</td>\n",
       "      <td>26.0</td>\n",
       "      <td>181.0</td>\n",
       "      <td>76.0</td>\n",
       "      <td>11209.80</td>\n",
       "      <td>Iran, Islamic Republic of</td>\n",
       "    </tr>\n",
       "    <tr>\n",
       "      <th>4</th>\n",
       "      <td>2020-02-23</td>\n",
       "      <td>IR</td>\n",
       "      <td>Isfahan</td>\n",
       "      <td>pm25</td>\n",
       "      <td>132</td>\n",
       "      <td>22.0</td>\n",
       "      <td>132.0</td>\n",
       "      <td>76.0</td>\n",
       "      <td>3209.67</td>\n",
       "      <td>Iran, Islamic Republic of</td>\n",
       "    </tr>\n",
       "  </tbody>\n",
       "</table>\n",
       "</div>"
      ],
      "text/plain": [
       "         Date Country_code     City Specie  count   min    max  median  \\\n",
       "0  2020-02-24           IR  Isfahan   pm25    129  54.0  194.0   126.0   \n",
       "1  2020-05-07           IR  Isfahan   pm25    168  17.0  168.0    91.0   \n",
       "2  2020-05-28           IR  Isfahan   pm25    127  17.0  115.0    72.0   \n",
       "3  2020-02-20           IR  Isfahan   pm25    113  26.0  181.0    76.0   \n",
       "4  2020-02-23           IR  Isfahan   pm25    132  22.0  132.0    76.0   \n",
       "\n",
       "   variance               Country_name  \n",
       "0  10921.40  Iran, Islamic Republic of  \n",
       "1  14014.00  Iran, Islamic Republic of  \n",
       "2   3558.56  Iran, Islamic Republic of  \n",
       "3  11209.80  Iran, Islamic Republic of  \n",
       "4   3209.67  Iran, Islamic Republic of  "
      ]
     },
     "execution_count": 2,
     "metadata": {},
     "output_type": "execute_result"
    }
   ],
   "source": [
    "# Import the air data for the 88 countries\n",
    "world_air = pd.read_csv(\"output_csv/clean_world_air.csv\", parse_dates=True)\n",
    "world_air.head()"
   ]
  },
  {
   "cell_type": "code",
   "execution_count": 3,
   "metadata": {},
   "outputs": [
    {
     "name": "stdout",
     "output_type": "stream",
     "text": [
      "<class 'pandas.core.frame.DataFrame'>\n",
      "RangeIndex: 1464925 entries, 0 to 1464924\n",
      "Data columns (total 10 columns):\n",
      " #   Column        Non-Null Count    Dtype  \n",
      "---  ------        --------------    -----  \n",
      " 0   Date          1464925 non-null  object \n",
      " 1   Country_code  1464925 non-null  object \n",
      " 2   City          1464925 non-null  object \n",
      " 3   Specie        1464925 non-null  object \n",
      " 4   count         1464925 non-null  int64  \n",
      " 5   min           1464925 non-null  float64\n",
      " 6   max           1464925 non-null  float64\n",
      " 7   median        1464925 non-null  float64\n",
      " 8   variance      1464925 non-null  float64\n",
      " 9   Country_name  1464925 non-null  object \n",
      "dtypes: float64(4), int64(1), object(5)\n",
      "memory usage: 111.8+ MB\n"
     ]
    }
   ],
   "source": [
    "# Check the data types and any missing values\n",
    "world_air.info()"
   ]
  },
  {
   "cell_type": "code",
   "execution_count": 4,
   "metadata": {},
   "outputs": [],
   "source": [
    "# Change the data type of the Date column into datetime\n",
    "world_air['Date'] = world_air['Date'].astype('datetime64[ns]')"
   ]
  },
  {
   "cell_type": "code",
   "execution_count": 5,
   "metadata": {},
   "outputs": [
    {
     "name": "stdout",
     "output_type": "stream",
     "text": [
      "<class 'pandas.core.frame.DataFrame'>\n",
      "RangeIndex: 1464925 entries, 0 to 1464924\n",
      "Data columns (total 10 columns):\n",
      " #   Column        Non-Null Count    Dtype         \n",
      "---  ------        --------------    -----         \n",
      " 0   Date          1464925 non-null  datetime64[ns]\n",
      " 1   Country_code  1464925 non-null  object        \n",
      " 2   City          1464925 non-null  object        \n",
      " 3   Specie        1464925 non-null  object        \n",
      " 4   count         1464925 non-null  int64         \n",
      " 5   min           1464925 non-null  float64       \n",
      " 6   max           1464925 non-null  float64       \n",
      " 7   median        1464925 non-null  float64       \n",
      " 8   variance      1464925 non-null  float64       \n",
      " 9   Country_name  1464925 non-null  object        \n",
      "dtypes: datetime64[ns](1), float64(4), int64(1), object(4)\n",
      "memory usage: 111.8+ MB\n"
     ]
    }
   ],
   "source": [
    "world_air.info()"
   ]
  },
  {
   "cell_type": "code",
   "execution_count": 6,
   "metadata": {},
   "outputs": [
    {
     "data": {
      "text/html": [
       "<div>\n",
       "<style scoped>\n",
       "    .dataframe tbody tr th:only-of-type {\n",
       "        vertical-align: middle;\n",
       "    }\n",
       "\n",
       "    .dataframe tbody tr th {\n",
       "        vertical-align: top;\n",
       "    }\n",
       "\n",
       "    .dataframe thead th {\n",
       "        text-align: right;\n",
       "    }\n",
       "</style>\n",
       "<table border=\"1\" class=\"dataframe\">\n",
       "  <thead>\n",
       "    <tr style=\"text-align: right;\">\n",
       "      <th></th>\n",
       "      <th>Date</th>\n",
       "      <th>Total active cases</th>\n",
       "    </tr>\n",
       "  </thead>\n",
       "  <tbody>\n",
       "    <tr>\n",
       "      <th>0</th>\n",
       "      <td>2020-01-22</td>\n",
       "      <td>510</td>\n",
       "    </tr>\n",
       "    <tr>\n",
       "      <th>1</th>\n",
       "      <td>2020-01-23</td>\n",
       "      <td>606</td>\n",
       "    </tr>\n",
       "    <tr>\n",
       "      <th>2</th>\n",
       "      <td>2020-01-24</td>\n",
       "      <td>879</td>\n",
       "    </tr>\n",
       "    <tr>\n",
       "      <th>3</th>\n",
       "      <td>2020-01-25</td>\n",
       "      <td>1350</td>\n",
       "    </tr>\n",
       "    <tr>\n",
       "      <th>4</th>\n",
       "      <td>2020-01-26</td>\n",
       "      <td>2005</td>\n",
       "    </tr>\n",
       "  </tbody>\n",
       "</table>\n",
       "</div>"
      ],
      "text/plain": [
       "         Date  Total active cases\n",
       "0  2020-01-22                 510\n",
       "1  2020-01-23                 606\n",
       "2  2020-01-24                 879\n",
       "3  2020-01-25                1350\n",
       "4  2020-01-26                2005"
      ]
     },
     "execution_count": 6,
     "metadata": {},
     "output_type": "execute_result"
    }
   ],
   "source": [
    "# Import the covid data total active cases for the 88 countries \n",
    "active_world_covid = pd.read_csv(\"output_csv/active_world_covid.csv\", parse_dates=True)\n",
    "active_world_covid.head()"
   ]
  },
  {
   "cell_type": "code",
   "execution_count": 7,
   "metadata": {},
   "outputs": [
    {
     "name": "stdout",
     "output_type": "stream",
     "text": [
      "<class 'pandas.core.frame.DataFrame'>\n",
      "RangeIndex: 162 entries, 0 to 161\n",
      "Data columns (total 2 columns):\n",
      " #   Column              Non-Null Count  Dtype \n",
      "---  ------              --------------  ----- \n",
      " 0   Date                162 non-null    object\n",
      " 1   Total active cases  162 non-null    int64 \n",
      "dtypes: int64(1), object(1)\n",
      "memory usage: 2.7+ KB\n"
     ]
    }
   ],
   "source": [
    "# Check the data types and any missing values\n",
    "active_world_covid.info()"
   ]
  },
  {
   "cell_type": "code",
   "execution_count": 8,
   "metadata": {},
   "outputs": [],
   "source": [
    "# Change the data type of the Date column into datetime\n",
    "active_world_covid['Date'] = active_world_covid['Date'].astype('datetime64[ns]')"
   ]
  },
  {
   "cell_type": "code",
   "execution_count": 9,
   "metadata": {},
   "outputs": [
    {
     "name": "stdout",
     "output_type": "stream",
     "text": [
      "<class 'pandas.core.frame.DataFrame'>\n",
      "RangeIndex: 162 entries, 0 to 161\n",
      "Data columns (total 2 columns):\n",
      " #   Column              Non-Null Count  Dtype         \n",
      "---  ------              --------------  -----         \n",
      " 0   Date                162 non-null    datetime64[ns]\n",
      " 1   Total active cases  162 non-null    int64         \n",
      "dtypes: datetime64[ns](1), int64(1)\n",
      "memory usage: 2.7 KB\n"
     ]
    }
   ],
   "source": [
    "# Double check the data types\n",
    "active_world_covid.info()"
   ]
  },
  {
   "cell_type": "code",
   "execution_count": 10,
   "metadata": {},
   "outputs": [
    {
     "data": {
      "text/html": [
       "<div>\n",
       "<style scoped>\n",
       "    .dataframe tbody tr th:only-of-type {\n",
       "        vertical-align: middle;\n",
       "    }\n",
       "\n",
       "    .dataframe tbody tr th {\n",
       "        vertical-align: top;\n",
       "    }\n",
       "\n",
       "    .dataframe thead th {\n",
       "        text-align: right;\n",
       "    }\n",
       "</style>\n",
       "<table border=\"1\" class=\"dataframe\">\n",
       "  <thead>\n",
       "    <tr style=\"text-align: right;\">\n",
       "      <th></th>\n",
       "      <th>Date</th>\n",
       "      <th>Country</th>\n",
       "      <th>Active cases</th>\n",
       "    </tr>\n",
       "  </thead>\n",
       "  <tbody>\n",
       "    <tr>\n",
       "      <th>0</th>\n",
       "      <td>2020-01-22</td>\n",
       "      <td>Australia</td>\n",
       "      <td>0</td>\n",
       "    </tr>\n",
       "    <tr>\n",
       "      <th>1</th>\n",
       "      <td>2020-01-23</td>\n",
       "      <td>Australia</td>\n",
       "      <td>0</td>\n",
       "    </tr>\n",
       "    <tr>\n",
       "      <th>2</th>\n",
       "      <td>2020-01-24</td>\n",
       "      <td>Australia</td>\n",
       "      <td>0</td>\n",
       "    </tr>\n",
       "    <tr>\n",
       "      <th>3</th>\n",
       "      <td>2020-01-25</td>\n",
       "      <td>Australia</td>\n",
       "      <td>0</td>\n",
       "    </tr>\n",
       "    <tr>\n",
       "      <th>4</th>\n",
       "      <td>2020-01-26</td>\n",
       "      <td>Australia</td>\n",
       "      <td>4</td>\n",
       "    </tr>\n",
       "  </tbody>\n",
       "</table>\n",
       "</div>"
      ],
      "text/plain": [
       "         Date    Country  Active cases\n",
       "0  2020-01-22  Australia             0\n",
       "1  2020-01-23  Australia             0\n",
       "2  2020-01-24  Australia             0\n",
       "3  2020-01-25  Australia             0\n",
       "4  2020-01-26  Australia             4"
      ]
     },
     "execution_count": 10,
     "metadata": {},
     "output_type": "execute_result"
    }
   ],
   "source": [
    "# Import the covid active case data for Australia\n",
    "active_au_covid = pd.read_csv(\"output_csv/active_au_covid.csv\", parse_dates=True)\n",
    "active_au_covid.head()"
   ]
  },
  {
   "cell_type": "code",
   "execution_count": 11,
   "metadata": {},
   "outputs": [
    {
     "name": "stdout",
     "output_type": "stream",
     "text": [
      "<class 'pandas.core.frame.DataFrame'>\n",
      "RangeIndex: 162 entries, 0 to 161\n",
      "Data columns (total 3 columns):\n",
      " #   Column        Non-Null Count  Dtype \n",
      "---  ------        --------------  ----- \n",
      " 0   Date          162 non-null    object\n",
      " 1   Country       162 non-null    object\n",
      " 2   Active cases  162 non-null    int64 \n",
      "dtypes: int64(1), object(2)\n",
      "memory usage: 3.9+ KB\n"
     ]
    }
   ],
   "source": [
    "# Check data types of the covid active case data for Australia\n",
    "active_au_covid.info()"
   ]
  },
  {
   "cell_type": "code",
   "execution_count": 12,
   "metadata": {},
   "outputs": [],
   "source": [
    "# Change the data type of the Date column into datetime\n",
    "active_au_covid['Date'] = active_au_covid['Date'].astype('datetime64[ns]')"
   ]
  },
  {
   "cell_type": "code",
   "execution_count": 13,
   "metadata": {},
   "outputs": [
    {
     "name": "stdout",
     "output_type": "stream",
     "text": [
      "<class 'pandas.core.frame.DataFrame'>\n",
      "RangeIndex: 162 entries, 0 to 161\n",
      "Data columns (total 3 columns):\n",
      " #   Column        Non-Null Count  Dtype         \n",
      "---  ------        --------------  -----         \n",
      " 0   Date          162 non-null    datetime64[ns]\n",
      " 1   Country       162 non-null    object        \n",
      " 2   Active cases  162 non-null    int64         \n",
      "dtypes: datetime64[ns](1), int64(1), object(1)\n",
      "memory usage: 3.9+ KB\n"
     ]
    }
   ],
   "source": [
    "# Double check the data types for the covid active case data for Australia\n",
    "active_au_covid.info()"
   ]
  },
  {
   "cell_type": "code",
   "execution_count": 14,
   "metadata": {},
   "outputs": [
    {
     "data": {
      "text/html": [
       "<div>\n",
       "<style scoped>\n",
       "    .dataframe tbody tr th:only-of-type {\n",
       "        vertical-align: middle;\n",
       "    }\n",
       "\n",
       "    .dataframe tbody tr th {\n",
       "        vertical-align: top;\n",
       "    }\n",
       "\n",
       "    .dataframe thead th {\n",
       "        text-align: right;\n",
       "    }\n",
       "</style>\n",
       "<table border=\"1\" class=\"dataframe\">\n",
       "  <thead>\n",
       "    <tr style=\"text-align: right;\">\n",
       "      <th></th>\n",
       "      <th>Date</th>\n",
       "      <th>Country</th>\n",
       "      <th>Active cases</th>\n",
       "    </tr>\n",
       "  </thead>\n",
       "  <tbody>\n",
       "    <tr>\n",
       "      <th>0</th>\n",
       "      <td>2020-01-22</td>\n",
       "      <td>India</td>\n",
       "      <td>0</td>\n",
       "    </tr>\n",
       "    <tr>\n",
       "      <th>1</th>\n",
       "      <td>2020-01-23</td>\n",
       "      <td>India</td>\n",
       "      <td>0</td>\n",
       "    </tr>\n",
       "    <tr>\n",
       "      <th>2</th>\n",
       "      <td>2020-01-24</td>\n",
       "      <td>India</td>\n",
       "      <td>0</td>\n",
       "    </tr>\n",
       "    <tr>\n",
       "      <th>3</th>\n",
       "      <td>2020-01-25</td>\n",
       "      <td>India</td>\n",
       "      <td>0</td>\n",
       "    </tr>\n",
       "    <tr>\n",
       "      <th>4</th>\n",
       "      <td>2020-01-26</td>\n",
       "      <td>India</td>\n",
       "      <td>0</td>\n",
       "    </tr>\n",
       "  </tbody>\n",
       "</table>\n",
       "</div>"
      ],
      "text/plain": [
       "         Date Country  Active cases\n",
       "0  2020-01-22   India             0\n",
       "1  2020-01-23   India             0\n",
       "2  2020-01-24   India             0\n",
       "3  2020-01-25   India             0\n",
       "4  2020-01-26   India             0"
      ]
     },
     "execution_count": 14,
     "metadata": {},
     "output_type": "execute_result"
    }
   ],
   "source": [
    "# Import the covid active case data for India\n",
    "active_india_covid = pd.read_csv(\"output_csv/active_india_covid.csv\", parse_dates=True)\n",
    "active_india_covid.head()"
   ]
  },
  {
   "cell_type": "code",
   "execution_count": 15,
   "metadata": {},
   "outputs": [
    {
     "name": "stdout",
     "output_type": "stream",
     "text": [
      "<class 'pandas.core.frame.DataFrame'>\n",
      "RangeIndex: 162 entries, 0 to 161\n",
      "Data columns (total 3 columns):\n",
      " #   Column        Non-Null Count  Dtype \n",
      "---  ------        --------------  ----- \n",
      " 0   Date          162 non-null    object\n",
      " 1   Country       162 non-null    object\n",
      " 2   Active cases  162 non-null    int64 \n",
      "dtypes: int64(1), object(2)\n",
      "memory usage: 3.9+ KB\n"
     ]
    }
   ],
   "source": [
    "# Check data types of the covid active case data for India\n",
    "active_india_covid.info()"
   ]
  },
  {
   "cell_type": "code",
   "execution_count": 16,
   "metadata": {},
   "outputs": [],
   "source": [
    "# Change the data type of the Date column into datetime\n",
    "active_india_covid['Date'] = active_india_covid['Date'].astype('datetime64[ns]')"
   ]
  },
  {
   "cell_type": "code",
   "execution_count": 17,
   "metadata": {},
   "outputs": [
    {
     "name": "stdout",
     "output_type": "stream",
     "text": [
      "<class 'pandas.core.frame.DataFrame'>\n",
      "RangeIndex: 162 entries, 0 to 161\n",
      "Data columns (total 3 columns):\n",
      " #   Column        Non-Null Count  Dtype         \n",
      "---  ------        --------------  -----         \n",
      " 0   Date          162 non-null    datetime64[ns]\n",
      " 1   Country       162 non-null    object        \n",
      " 2   Active cases  162 non-null    int64         \n",
      "dtypes: datetime64[ns](1), int64(1), object(1)\n",
      "memory usage: 3.9+ KB\n"
     ]
    }
   ],
   "source": [
    "# Double check the data types for the covid active case data for India\n",
    "active_india_covid.info()"
   ]
  },
  {
   "cell_type": "code",
   "execution_count": 18,
   "metadata": {},
   "outputs": [],
   "source": [
    "# Define a function to do the following steps:\n",
    "    ## Transpose an air dataframe from long to wide: for each specie, turn the country_code into columns\n",
    "    ## For the world air data, get the median of specie values of the 88 countries to represent the world\n",
    "    ## Merge the covid data with the air data on Date.\n",
    "    \n",
    "def world_air_covid_each_specie(airdf, specie, covid_df):\n",
    "    air_median_specie_transposed = airdf[airdf[\"Specie\"] == specie].pivot_table(\n",
    "        index=\"Date\", columns=\"Country_code\", values=\"median\", aggfunc=np.median)\n",
    "\n",
    "    air_median_specie_transposed[f\"Median {specie}\"] = air_median_specie_transposed.median(axis=1)\n",
    "\n",
    "    final_air_median_specie_transposed = air_median_specie_transposed.iloc[:, -1].to_frame().reset_index()\n",
    "\n",
    "    air_covid_median_specie = pd.merge(\n",
    "        covid_df, final_air_median_specie_transposed, how=\"inner\", on=\"Date\")\n",
    "    return air_covid_median_specie"
   ]
  },
  {
   "cell_type": "markdown",
   "metadata": {},
   "source": [
    "> In the above function, the **air_median_specie_transposed** uses **aggfunc=np.median** to get the median value of the distribution of each specie's median values measured in cities under each country in the dataset. The **Median {specie}** column added to this dataframe then takes the median value of the distribution of each specie in all countries on the same date. The median aggregate functions are used to minimise the impact of outliers in the air quality dataset."
   ]
  },
  {
   "cell_type": "code",
   "execution_count": 19,
   "metadata": {},
   "outputs": [],
   "source": [
    "# Create a function to do the following steps:\n",
    "    ## Perform a linear regression on number of covid active cases vs median value of an air pollutant\n",
    "    ## Create equation of line to calculate predicted median value of an air pollutant for future Covid active cases\n",
    "    ## Generate a scatter plot of the number of covid active cases vs median value of an air pollutant\n",
    "    ## Plot the linear model on top of the scatter plot\n",
    "\n",
    "def linear_regression_plot(df, x, y, df_name, title):\n",
    "    (slope, intercept, rvalue, pvalue, stderr) = linregress(df[x], df[y])\n",
    "    regress_values = slope * df[x] + intercept\n",
    "\n",
    "    line_eq = f\"y = {round(slope, 2)}x + {round(intercept, 2)}\"\n",
    "\n",
    "    print(f\"The correlation coefficient is: {rvalue}\")\n",
    "    print(f\"The r-squared is: {rvalue**2}\")\n",
    "\n",
    "    plt.scatter(df[x], df[y], facecolors=\"dodgerblue\", alpha=0.5)\n",
    "    plt.plot(df[x], regress_values, \"b--\", linewidth=1)\n",
    "    plt.annotate(line_eq, (df[x].quantile(0.75), df[y].quantile(0.75)), fontsize=15, color=\"blue\")\n",
    "    \n",
    "    plt.xlabel(f\"Number of {x}\")\n",
    "    plt.ylabel(y)\n",
    "    plt.title(title)\n",
    "    plt.savefig(f\"images/{df_name}_linear.png\")\n",
    "    plt.show()"
   ]
  },
  {
   "cell_type": "markdown",
   "metadata": {},
   "source": [
    "## How has change in Covid-19 active cases correlated with change in Australia's air quality in 2020H1?"
   ]
  },
  {
   "cell_type": "code",
   "execution_count": 20,
   "metadata": {},
   "outputs": [
    {
     "data": {
      "text/html": [
       "<div>\n",
       "<style scoped>\n",
       "    .dataframe tbody tr th:only-of-type {\n",
       "        vertical-align: middle;\n",
       "    }\n",
       "\n",
       "    .dataframe tbody tr th {\n",
       "        vertical-align: top;\n",
       "    }\n",
       "\n",
       "    .dataframe thead th {\n",
       "        text-align: right;\n",
       "    }\n",
       "</style>\n",
       "<table border=\"1\" class=\"dataframe\">\n",
       "  <thead>\n",
       "    <tr style=\"text-align: right;\">\n",
       "      <th></th>\n",
       "      <th>Date</th>\n",
       "      <th>Country_code</th>\n",
       "      <th>City</th>\n",
       "      <th>Specie</th>\n",
       "      <th>count</th>\n",
       "      <th>min</th>\n",
       "      <th>max</th>\n",
       "      <th>median</th>\n",
       "      <th>variance</th>\n",
       "      <th>Country_name</th>\n",
       "    </tr>\n",
       "  </thead>\n",
       "  <tbody>\n",
       "    <tr>\n",
       "      <th>490904</th>\n",
       "      <td>2020-02-04</td>\n",
       "      <td>AU</td>\n",
       "      <td>Sydney</td>\n",
       "      <td>co</td>\n",
       "      <td>56</td>\n",
       "      <td>1.2</td>\n",
       "      <td>4.5</td>\n",
       "      <td>3.4</td>\n",
       "      <td>10.12</td>\n",
       "      <td>Australia</td>\n",
       "    </tr>\n",
       "    <tr>\n",
       "      <th>490905</th>\n",
       "      <td>2020-03-29</td>\n",
       "      <td>AU</td>\n",
       "      <td>Sydney</td>\n",
       "      <td>co</td>\n",
       "      <td>9</td>\n",
       "      <td>1.2</td>\n",
       "      <td>3.4</td>\n",
       "      <td>2.3</td>\n",
       "      <td>9.07</td>\n",
       "      <td>Australia</td>\n",
       "    </tr>\n",
       "    <tr>\n",
       "      <th>490906</th>\n",
       "      <td>2020-06-26</td>\n",
       "      <td>AU</td>\n",
       "      <td>Sydney</td>\n",
       "      <td>co</td>\n",
       "      <td>45</td>\n",
       "      <td>1.2</td>\n",
       "      <td>6.7</td>\n",
       "      <td>2.3</td>\n",
       "      <td>17.91</td>\n",
       "      <td>Australia</td>\n",
       "    </tr>\n",
       "    <tr>\n",
       "      <th>490907</th>\n",
       "      <td>2020-05-22</td>\n",
       "      <td>AU</td>\n",
       "      <td>Sydney</td>\n",
       "      <td>co</td>\n",
       "      <td>14</td>\n",
       "      <td>1.2</td>\n",
       "      <td>2.3</td>\n",
       "      <td>1.2</td>\n",
       "      <td>2.19</td>\n",
       "      <td>Australia</td>\n",
       "    </tr>\n",
       "    <tr>\n",
       "      <th>490908</th>\n",
       "      <td>2020-06-04</td>\n",
       "      <td>AU</td>\n",
       "      <td>Sydney</td>\n",
       "      <td>co</td>\n",
       "      <td>33</td>\n",
       "      <td>1.2</td>\n",
       "      <td>5.6</td>\n",
       "      <td>2.3</td>\n",
       "      <td>16.16</td>\n",
       "      <td>Australia</td>\n",
       "    </tr>\n",
       "  </tbody>\n",
       "</table>\n",
       "</div>"
      ],
      "text/plain": [
       "             Date Country_code    City Specie  count  min  max  median  \\\n",
       "490904 2020-02-04           AU  Sydney     co     56  1.2  4.5     3.4   \n",
       "490905 2020-03-29           AU  Sydney     co      9  1.2  3.4     2.3   \n",
       "490906 2020-06-26           AU  Sydney     co     45  1.2  6.7     2.3   \n",
       "490907 2020-05-22           AU  Sydney     co     14  1.2  2.3     1.2   \n",
       "490908 2020-06-04           AU  Sydney     co     33  1.2  5.6     2.3   \n",
       "\n",
       "        variance Country_name  \n",
       "490904     10.12    Australia  \n",
       "490905      9.07    Australia  \n",
       "490906     17.91    Australia  \n",
       "490907      2.19    Australia  \n",
       "490908     16.16    Australia  "
      ]
     },
     "execution_count": 20,
     "metadata": {},
     "output_type": "execute_result"
    }
   ],
   "source": [
    "# Filter the air data for Australia\n",
    "au_air_df = world_air[world_air[\"Country_code\"]==\"AU\"].copy()\n",
    "au_air_df.head()"
   ]
  },
  {
   "cell_type": "code",
   "execution_count": 21,
   "metadata": {},
   "outputs": [
    {
     "data": {
      "text/html": [
       "<div>\n",
       "<style scoped>\n",
       "    .dataframe tbody tr th:only-of-type {\n",
       "        vertical-align: middle;\n",
       "    }\n",
       "\n",
       "    .dataframe tbody tr th {\n",
       "        vertical-align: top;\n",
       "    }\n",
       "\n",
       "    .dataframe thead th {\n",
       "        text-align: right;\n",
       "    }\n",
       "</style>\n",
       "<table border=\"1\" class=\"dataframe\">\n",
       "  <thead>\n",
       "    <tr style=\"text-align: right;\">\n",
       "      <th></th>\n",
       "      <th>Date</th>\n",
       "      <th>Country</th>\n",
       "      <th>Active cases</th>\n",
       "      <th>Median co</th>\n",
       "    </tr>\n",
       "  </thead>\n",
       "  <tbody>\n",
       "    <tr>\n",
       "      <th>0</th>\n",
       "      <td>2020-01-22</td>\n",
       "      <td>Australia</td>\n",
       "      <td>0</td>\n",
       "      <td>2.15</td>\n",
       "    </tr>\n",
       "    <tr>\n",
       "      <th>1</th>\n",
       "      <td>2020-01-23</td>\n",
       "      <td>Australia</td>\n",
       "      <td>0</td>\n",
       "      <td>2.15</td>\n",
       "    </tr>\n",
       "    <tr>\n",
       "      <th>2</th>\n",
       "      <td>2020-01-24</td>\n",
       "      <td>Australia</td>\n",
       "      <td>0</td>\n",
       "      <td>3.15</td>\n",
       "    </tr>\n",
       "    <tr>\n",
       "      <th>3</th>\n",
       "      <td>2020-01-25</td>\n",
       "      <td>Australia</td>\n",
       "      <td>0</td>\n",
       "      <td>2.10</td>\n",
       "    </tr>\n",
       "    <tr>\n",
       "      <th>4</th>\n",
       "      <td>2020-01-26</td>\n",
       "      <td>Australia</td>\n",
       "      <td>4</td>\n",
       "      <td>2.30</td>\n",
       "    </tr>\n",
       "  </tbody>\n",
       "</table>\n",
       "</div>"
      ],
      "text/plain": [
       "        Date    Country  Active cases  Median co\n",
       "0 2020-01-22  Australia             0       2.15\n",
       "1 2020-01-23  Australia             0       2.15\n",
       "2 2020-01-24  Australia             0       3.15\n",
       "3 2020-01-25  Australia             0       2.10\n",
       "4 2020-01-26  Australia             4       2.30"
      ]
     },
     "execution_count": 21,
     "metadata": {},
     "output_type": "execute_result"
    }
   ],
   "source": [
    "# Create a merged data frame for median CO data and covid active cases for Australia based on shared date\n",
    "au_air_covid_co = world_air_covid_each_specie(airdf=au_air_df, specie=\"co\", covid_df=active_au_covid)\n",
    "au_air_covid_co.head()"
   ]
  },
  {
   "cell_type": "code",
   "execution_count": 22,
   "metadata": {},
   "outputs": [
    {
     "name": "stdout",
     "output_type": "stream",
     "text": [
      "The correlation coefficient is: -0.27682230150022347\n",
      "The r-squared is: 0.07663058660788062\n"
     ]
    },
    {
     "data": {
      "image/png": "[encoded data removed]",
      "text/plain": [
       "<Figure size 432x288 with 1 Axes>"
      ]
     },
     "metadata": {
      "needs_background": "light"
     },
     "output_type": "display_data"
    }
   ],
   "source": [
    "# Perform a linear regression model for the Number of Active cases vs Median CO values\n",
    "linear_regression_plot(au_air_covid_co, \"Active cases\", \"Median co\", \"au_air_covid_co\",\n",
    "                       \"Number of active cases vs Median CO level in Australia 2020H1\")"
   ]
  },
  {
   "cell_type": "markdown",
   "metadata": {},
   "source": [
    "* There is a weak negative correlation between number of active covid cases and median CO values in Australia in 2020H1.\n",
    "* The r-squared value tells us that only 7.7% of the variability in the median CO values in Australia in 2020H1 could be explained by the linear regression model (i.e. the change in the number of active cases in 2020H1)."
   ]
  },
  {
   "cell_type": "code",
   "execution_count": 23,
   "metadata": {},
   "outputs": [
    {
     "data": {
      "text/html": [
       "<div>\n",
       "<style scoped>\n",
       "    .dataframe tbody tr th:only-of-type {\n",
       "        vertical-align: middle;\n",
       "    }\n",
       "\n",
       "    .dataframe tbody tr th {\n",
       "        vertical-align: top;\n",
       "    }\n",
       "\n",
       "    .dataframe thead th {\n",
       "        text-align: right;\n",
       "    }\n",
       "</style>\n",
       "<table border=\"1\" class=\"dataframe\">\n",
       "  <thead>\n",
       "    <tr style=\"text-align: right;\">\n",
       "      <th></th>\n",
       "      <th>Date</th>\n",
       "      <th>Country</th>\n",
       "      <th>Active cases</th>\n",
       "      <th>Median pm25</th>\n",
       "    </tr>\n",
       "  </thead>\n",
       "  <tbody>\n",
       "    <tr>\n",
       "      <th>0</th>\n",
       "      <td>2020-01-22</td>\n",
       "      <td>Australia</td>\n",
       "      <td>0</td>\n",
       "      <td>25.0</td>\n",
       "    </tr>\n",
       "    <tr>\n",
       "      <th>1</th>\n",
       "      <td>2020-01-23</td>\n",
       "      <td>Australia</td>\n",
       "      <td>0</td>\n",
       "      <td>24.0</td>\n",
       "    </tr>\n",
       "    <tr>\n",
       "      <th>2</th>\n",
       "      <td>2020-01-24</td>\n",
       "      <td>Australia</td>\n",
       "      <td>0</td>\n",
       "      <td>25.0</td>\n",
       "    </tr>\n",
       "    <tr>\n",
       "      <th>3</th>\n",
       "      <td>2020-01-25</td>\n",
       "      <td>Australia</td>\n",
       "      <td>0</td>\n",
       "      <td>20.5</td>\n",
       "    </tr>\n",
       "    <tr>\n",
       "      <th>4</th>\n",
       "      <td>2020-01-26</td>\n",
       "      <td>Australia</td>\n",
       "      <td>4</td>\n",
       "      <td>19.5</td>\n",
       "    </tr>\n",
       "  </tbody>\n",
       "</table>\n",
       "</div>"
      ],
      "text/plain": [
       "        Date    Country  Active cases  Median pm25\n",
       "0 2020-01-22  Australia             0         25.0\n",
       "1 2020-01-23  Australia             0         24.0\n",
       "2 2020-01-24  Australia             0         25.0\n",
       "3 2020-01-25  Australia             0         20.5\n",
       "4 2020-01-26  Australia             4         19.5"
      ]
     },
     "execution_count": 23,
     "metadata": {},
     "output_type": "execute_result"
    }
   ],
   "source": [
    "# Create a merged data frame for median pm2.5 data and covid active cases for Australia based on shared date\n",
    "\n",
    "au_air_covid_pm25 = world_air_covid_each_specie(airdf=au_air_df, specie=\"pm25\", covid_df=active_au_covid)\n",
    "au_air_covid_pm25.head()"
   ]
  },
  {
   "cell_type": "code",
   "execution_count": 24,
   "metadata": {},
   "outputs": [
    {
     "name": "stdout",
     "output_type": "stream",
     "text": [
      "The correlation coefficient is: -0.12186207920586578\n",
      "The r-squared is: 0.014850366348376704\n"
     ]
    },
    {
     "data": {
      "image/png": "[encoded data removed]",
      "text/plain": [
       "<Figure size 432x288 with 1 Axes>"
      ]
     },
     "metadata": {
      "needs_background": "light"
     },
     "output_type": "display_data"
    }
   ],
   "source": [
    "# Perform a linear regression model for the Number of Active cases vs Median PM2.5 values\n",
    "\n",
    "linear_regression_plot(au_air_covid_pm25, \"Active cases\", \"Median pm25\", \"au_air_covid_pm25\",\n",
    "                       \"Number of active cases vs Median PM2.5 level in Australia 2020H1\")"
   ]
  },
  {
   "cell_type": "markdown",
   "metadata": {},
   "source": [
    "* There is a very weak negative correlation between number of active covid cases and median PM2.5 values in Australia in 2020H1.\n",
    "* The r-squared value tells us that only 1.5% of the variability in the median PM2.5 values in Australia in 2020H1 could be explained by the linear regression model (i.e. the change in the number of active cases in 2020H1)."
   ]
  },
  {
   "cell_type": "code",
   "execution_count": 25,
   "metadata": {},
   "outputs": [
    {
     "data": {
      "text/html": [
       "<div>\n",
       "<style scoped>\n",
       "    .dataframe tbody tr th:only-of-type {\n",
       "        vertical-align: middle;\n",
       "    }\n",
       "\n",
       "    .dataframe tbody tr th {\n",
       "        vertical-align: top;\n",
       "    }\n",
       "\n",
       "    .dataframe thead th {\n",
       "        text-align: right;\n",
       "    }\n",
       "</style>\n",
       "<table border=\"1\" class=\"dataframe\">\n",
       "  <thead>\n",
       "    <tr style=\"text-align: right;\">\n",
       "      <th></th>\n",
       "      <th>Date</th>\n",
       "      <th>Country</th>\n",
       "      <th>Active cases</th>\n",
       "      <th>Median pm10</th>\n",
       "    </tr>\n",
       "  </thead>\n",
       "  <tbody>\n",
       "    <tr>\n",
       "      <th>0</th>\n",
       "      <td>2020-01-22</td>\n",
       "      <td>Australia</td>\n",
       "      <td>0</td>\n",
       "      <td>20.0</td>\n",
       "    </tr>\n",
       "    <tr>\n",
       "      <th>1</th>\n",
       "      <td>2020-01-23</td>\n",
       "      <td>Australia</td>\n",
       "      <td>0</td>\n",
       "      <td>20.0</td>\n",
       "    </tr>\n",
       "    <tr>\n",
       "      <th>2</th>\n",
       "      <td>2020-01-24</td>\n",
       "      <td>Australia</td>\n",
       "      <td>0</td>\n",
       "      <td>19.0</td>\n",
       "    </tr>\n",
       "    <tr>\n",
       "      <th>3</th>\n",
       "      <td>2020-01-25</td>\n",
       "      <td>Australia</td>\n",
       "      <td>0</td>\n",
       "      <td>18.0</td>\n",
       "    </tr>\n",
       "    <tr>\n",
       "      <th>4</th>\n",
       "      <td>2020-01-26</td>\n",
       "      <td>Australia</td>\n",
       "      <td>4</td>\n",
       "      <td>14.5</td>\n",
       "    </tr>\n",
       "  </tbody>\n",
       "</table>\n",
       "</div>"
      ],
      "text/plain": [
       "        Date    Country  Active cases  Median pm10\n",
       "0 2020-01-22  Australia             0         20.0\n",
       "1 2020-01-23  Australia             0         20.0\n",
       "2 2020-01-24  Australia             0         19.0\n",
       "3 2020-01-25  Australia             0         18.0\n",
       "4 2020-01-26  Australia             4         14.5"
      ]
     },
     "execution_count": 25,
     "metadata": {},
     "output_type": "execute_result"
    }
   ],
   "source": [
    "# Create a merged data frame for median PM10 data and covid active cases for Australia based on shared date\n",
    "\n",
    "au_air_covid_pm10 = world_air_covid_each_specie(airdf=au_air_df, specie=\"pm10\", covid_df=active_au_covid)\n",
    "au_air_covid_pm10.head()"
   ]
  },
  {
   "cell_type": "code",
   "execution_count": 26,
   "metadata": {},
   "outputs": [
    {
     "name": "stdout",
     "output_type": "stream",
     "text": [
      "The correlation coefficient is: -0.2800507595892614\n",
      "The r-squared is: 0.07842842794652229\n"
     ]
    },
    {
     "data": {
      "image/png": "[encoded data removed]",
      "text/plain": [
       "<Figure size 432x288 with 1 Axes>"
      ]
     },
     "metadata": {
      "needs_background": "light"
     },
     "output_type": "display_data"
    }
   ],
   "source": [
    "# Perform a linear regression model for the Number of Active cases vs Median PM10 values\n",
    "\n",
    "linear_regression_plot(au_air_covid_pm10, \"Active cases\", \"Median pm10\", \"au_air_covid_pm10\",\n",
    "                       \"Number of active cases vs Median PM10 level in Australia 2020H1\")"
   ]
  },
  {
   "cell_type": "markdown",
   "metadata": {},
   "source": [
    "* There is a weak negative correlation between number of active covid cases and median PM10 values in Australia in 2020H1.\n",
    "* The r-squared value tells us that only 7.8% of the variability in the median PM10 values in Australia in 2020H1 could be explained by the linear regression model (i.e. the change in the number of active cases in 2020H1)."
   ]
  },
  {
   "cell_type": "code",
   "execution_count": 27,
   "metadata": {},
   "outputs": [
    {
     "data": {
      "text/html": [
       "<div>\n",
       "<style scoped>\n",
       "    .dataframe tbody tr th:only-of-type {\n",
       "        vertical-align: middle;\n",
       "    }\n",
       "\n",
       "    .dataframe tbody tr th {\n",
       "        vertical-align: top;\n",
       "    }\n",
       "\n",
       "    .dataframe thead th {\n",
       "        text-align: right;\n",
       "    }\n",
       "</style>\n",
       "<table border=\"1\" class=\"dataframe\">\n",
       "  <thead>\n",
       "    <tr style=\"text-align: right;\">\n",
       "      <th></th>\n",
       "      <th>Date</th>\n",
       "      <th>Country</th>\n",
       "      <th>Active cases</th>\n",
       "      <th>Median no2</th>\n",
       "    </tr>\n",
       "  </thead>\n",
       "  <tbody>\n",
       "    <tr>\n",
       "      <th>0</th>\n",
       "      <td>2020-01-22</td>\n",
       "      <td>Australia</td>\n",
       "      <td>0</td>\n",
       "      <td>3.8</td>\n",
       "    </tr>\n",
       "    <tr>\n",
       "      <th>1</th>\n",
       "      <td>2020-01-23</td>\n",
       "      <td>Australia</td>\n",
       "      <td>0</td>\n",
       "      <td>4.7</td>\n",
       "    </tr>\n",
       "    <tr>\n",
       "      <th>2</th>\n",
       "      <td>2020-01-24</td>\n",
       "      <td>Australia</td>\n",
       "      <td>0</td>\n",
       "      <td>3.4</td>\n",
       "    </tr>\n",
       "    <tr>\n",
       "      <th>3</th>\n",
       "      <td>2020-01-25</td>\n",
       "      <td>Australia</td>\n",
       "      <td>0</td>\n",
       "      <td>2.1</td>\n",
       "    </tr>\n",
       "    <tr>\n",
       "      <th>4</th>\n",
       "      <td>2020-01-26</td>\n",
       "      <td>Australia</td>\n",
       "      <td>4</td>\n",
       "      <td>3.3</td>\n",
       "    </tr>\n",
       "  </tbody>\n",
       "</table>\n",
       "</div>"
      ],
      "text/plain": [
       "        Date    Country  Active cases  Median no2\n",
       "0 2020-01-22  Australia             0         3.8\n",
       "1 2020-01-23  Australia             0         4.7\n",
       "2 2020-01-24  Australia             0         3.4\n",
       "3 2020-01-25  Australia             0         2.1\n",
       "4 2020-01-26  Australia             4         3.3"
      ]
     },
     "execution_count": 27,
     "metadata": {},
     "output_type": "execute_result"
    }
   ],
   "source": [
    "# Create a merged data frame for median NO2 data and covid active cases for Australia based on shared date\n",
    "\n",
    "au_air_covid_no2 = world_air_covid_each_specie(airdf=au_air_df, specie=\"no2\", covid_df=active_au_covid)\n",
    "au_air_covid_no2.head()"
   ]
  },
  {
   "cell_type": "code",
   "execution_count": 28,
   "metadata": {},
   "outputs": [
    {
     "name": "stdout",
     "output_type": "stream",
     "text": [
      "The correlation coefficient is: 0.016429701804397717\n",
      "The r-squared is: 0.0002699351013814296\n"
     ]
    },
    {
     "data": {
      "image/png": "[encoded data removed]",
      "text/plain": [
       "<Figure size 432x288 with 1 Axes>"
      ]
     },
     "metadata": {
      "needs_background": "light"
     },
     "output_type": "display_data"
    }
   ],
   "source": [
    "# Perform a linear regression model for the Number of Active cases vs Median NO2 values\n",
    "\n",
    "linear_regression_plot(au_air_covid_no2, \"Active cases\", \"Median no2\", \"au_air_covid_no2\",\n",
    "                       \"Number of active cases vs Median NO2 level in Australia 2020H1\")"
   ]
  },
  {
   "cell_type": "markdown",
   "metadata": {},
   "source": [
    "* There is almost no correlation between number of active covid cases and median NO2 values in Australia in 2020H1."
   ]
  },
  {
   "cell_type": "code",
   "execution_count": 29,
   "metadata": {},
   "outputs": [
    {
     "data": {
      "text/html": [
       "<div>\n",
       "<style scoped>\n",
       "    .dataframe tbody tr th:only-of-type {\n",
       "        vertical-align: middle;\n",
       "    }\n",
       "\n",
       "    .dataframe tbody tr th {\n",
       "        vertical-align: top;\n",
       "    }\n",
       "\n",
       "    .dataframe thead th {\n",
       "        text-align: right;\n",
       "    }\n",
       "</style>\n",
       "<table border=\"1\" class=\"dataframe\">\n",
       "  <thead>\n",
       "    <tr style=\"text-align: right;\">\n",
       "      <th></th>\n",
       "      <th>Date</th>\n",
       "      <th>Country</th>\n",
       "      <th>Active cases</th>\n",
       "      <th>Median o3</th>\n",
       "    </tr>\n",
       "  </thead>\n",
       "  <tbody>\n",
       "    <tr>\n",
       "      <th>0</th>\n",
       "      <td>2020-01-22</td>\n",
       "      <td>Australia</td>\n",
       "      <td>0</td>\n",
       "      <td>11.40</td>\n",
       "    </tr>\n",
       "    <tr>\n",
       "      <th>1</th>\n",
       "      <td>2020-01-23</td>\n",
       "      <td>Australia</td>\n",
       "      <td>0</td>\n",
       "      <td>9.00</td>\n",
       "    </tr>\n",
       "    <tr>\n",
       "      <th>2</th>\n",
       "      <td>2020-01-24</td>\n",
       "      <td>Australia</td>\n",
       "      <td>0</td>\n",
       "      <td>7.55</td>\n",
       "    </tr>\n",
       "    <tr>\n",
       "      <th>3</th>\n",
       "      <td>2020-01-25</td>\n",
       "      <td>Australia</td>\n",
       "      <td>0</td>\n",
       "      <td>11.20</td>\n",
       "    </tr>\n",
       "    <tr>\n",
       "      <th>4</th>\n",
       "      <td>2020-01-26</td>\n",
       "      <td>Australia</td>\n",
       "      <td>4</td>\n",
       "      <td>10.40</td>\n",
       "    </tr>\n",
       "  </tbody>\n",
       "</table>\n",
       "</div>"
      ],
      "text/plain": [
       "        Date    Country  Active cases  Median o3\n",
       "0 2020-01-22  Australia             0      11.40\n",
       "1 2020-01-23  Australia             0       9.00\n",
       "2 2020-01-24  Australia             0       7.55\n",
       "3 2020-01-25  Australia             0      11.20\n",
       "4 2020-01-26  Australia             4      10.40"
      ]
     },
     "execution_count": 29,
     "metadata": {},
     "output_type": "execute_result"
    }
   ],
   "source": [
    "# Create a merged data frame for median O3 data and covid active cases for Australia based on shared date\n",
    "\n",
    "au_air_covid_o3 = world_air_covid_each_specie(airdf=au_air_df, specie=\"o3\", covid_df=active_au_covid)\n",
    "au_air_covid_o3.head()"
   ]
  },
  {
   "cell_type": "code",
   "execution_count": 30,
   "metadata": {},
   "outputs": [
    {
     "name": "stdout",
     "output_type": "stream",
     "text": [
      "The correlation coefficient is: 0.010602775504139674\n",
      "The r-squared is: 0.00011241884839118432\n"
     ]
    },
    {
     "data": {
      "image/png": "[encoded data removed]",
      "text/plain": [
       "<Figure size 432x288 with 1 Axes>"
      ]
     },
     "metadata": {
      "needs_background": "light"
     },
     "output_type": "display_data"
    }
   ],
   "source": [
    "# Perform a linear regression model for the Number of Active cases vs Median O3 values\n",
    "\n",
    "linear_regression_plot(au_air_covid_o3, \"Active cases\", \"Median o3\", \"au_air_covid_o3\",\n",
    "                       \"Number of active cases vs Median O3 level in Australia 2020H1\")"
   ]
  },
  {
   "cell_type": "markdown",
   "metadata": {},
   "source": [
    "* There is almost no correlation between number of active covid cases and median O3 values in Australia in 2020H1."
   ]
  },
  {
   "cell_type": "code",
   "execution_count": 31,
   "metadata": {},
   "outputs": [
    {
     "data": {
      "text/html": [
       "<div>\n",
       "<style scoped>\n",
       "    .dataframe tbody tr th:only-of-type {\n",
       "        vertical-align: middle;\n",
       "    }\n",
       "\n",
       "    .dataframe tbody tr th {\n",
       "        vertical-align: top;\n",
       "    }\n",
       "\n",
       "    .dataframe thead th {\n",
       "        text-align: right;\n",
       "    }\n",
       "</style>\n",
       "<table border=\"1\" class=\"dataframe\">\n",
       "  <thead>\n",
       "    <tr style=\"text-align: right;\">\n",
       "      <th></th>\n",
       "      <th>Date</th>\n",
       "      <th>Country</th>\n",
       "      <th>Active cases</th>\n",
       "      <th>Median so2</th>\n",
       "    </tr>\n",
       "  </thead>\n",
       "  <tbody>\n",
       "    <tr>\n",
       "      <th>0</th>\n",
       "      <td>2020-01-22</td>\n",
       "      <td>Australia</td>\n",
       "      <td>0</td>\n",
       "      <td>1.5</td>\n",
       "    </tr>\n",
       "    <tr>\n",
       "      <th>1</th>\n",
       "      <td>2020-01-23</td>\n",
       "      <td>Australia</td>\n",
       "      <td>0</td>\n",
       "      <td>1.5</td>\n",
       "    </tr>\n",
       "    <tr>\n",
       "      <th>2</th>\n",
       "      <td>2020-01-24</td>\n",
       "      <td>Australia</td>\n",
       "      <td>0</td>\n",
       "      <td>1.6</td>\n",
       "    </tr>\n",
       "    <tr>\n",
       "      <th>3</th>\n",
       "      <td>2020-01-25</td>\n",
       "      <td>Australia</td>\n",
       "      <td>0</td>\n",
       "      <td>1.1</td>\n",
       "    </tr>\n",
       "    <tr>\n",
       "      <th>4</th>\n",
       "      <td>2020-01-26</td>\n",
       "      <td>Australia</td>\n",
       "      <td>4</td>\n",
       "      <td>1.4</td>\n",
       "    </tr>\n",
       "  </tbody>\n",
       "</table>\n",
       "</div>"
      ],
      "text/plain": [
       "        Date    Country  Active cases  Median so2\n",
       "0 2020-01-22  Australia             0         1.5\n",
       "1 2020-01-23  Australia             0         1.5\n",
       "2 2020-01-24  Australia             0         1.6\n",
       "3 2020-01-25  Australia             0         1.1\n",
       "4 2020-01-26  Australia             4         1.4"
      ]
     },
     "execution_count": 31,
     "metadata": {},
     "output_type": "execute_result"
    }
   ],
   "source": [
    "# Create a merged data frame for median SO2 data and covid active cases for Australia based on shared date\n",
    "\n",
    "au_air_covid_so2 = world_air_covid_each_specie(airdf=au_air_df, specie=\"so2\", covid_df=active_au_covid)\n",
    "au_air_covid_so2.head()"
   ]
  },
  {
   "cell_type": "code",
   "execution_count": 32,
   "metadata": {},
   "outputs": [
    {
     "name": "stdout",
     "output_type": "stream",
     "text": [
      "The correlation coefficient is: -0.384509094238364\n",
      "The r-squared is: 0.14784724355200707\n"
     ]
    },
    {
     "data": {
      "image/png": "[encoded data removed]",
      "text/plain": [
       "<Figure size 432x288 with 1 Axes>"
      ]
     },
     "metadata": {
      "needs_background": "light"
     },
     "output_type": "display_data"
    }
   ],
   "source": [
    "# Perform a linear regression model for the Number of Active cases vs Median SO2 values\n",
    "\n",
    "linear_regression_plot(au_air_covid_so2, \"Active cases\", \"Median so2\", \"au_air_covid_so2\",\n",
    "                       \"Number of active cases vs Median SO2 level in Australia 2020H1\")"
   ]
  },
  {
   "cell_type": "markdown",
   "metadata": {},
   "source": [
    "* There is a weak negative correlation between number of active covid cases and median SO2 values in Australia in 2020H1.\n",
    "* The r-squared value tells us that 14.8% of the variability in the median SO2 values in Australia in 2020H1 could be explained by the linear regression model (i.e. the change in the number of active cases in 2020H1)."
   ]
  },
  {
   "cell_type": "markdown",
   "metadata": {},
   "source": [
    "## How has change in Covid-19 active cases correlated with change in India's air quality in 2020H1?"
   ]
  },
  {
   "cell_type": "code",
   "execution_count": 33,
   "metadata": {},
   "outputs": [
    {
     "data": {
      "text/html": [
       "<div>\n",
       "<style scoped>\n",
       "    .dataframe tbody tr th:only-of-type {\n",
       "        vertical-align: middle;\n",
       "    }\n",
       "\n",
       "    .dataframe tbody tr th {\n",
       "        vertical-align: top;\n",
       "    }\n",
       "\n",
       "    .dataframe thead th {\n",
       "        text-align: right;\n",
       "    }\n",
       "</style>\n",
       "<table border=\"1\" class=\"dataframe\">\n",
       "  <thead>\n",
       "    <tr style=\"text-align: right;\">\n",
       "      <th></th>\n",
       "      <th>Date</th>\n",
       "      <th>Country_code</th>\n",
       "      <th>City</th>\n",
       "      <th>Specie</th>\n",
       "      <th>count</th>\n",
       "      <th>min</th>\n",
       "      <th>max</th>\n",
       "      <th>median</th>\n",
       "      <th>variance</th>\n",
       "      <th>Country_name</th>\n",
       "    </tr>\n",
       "  </thead>\n",
       "  <tbody>\n",
       "    <tr>\n",
       "      <th>1220811</th>\n",
       "      <td>2020-02-24</td>\n",
       "      <td>IN</td>\n",
       "      <td>Thrissur</td>\n",
       "      <td>co</td>\n",
       "      <td>24</td>\n",
       "      <td>2.1</td>\n",
       "      <td>11.2</td>\n",
       "      <td>5.3</td>\n",
       "      <td>58.36</td>\n",
       "      <td>India</td>\n",
       "    </tr>\n",
       "    <tr>\n",
       "      <th>1220812</th>\n",
       "      <td>2020-04-07</td>\n",
       "      <td>IN</td>\n",
       "      <td>Thrissur</td>\n",
       "      <td>co</td>\n",
       "      <td>72</td>\n",
       "      <td>2.3</td>\n",
       "      <td>13.6</td>\n",
       "      <td>8.1</td>\n",
       "      <td>131.11</td>\n",
       "      <td>India</td>\n",
       "    </tr>\n",
       "    <tr>\n",
       "      <th>1220813</th>\n",
       "      <td>2020-04-24</td>\n",
       "      <td>IN</td>\n",
       "      <td>Thrissur</td>\n",
       "      <td>co</td>\n",
       "      <td>67</td>\n",
       "      <td>1.4</td>\n",
       "      <td>12.2</td>\n",
       "      <td>9.2</td>\n",
       "      <td>126.02</td>\n",
       "      <td>India</td>\n",
       "    </tr>\n",
       "    <tr>\n",
       "      <th>1220814</th>\n",
       "      <td>2020-06-05</td>\n",
       "      <td>IN</td>\n",
       "      <td>Thrissur</td>\n",
       "      <td>co</td>\n",
       "      <td>72</td>\n",
       "      <td>0.7</td>\n",
       "      <td>26.8</td>\n",
       "      <td>14.1</td>\n",
       "      <td>532.05</td>\n",
       "      <td>India</td>\n",
       "    </tr>\n",
       "    <tr>\n",
       "      <th>1220815</th>\n",
       "      <td>2020-06-13</td>\n",
       "      <td>IN</td>\n",
       "      <td>Thrissur</td>\n",
       "      <td>co</td>\n",
       "      <td>72</td>\n",
       "      <td>0.3</td>\n",
       "      <td>30.3</td>\n",
       "      <td>15.0</td>\n",
       "      <td>671.30</td>\n",
       "      <td>India</td>\n",
       "    </tr>\n",
       "  </tbody>\n",
       "</table>\n",
       "</div>"
      ],
      "text/plain": [
       "              Date Country_code      City Specie  count  min   max  median  \\\n",
       "1220811 2020-02-24           IN  Thrissur     co     24  2.1  11.2     5.3   \n",
       "1220812 2020-04-07           IN  Thrissur     co     72  2.3  13.6     8.1   \n",
       "1220813 2020-04-24           IN  Thrissur     co     67  1.4  12.2     9.2   \n",
       "1220814 2020-06-05           IN  Thrissur     co     72  0.7  26.8    14.1   \n",
       "1220815 2020-06-13           IN  Thrissur     co     72  0.3  30.3    15.0   \n",
       "\n",
       "         variance Country_name  \n",
       "1220811     58.36        India  \n",
       "1220812    131.11        India  \n",
       "1220813    126.02        India  \n",
       "1220814    532.05        India  \n",
       "1220815    671.30        India  "
      ]
     },
     "execution_count": 33,
     "metadata": {},
     "output_type": "execute_result"
    }
   ],
   "source": [
    "# Filter the air data for India\n",
    "in_air_df = world_air[world_air[\"Country_code\"]==\"IN\"].copy()\n",
    "in_air_df.head()"
   ]
  },
  {
   "cell_type": "code",
   "execution_count": 34,
   "metadata": {},
   "outputs": [
    {
     "data": {
      "text/html": [
       "<div>\n",
       "<style scoped>\n",
       "    .dataframe tbody tr th:only-of-type {\n",
       "        vertical-align: middle;\n",
       "    }\n",
       "\n",
       "    .dataframe tbody tr th {\n",
       "        vertical-align: top;\n",
       "    }\n",
       "\n",
       "    .dataframe thead th {\n",
       "        text-align: right;\n",
       "    }\n",
       "</style>\n",
       "<table border=\"1\" class=\"dataframe\">\n",
       "  <thead>\n",
       "    <tr style=\"text-align: right;\">\n",
       "      <th></th>\n",
       "      <th>Date</th>\n",
       "      <th>Country</th>\n",
       "      <th>Active cases</th>\n",
       "      <th>Median pm25</th>\n",
       "    </tr>\n",
       "  </thead>\n",
       "  <tbody>\n",
       "    <tr>\n",
       "      <th>0</th>\n",
       "      <td>2020-01-22</td>\n",
       "      <td>India</td>\n",
       "      <td>0</td>\n",
       "      <td>153.0</td>\n",
       "    </tr>\n",
       "    <tr>\n",
       "      <th>1</th>\n",
       "      <td>2020-01-23</td>\n",
       "      <td>India</td>\n",
       "      <td>0</td>\n",
       "      <td>153.0</td>\n",
       "    </tr>\n",
       "    <tr>\n",
       "      <th>2</th>\n",
       "      <td>2020-01-24</td>\n",
       "      <td>India</td>\n",
       "      <td>0</td>\n",
       "      <td>154.0</td>\n",
       "    </tr>\n",
       "    <tr>\n",
       "      <th>3</th>\n",
       "      <td>2020-01-25</td>\n",
       "      <td>India</td>\n",
       "      <td>0</td>\n",
       "      <td>158.0</td>\n",
       "    </tr>\n",
       "    <tr>\n",
       "      <th>4</th>\n",
       "      <td>2020-01-26</td>\n",
       "      <td>India</td>\n",
       "      <td>0</td>\n",
       "      <td>159.0</td>\n",
       "    </tr>\n",
       "  </tbody>\n",
       "</table>\n",
       "</div>"
      ],
      "text/plain": [
       "        Date Country  Active cases  Median pm25\n",
       "0 2020-01-22   India             0        153.0\n",
       "1 2020-01-23   India             0        153.0\n",
       "2 2020-01-24   India             0        154.0\n",
       "3 2020-01-25   India             0        158.0\n",
       "4 2020-01-26   India             0        159.0"
      ]
     },
     "execution_count": 34,
     "metadata": {},
     "output_type": "execute_result"
    }
   ],
   "source": [
    "# Create a merged data frame for median PM2.5 data and covid active cases for India based on shared date\n",
    "\n",
    "in_air_covid_pm25 = world_air_covid_each_specie(airdf=in_air_df, specie=\"pm25\", covid_df=active_india_covid)\n",
    "in_air_covid_pm25.head()"
   ]
  },
  {
   "cell_type": "code",
   "execution_count": 35,
   "metadata": {},
   "outputs": [
    {
     "name": "stdout",
     "output_type": "stream",
     "text": [
      "The correlation coefficient is: -0.5590992737953021\n",
      "The r-squared is: 0.3125919979584342\n"
     ]
    },
    {
     "data": {
      "image/png": "[encoded data removed]",
      "text/plain": [
       "<Figure size 432x288 with 1 Axes>"
      ]
     },
     "metadata": {
      "needs_background": "light"
     },
     "output_type": "display_data"
    }
   ],
   "source": [
    "# Perform a linear regression model for the Number of Active cases vs Median PM2.5 values\n",
    "\n",
    "linear_regression_plot(in_air_covid_pm25, \"Active cases\", \"Median pm25\", \"in_air_covid_pm25\",\n",
    "                       \"Number of active cases vs Median PM2.5 level in India 2020H1\")"
   ]
  },
  {
   "cell_type": "markdown",
   "metadata": {},
   "source": [
    "* There is a moderate negative correlation between number of active covid cases and median PM2.5 values in India in 2020H1.\n",
    "* The r-squared value tells us that 31% of the variability in the median PM2.5 values in India in 2020H1 could be explained by the linear regression model (i.e. the change in the number of active cases in 2020H1)."
   ]
  },
  {
   "cell_type": "code",
   "execution_count": 36,
   "metadata": {},
   "outputs": [
    {
     "data": {
      "text/html": [
       "<div>\n",
       "<style scoped>\n",
       "    .dataframe tbody tr th:only-of-type {\n",
       "        vertical-align: middle;\n",
       "    }\n",
       "\n",
       "    .dataframe tbody tr th {\n",
       "        vertical-align: top;\n",
       "    }\n",
       "\n",
       "    .dataframe thead th {\n",
       "        text-align: right;\n",
       "    }\n",
       "</style>\n",
       "<table border=\"1\" class=\"dataframe\">\n",
       "  <thead>\n",
       "    <tr style=\"text-align: right;\">\n",
       "      <th></th>\n",
       "      <th>Date</th>\n",
       "      <th>Country</th>\n",
       "      <th>Active cases</th>\n",
       "      <th>Median no2</th>\n",
       "    </tr>\n",
       "  </thead>\n",
       "  <tbody>\n",
       "    <tr>\n",
       "      <th>0</th>\n",
       "      <td>2020-01-22</td>\n",
       "      <td>India</td>\n",
       "      <td>0</td>\n",
       "      <td>12.85</td>\n",
       "    </tr>\n",
       "    <tr>\n",
       "      <th>1</th>\n",
       "      <td>2020-01-23</td>\n",
       "      <td>India</td>\n",
       "      <td>0</td>\n",
       "      <td>12.60</td>\n",
       "    </tr>\n",
       "    <tr>\n",
       "      <th>2</th>\n",
       "      <td>2020-01-24</td>\n",
       "      <td>India</td>\n",
       "      <td>0</td>\n",
       "      <td>15.50</td>\n",
       "    </tr>\n",
       "    <tr>\n",
       "      <th>3</th>\n",
       "      <td>2020-01-25</td>\n",
       "      <td>India</td>\n",
       "      <td>0</td>\n",
       "      <td>17.45</td>\n",
       "    </tr>\n",
       "    <tr>\n",
       "      <th>4</th>\n",
       "      <td>2020-01-26</td>\n",
       "      <td>India</td>\n",
       "      <td>0</td>\n",
       "      <td>17.75</td>\n",
       "    </tr>\n",
       "  </tbody>\n",
       "</table>\n",
       "</div>"
      ],
      "text/plain": [
       "        Date Country  Active cases  Median no2\n",
       "0 2020-01-22   India             0       12.85\n",
       "1 2020-01-23   India             0       12.60\n",
       "2 2020-01-24   India             0       15.50\n",
       "3 2020-01-25   India             0       17.45\n",
       "4 2020-01-26   India             0       17.75"
      ]
     },
     "execution_count": 36,
     "metadata": {},
     "output_type": "execute_result"
    }
   ],
   "source": [
    "# Create a merged data frame for median NO2 data and covid active case data for India based on shared date\n",
    "\n",
    "in_air_covid_no2 = world_air_covid_each_specie(airdf=in_air_df, specie=\"no2\", covid_df=active_india_covid)\n",
    "in_air_covid_no2.head()"
   ]
  },
  {
   "cell_type": "code",
   "execution_count": 37,
   "metadata": {},
   "outputs": [
    {
     "name": "stdout",
     "output_type": "stream",
     "text": [
      "The correlation coefficient is: -0.5011354595928155\n",
      "The r-squared is: 0.2511367488613024\n"
     ]
    },
    {
     "data": {
      "image/png": "[encoded data removed]",
      "text/plain": [
       "<Figure size 432x288 with 1 Axes>"
      ]
     },
     "metadata": {
      "needs_background": "light"
     },
     "output_type": "display_data"
    }
   ],
   "source": [
    "# Perform a linear regression model for the Number of Active cases vs Median NO2 values\n",
    "\n",
    "linear_regression_plot(in_air_covid_no2, \"Active cases\", \"Median no2\", \"in_air_covid_no2\",\n",
    "                       \"Number of active cases vs Median NO2 level in India 2020H1\")"
   ]
  },
  {
   "cell_type": "markdown",
   "metadata": {},
   "source": [
    "* There is a moderate negative correlation between number of active covid cases and median NO2 values in India in 2020H1.\n",
    "* The r-squared value tells us that 25% of the variability in the median NO2 values in India in 2020H1 could be explained by the linear regression model (i.e. the change in the number of active cases in 2020H1)."
   ]
  },
  {
   "cell_type": "code",
   "execution_count": 38,
   "metadata": {},
   "outputs": [
    {
     "data": {
      "text/html": [
       "<div>\n",
       "<style scoped>\n",
       "    .dataframe tbody tr th:only-of-type {\n",
       "        vertical-align: middle;\n",
       "    }\n",
       "\n",
       "    .dataframe tbody tr th {\n",
       "        vertical-align: top;\n",
       "    }\n",
       "\n",
       "    .dataframe thead th {\n",
       "        text-align: right;\n",
       "    }\n",
       "</style>\n",
       "<table border=\"1\" class=\"dataframe\">\n",
       "  <thead>\n",
       "    <tr style=\"text-align: right;\">\n",
       "      <th></th>\n",
       "      <th>Date</th>\n",
       "      <th>Country</th>\n",
       "      <th>Active cases</th>\n",
       "      <th>Median pm10</th>\n",
       "    </tr>\n",
       "  </thead>\n",
       "  <tbody>\n",
       "    <tr>\n",
       "      <th>0</th>\n",
       "      <td>2020-01-22</td>\n",
       "      <td>India</td>\n",
       "      <td>0</td>\n",
       "      <td>77.0</td>\n",
       "    </tr>\n",
       "    <tr>\n",
       "      <th>1</th>\n",
       "      <td>2020-01-23</td>\n",
       "      <td>India</td>\n",
       "      <td>0</td>\n",
       "      <td>73.5</td>\n",
       "    </tr>\n",
       "    <tr>\n",
       "      <th>2</th>\n",
       "      <td>2020-01-24</td>\n",
       "      <td>India</td>\n",
       "      <td>0</td>\n",
       "      <td>79.5</td>\n",
       "    </tr>\n",
       "    <tr>\n",
       "      <th>3</th>\n",
       "      <td>2020-01-25</td>\n",
       "      <td>India</td>\n",
       "      <td>0</td>\n",
       "      <td>88.5</td>\n",
       "    </tr>\n",
       "    <tr>\n",
       "      <th>4</th>\n",
       "      <td>2020-01-26</td>\n",
       "      <td>India</td>\n",
       "      <td>0</td>\n",
       "      <td>88.5</td>\n",
       "    </tr>\n",
       "  </tbody>\n",
       "</table>\n",
       "</div>"
      ],
      "text/plain": [
       "        Date Country  Active cases  Median pm10\n",
       "0 2020-01-22   India             0         77.0\n",
       "1 2020-01-23   India             0         73.5\n",
       "2 2020-01-24   India             0         79.5\n",
       "3 2020-01-25   India             0         88.5\n",
       "4 2020-01-26   India             0         88.5"
      ]
     },
     "execution_count": 38,
     "metadata": {},
     "output_type": "execute_result"
    }
   ],
   "source": [
    "# Create a merged data frame for median PM10 data and covid active case data for India based on shared date\n",
    "\n",
    "in_air_covid_pm10 = world_air_covid_each_specie(airdf=in_air_df, specie=\"pm10\", covid_df=active_india_covid)\n",
    "in_air_covid_pm10.head()"
   ]
  },
  {
   "cell_type": "code",
   "execution_count": 39,
   "metadata": {},
   "outputs": [
    {
     "name": "stdout",
     "output_type": "stream",
     "text": [
      "The correlation coefficient is: -0.6328098339844632\n",
      "The r-squared is: 0.4004482859874439\n"
     ]
    },
    {
     "data": {
      "image/png": "[encoded data removed]",
      "text/plain": [
       "<Figure size 432x288 with 1 Axes>"
      ]
     },
     "metadata": {
      "needs_background": "light"
     },
     "output_type": "display_data"
    }
   ],
   "source": [
    "# Perform a linear regression model for the Number of Active cases vs Median PM10 values\n",
    "\n",
    "linear_regression_plot(in_air_covid_pm10, \"Active cases\", \"Median pm10\", \"in_air_covid_pm10\",\n",
    "                       \"Number of active cases vs Median PM10 level in India 2020H1\")"
   ]
  },
  {
   "cell_type": "markdown",
   "metadata": {},
   "source": [
    "* There is a moderate negative correlation between number of active covid cases and median PM10 values in India in 2020H1.\n",
    "* The r-squared value tells us that 40% of the variability in the median PM10 values in India in 2020H1 could be explained by the linear regression model (i.e. the change in the number of active cases in 2020H1)."
   ]
  },
  {
   "cell_type": "code",
   "execution_count": 40,
   "metadata": {},
   "outputs": [
    {
     "data": {
      "text/html": [
       "<div>\n",
       "<style scoped>\n",
       "    .dataframe tbody tr th:only-of-type {\n",
       "        vertical-align: middle;\n",
       "    }\n",
       "\n",
       "    .dataframe tbody tr th {\n",
       "        vertical-align: top;\n",
       "    }\n",
       "\n",
       "    .dataframe thead th {\n",
       "        text-align: right;\n",
       "    }\n",
       "</style>\n",
       "<table border=\"1\" class=\"dataframe\">\n",
       "  <thead>\n",
       "    <tr style=\"text-align: right;\">\n",
       "      <th></th>\n",
       "      <th>Date</th>\n",
       "      <th>Country</th>\n",
       "      <th>Active cases</th>\n",
       "      <th>Median o3</th>\n",
       "    </tr>\n",
       "  </thead>\n",
       "  <tbody>\n",
       "    <tr>\n",
       "      <th>0</th>\n",
       "      <td>2020-01-22</td>\n",
       "      <td>India</td>\n",
       "      <td>0</td>\n",
       "      <td>9.20</td>\n",
       "    </tr>\n",
       "    <tr>\n",
       "      <th>1</th>\n",
       "      <td>2020-01-23</td>\n",
       "      <td>India</td>\n",
       "      <td>0</td>\n",
       "      <td>10.35</td>\n",
       "    </tr>\n",
       "    <tr>\n",
       "      <th>2</th>\n",
       "      <td>2020-01-24</td>\n",
       "      <td>India</td>\n",
       "      <td>0</td>\n",
       "      <td>9.90</td>\n",
       "    </tr>\n",
       "    <tr>\n",
       "      <th>3</th>\n",
       "      <td>2020-01-25</td>\n",
       "      <td>India</td>\n",
       "      <td>0</td>\n",
       "      <td>7.90</td>\n",
       "    </tr>\n",
       "    <tr>\n",
       "      <th>4</th>\n",
       "      <td>2020-01-26</td>\n",
       "      <td>India</td>\n",
       "      <td>0</td>\n",
       "      <td>7.30</td>\n",
       "    </tr>\n",
       "  </tbody>\n",
       "</table>\n",
       "</div>"
      ],
      "text/plain": [
       "        Date Country  Active cases  Median o3\n",
       "0 2020-01-22   India             0       9.20\n",
       "1 2020-01-23   India             0      10.35\n",
       "2 2020-01-24   India             0       9.90\n",
       "3 2020-01-25   India             0       7.90\n",
       "4 2020-01-26   India             0       7.30"
      ]
     },
     "execution_count": 40,
     "metadata": {},
     "output_type": "execute_result"
    }
   ],
   "source": [
    "# Create a merged data frame for median O3 data and covid active case data for India based on shared date\n",
    "\n",
    "in_air_covid_o3 = world_air_covid_each_specie(airdf=in_air_df, specie=\"o3\", covid_df=active_india_covid)\n",
    "in_air_covid_o3.head()"
   ]
  },
  {
   "cell_type": "code",
   "execution_count": 41,
   "metadata": {},
   "outputs": [
    {
     "name": "stdout",
     "output_type": "stream",
     "text": [
      "The correlation coefficient is: -0.32558148446257373\n",
      "The r-squared is: 0.10600330302485314\n"
     ]
    },
    {
     "data": {
      "image/png": "[encoded data removed]",
      "text/plain": [
       "<Figure size 432x288 with 1 Axes>"
      ]
     },
     "metadata": {
      "needs_background": "light"
     },
     "output_type": "display_data"
    }
   ],
   "source": [
    "# Perform a linear regression model for the Number of Active cases vs Median O3 values\n",
    "\n",
    "linear_regression_plot(in_air_covid_o3, \"Active cases\", \"Median o3\", \"in_air_covid_o3\",\n",
    "                       \"Number of active cases vs Median O3 level in India 2020H1\")"
   ]
  },
  {
   "cell_type": "markdown",
   "metadata": {},
   "source": [
    "* There is a weak negative correlation between number of active covid cases and median O3 values in India in 2020H1.\n",
    "* The r-squared value tells us that only 10% of the variability in the median O3 values in India in 2020H1 could be explained by the linear regression model (i.e. the change in the number of active cases in 2020H1)."
   ]
  },
  {
   "cell_type": "code",
   "execution_count": 42,
   "metadata": {},
   "outputs": [
    {
     "data": {
      "text/html": [
       "<div>\n",
       "<style scoped>\n",
       "    .dataframe tbody tr th:only-of-type {\n",
       "        vertical-align: middle;\n",
       "    }\n",
       "\n",
       "    .dataframe tbody tr th {\n",
       "        vertical-align: top;\n",
       "    }\n",
       "\n",
       "    .dataframe thead th {\n",
       "        text-align: right;\n",
       "    }\n",
       "</style>\n",
       "<table border=\"1\" class=\"dataframe\">\n",
       "  <thead>\n",
       "    <tr style=\"text-align: right;\">\n",
       "      <th></th>\n",
       "      <th>Date</th>\n",
       "      <th>Country</th>\n",
       "      <th>Active cases</th>\n",
       "      <th>Median so2</th>\n",
       "    </tr>\n",
       "  </thead>\n",
       "  <tbody>\n",
       "    <tr>\n",
       "      <th>0</th>\n",
       "      <td>2020-01-22</td>\n",
       "      <td>India</td>\n",
       "      <td>0</td>\n",
       "      <td>4.55</td>\n",
       "    </tr>\n",
       "    <tr>\n",
       "      <th>1</th>\n",
       "      <td>2020-01-23</td>\n",
       "      <td>India</td>\n",
       "      <td>0</td>\n",
       "      <td>4.45</td>\n",
       "    </tr>\n",
       "    <tr>\n",
       "      <th>2</th>\n",
       "      <td>2020-01-24</td>\n",
       "      <td>India</td>\n",
       "      <td>0</td>\n",
       "      <td>4.40</td>\n",
       "    </tr>\n",
       "    <tr>\n",
       "      <th>3</th>\n",
       "      <td>2020-01-25</td>\n",
       "      <td>India</td>\n",
       "      <td>0</td>\n",
       "      <td>4.95</td>\n",
       "    </tr>\n",
       "    <tr>\n",
       "      <th>4</th>\n",
       "      <td>2020-01-26</td>\n",
       "      <td>India</td>\n",
       "      <td>0</td>\n",
       "      <td>4.75</td>\n",
       "    </tr>\n",
       "  </tbody>\n",
       "</table>\n",
       "</div>"
      ],
      "text/plain": [
       "        Date Country  Active cases  Median so2\n",
       "0 2020-01-22   India             0        4.55\n",
       "1 2020-01-23   India             0        4.45\n",
       "2 2020-01-24   India             0        4.40\n",
       "3 2020-01-25   India             0        4.95\n",
       "4 2020-01-26   India             0        4.75"
      ]
     },
     "execution_count": 42,
     "metadata": {},
     "output_type": "execute_result"
    }
   ],
   "source": [
    "# Create a merged data frame for median SO2 data and covid active case data for India based on shared date\n",
    "\n",
    "in_air_covid_so2 = world_air_covid_each_specie(airdf=in_air_df, specie=\"so2\", covid_df=active_india_covid)\n",
    "in_air_covid_so2.head()"
   ]
  },
  {
   "cell_type": "code",
   "execution_count": 43,
   "metadata": {},
   "outputs": [
    {
     "name": "stdout",
     "output_type": "stream",
     "text": [
      "The correlation coefficient is: -0.6216286293193106\n",
      "The r-squared is: 0.3864221527894049\n"
     ]
    },
    {
     "data": {
      "image/png": "[encoded data removed]",
      "text/plain": [
       "<Figure size 432x288 with 1 Axes>"
      ]
     },
     "metadata": {
      "needs_background": "light"
     },
     "output_type": "display_data"
    }
   ],
   "source": [
    "# Perform a linear regression model for the Number of Active cases vs Median SO2 values\n",
    "\n",
    "linear_regression_plot(in_air_covid_so2, \"Active cases\", \"Median so2\", \"in_air_covid_so2\",\n",
    "                       \"Number of active cases vs Median SO2 level in India 2020H1\")"
   ]
  },
  {
   "cell_type": "markdown",
   "metadata": {},
   "source": [
    "* There is a moderate negative correlation between number of active covid cases and median SO2 values in India in 2020H1.\n",
    "* The r-squared value tells us that 39% of the variability in the median SO2 values in India in 2020H1 could be explained by the linear regression model (i.e. the change in the number of active cases in 2020H1)."
   ]
  },
  {
   "cell_type": "code",
   "execution_count": 44,
   "metadata": {},
   "outputs": [
    {
     "data": {
      "text/html": [
       "<div>\n",
       "<style scoped>\n",
       "    .dataframe tbody tr th:only-of-type {\n",
       "        vertical-align: middle;\n",
       "    }\n",
       "\n",
       "    .dataframe tbody tr th {\n",
       "        vertical-align: top;\n",
       "    }\n",
       "\n",
       "    .dataframe thead th {\n",
       "        text-align: right;\n",
       "    }\n",
       "</style>\n",
       "<table border=\"1\" class=\"dataframe\">\n",
       "  <thead>\n",
       "    <tr style=\"text-align: right;\">\n",
       "      <th></th>\n",
       "      <th>Date</th>\n",
       "      <th>Country</th>\n",
       "      <th>Active cases</th>\n",
       "      <th>Median co</th>\n",
       "    </tr>\n",
       "  </thead>\n",
       "  <tbody>\n",
       "    <tr>\n",
       "      <th>0</th>\n",
       "      <td>2020-01-22</td>\n",
       "      <td>India</td>\n",
       "      <td>0</td>\n",
       "      <td>8.55</td>\n",
       "    </tr>\n",
       "    <tr>\n",
       "      <th>1</th>\n",
       "      <td>2020-01-23</td>\n",
       "      <td>India</td>\n",
       "      <td>0</td>\n",
       "      <td>7.50</td>\n",
       "    </tr>\n",
       "    <tr>\n",
       "      <th>2</th>\n",
       "      <td>2020-01-24</td>\n",
       "      <td>India</td>\n",
       "      <td>0</td>\n",
       "      <td>6.85</td>\n",
       "    </tr>\n",
       "    <tr>\n",
       "      <th>3</th>\n",
       "      <td>2020-01-25</td>\n",
       "      <td>India</td>\n",
       "      <td>0</td>\n",
       "      <td>8.95</td>\n",
       "    </tr>\n",
       "    <tr>\n",
       "      <th>4</th>\n",
       "      <td>2020-01-26</td>\n",
       "      <td>India</td>\n",
       "      <td>0</td>\n",
       "      <td>9.10</td>\n",
       "    </tr>\n",
       "  </tbody>\n",
       "</table>\n",
       "</div>"
      ],
      "text/plain": [
       "        Date Country  Active cases  Median co\n",
       "0 2020-01-22   India             0       8.55\n",
       "1 2020-01-23   India             0       7.50\n",
       "2 2020-01-24   India             0       6.85\n",
       "3 2020-01-25   India             0       8.95\n",
       "4 2020-01-26   India             0       9.10"
      ]
     },
     "execution_count": 44,
     "metadata": {},
     "output_type": "execute_result"
    }
   ],
   "source": [
    "# Create a merged data frame for median CO data and covid active case data for India based on shared date\n",
    "\n",
    "in_air_covid_co = world_air_covid_each_specie(airdf=in_air_df, specie=\"co\", covid_df=active_india_covid)\n",
    "in_air_covid_co.head()"
   ]
  },
  {
   "cell_type": "code",
   "execution_count": 45,
   "metadata": {},
   "outputs": [
    {
     "name": "stdout",
     "output_type": "stream",
     "text": [
      "The correlation coefficient is: -0.46327863178099465\n",
      "The r-squared is: 0.21462709066487043\n"
     ]
    },
    {
     "data": {
      "image/png": "[encoded data removed]",
      "text/plain": [
       "<Figure size 432x288 with 1 Axes>"
      ]
     },
     "metadata": {
      "needs_background": "light"
     },
     "output_type": "display_data"
    }
   ],
   "source": [
    "# Perform a linear regression model for the Number of Active cases vs Median CO values\n",
    "\n",
    "linear_regression_plot(in_air_covid_co, \"Active cases\", \"Median co\", \"in_air_covid_co\",\n",
    "                       \"Number of active cases vs Median CO level in India 2020H1\")"
   ]
  },
  {
   "cell_type": "markdown",
   "metadata": {},
   "source": [
    "* There is a weak negative correlation between number of active covid cases and median CO values in India in 2020H1.\n",
    "* The r-squared value tells us that 21% of the variability in the median CO values in India in 2020H1 could be explained by the linear regression model (i.e. the change in the number of active cases in 2020H1)."
   ]
  },
  {
   "cell_type": "markdown",
   "metadata": {},
   "source": [
    "> Comparing the correlations between the number of Covid-19 active cases and the median values of the air pollutant between Australia and India, it seems that Covid-19 has had somewhat larger impact on the air quality of India than Australia. While most of the correlations between the number of covid active cases and median values of the air pollutants in Australia are weak or non-existent, most of those in India are moderate. This could be explained by the fact that in normal situations, the air quality of India is generally much worse than that of Australia. Hence, the impact of lockdowns from Covid-19 would lead to more change in air quality in India."
   ]
  },
  {
   "cell_type": "markdown",
   "metadata": {},
   "source": [
    "## How has change in Covid-19 active cases correlated with change in the world's air quality in 2020H1?"
   ]
  },
  {
   "cell_type": "markdown",
   "metadata": {},
   "source": [
    "The world here means the 88 countries as explained in the data exploration notebook."
   ]
  },
  {
   "cell_type": "code",
   "execution_count": 46,
   "metadata": {},
   "outputs": [
    {
     "data": {
      "text/html": [
       "<div>\n",
       "<style scoped>\n",
       "    .dataframe tbody tr th:only-of-type {\n",
       "        vertical-align: middle;\n",
       "    }\n",
       "\n",
       "    .dataframe tbody tr th {\n",
       "        vertical-align: top;\n",
       "    }\n",
       "\n",
       "    .dataframe thead th {\n",
       "        text-align: right;\n",
       "    }\n",
       "</style>\n",
       "<table border=\"1\" class=\"dataframe\">\n",
       "  <thead>\n",
       "    <tr style=\"text-align: right;\">\n",
       "      <th></th>\n",
       "      <th>Date</th>\n",
       "      <th>Total active cases</th>\n",
       "      <th>Median pm25</th>\n",
       "    </tr>\n",
       "  </thead>\n",
       "  <tbody>\n",
       "    <tr>\n",
       "      <th>0</th>\n",
       "      <td>2020-01-22</td>\n",
       "      <td>510</td>\n",
       "      <td>62.75</td>\n",
       "    </tr>\n",
       "    <tr>\n",
       "      <th>1</th>\n",
       "      <td>2020-01-23</td>\n",
       "      <td>606</td>\n",
       "      <td>68.00</td>\n",
       "    </tr>\n",
       "    <tr>\n",
       "      <th>2</th>\n",
       "      <td>2020-01-24</td>\n",
       "      <td>879</td>\n",
       "      <td>66.25</td>\n",
       "    </tr>\n",
       "    <tr>\n",
       "      <th>3</th>\n",
       "      <td>2020-01-25</td>\n",
       "      <td>1350</td>\n",
       "      <td>66.00</td>\n",
       "    </tr>\n",
       "    <tr>\n",
       "      <th>4</th>\n",
       "      <td>2020-01-26</td>\n",
       "      <td>2005</td>\n",
       "      <td>65.25</td>\n",
       "    </tr>\n",
       "  </tbody>\n",
       "</table>\n",
       "</div>"
      ],
      "text/plain": [
       "        Date  Total active cases  Median pm25\n",
       "0 2020-01-22                 510        62.75\n",
       "1 2020-01-23                 606        68.00\n",
       "2 2020-01-24                 879        66.25\n",
       "3 2020-01-25                1350        66.00\n",
       "4 2020-01-26                2005        65.25"
      ]
     },
     "execution_count": 46,
     "metadata": {},
     "output_type": "execute_result"
    }
   ],
   "source": [
    "# Create a merged data frame for median PM2.5 data and covid active case data for the world based on shared date\n",
    "\n",
    "world_air_covid_median_pm25 = world_air_covid_each_specie(world_air, \"pm25\", active_world_covid)\n",
    "world_air_covid_median_pm25.head()"
   ]
  },
  {
   "cell_type": "code",
   "execution_count": 47,
   "metadata": {},
   "outputs": [
    {
     "name": "stdout",
     "output_type": "stream",
     "text": [
      "The correlation coefficient is: -0.7629165783871087\n",
      "The r-squared is: 0.5820417055778934\n"
     ]
    },
    {
     "data": {
      "image/png": "[encoded data removed]",
      "text/plain": [
       "<Figure size 432x288 with 1 Axes>"
      ]
     },
     "metadata": {
      "needs_background": "light"
     },
     "output_type": "display_data"
    }
   ],
   "source": [
    "# Perform a linear regression model for the Number of Active cases vs Median PM2.5 values\n",
    "\n",
    "linear_regression_plot(world_air_covid_median_pm25, \"Total active cases\", \"Median pm25\", \"world_air_covid_median_pm25\",\n",
    "                       \"World total active cases vs Median PM2.5 level in 2020H1\")"
   ]
  },
  {
   "cell_type": "markdown",
   "metadata": {},
   "source": [
    "* There is a strong negative correlation between number of active covid cases and median PM2.5 values in the 88 countries in 2020H1.\n",
    "* The r-squared value tells us that 58% of the variability in the median PM2.5 values in the 88 countries in 2020H1 could be explained by the linear regression model (i.e. the change in the number of active cases in 2020H1)."
   ]
  },
  {
   "cell_type": "code",
   "execution_count": 48,
   "metadata": {},
   "outputs": [
    {
     "data": {
      "text/html": [
       "<div>\n",
       "<style scoped>\n",
       "    .dataframe tbody tr th:only-of-type {\n",
       "        vertical-align: middle;\n",
       "    }\n",
       "\n",
       "    .dataframe tbody tr th {\n",
       "        vertical-align: top;\n",
       "    }\n",
       "\n",
       "    .dataframe thead th {\n",
       "        text-align: right;\n",
       "    }\n",
       "</style>\n",
       "<table border=\"1\" class=\"dataframe\">\n",
       "  <thead>\n",
       "    <tr style=\"text-align: right;\">\n",
       "      <th></th>\n",
       "      <th>Date</th>\n",
       "      <th>Total active cases</th>\n",
       "      <th>Median pm10</th>\n",
       "    </tr>\n",
       "  </thead>\n",
       "  <tbody>\n",
       "    <tr>\n",
       "      <th>0</th>\n",
       "      <td>2020-01-22</td>\n",
       "      <td>510</td>\n",
       "      <td>28.0</td>\n",
       "    </tr>\n",
       "    <tr>\n",
       "      <th>1</th>\n",
       "      <td>2020-01-23</td>\n",
       "      <td>606</td>\n",
       "      <td>26.0</td>\n",
       "    </tr>\n",
       "    <tr>\n",
       "      <th>2</th>\n",
       "      <td>2020-01-24</td>\n",
       "      <td>879</td>\n",
       "      <td>29.0</td>\n",
       "    </tr>\n",
       "    <tr>\n",
       "      <th>3</th>\n",
       "      <td>2020-01-25</td>\n",
       "      <td>1350</td>\n",
       "      <td>28.0</td>\n",
       "    </tr>\n",
       "    <tr>\n",
       "      <th>4</th>\n",
       "      <td>2020-01-26</td>\n",
       "      <td>2005</td>\n",
       "      <td>24.0</td>\n",
       "    </tr>\n",
       "  </tbody>\n",
       "</table>\n",
       "</div>"
      ],
      "text/plain": [
       "        Date  Total active cases  Median pm10\n",
       "0 2020-01-22                 510         28.0\n",
       "1 2020-01-23                 606         26.0\n",
       "2 2020-01-24                 879         29.0\n",
       "3 2020-01-25                1350         28.0\n",
       "4 2020-01-26                2005         24.0"
      ]
     },
     "execution_count": 48,
     "metadata": {},
     "output_type": "execute_result"
    }
   ],
   "source": [
    "# Create a merged data frame for median PM10 data and covid active case data for the world based on shared date\n",
    "\n",
    "world_air_covid_median_pm10 = world_air_covid_each_specie(world_air, \"pm10\", active_world_covid)\n",
    "world_air_covid_median_pm10.head()"
   ]
  },
  {
   "cell_type": "code",
   "execution_count": 49,
   "metadata": {},
   "outputs": [
    {
     "name": "stdout",
     "output_type": "stream",
     "text": [
      "The correlation coefficient is: -0.5067582713167661\n",
      "The r-squared is: 0.2568039455479571\n"
     ]
    },
    {
     "data": {
      "image/png": "[encoded data removed]",
      "text/plain": [
       "<Figure size 432x288 with 1 Axes>"
      ]
     },
     "metadata": {
      "needs_background": "light"
     },
     "output_type": "display_data"
    }
   ],
   "source": [
    "# Perform a linear regression model for the Number of Active cases vs Median PM10 values\n",
    "\n",
    "linear_regression_plot(world_air_covid_median_pm10, \"Total active cases\", \"Median pm10\", \"world_air_covid_median_pm10\",\n",
    "                       \"World total active cases vs Median PM10 level in 2020H1\")"
   ]
  },
  {
   "cell_type": "markdown",
   "metadata": {},
   "source": [
    "* There is a moderate negative correlation between number of active covid cases and median PM10 values in the 88 countries in 2020H1.\n",
    "* The r-squared value tells us that 25.7% of the variability in the median PM10 values in the 88 countries in 2020H1 could be explained by the linear regression model (i.e. the change in the number of active cases in 2020H1)."
   ]
  },
  {
   "cell_type": "code",
   "execution_count": 50,
   "metadata": {},
   "outputs": [
    {
     "data": {
      "text/html": [
       "<div>\n",
       "<style scoped>\n",
       "    .dataframe tbody tr th:only-of-type {\n",
       "        vertical-align: middle;\n",
       "    }\n",
       "\n",
       "    .dataframe tbody tr th {\n",
       "        vertical-align: top;\n",
       "    }\n",
       "\n",
       "    .dataframe thead th {\n",
       "        text-align: right;\n",
       "    }\n",
       "</style>\n",
       "<table border=\"1\" class=\"dataframe\">\n",
       "  <thead>\n",
       "    <tr style=\"text-align: right;\">\n",
       "      <th></th>\n",
       "      <th>Date</th>\n",
       "      <th>Total active cases</th>\n",
       "      <th>Median co</th>\n",
       "    </tr>\n",
       "  </thead>\n",
       "  <tbody>\n",
       "    <tr>\n",
       "      <th>0</th>\n",
       "      <td>2020-01-22</td>\n",
       "      <td>510</td>\n",
       "      <td>3.85</td>\n",
       "    </tr>\n",
       "    <tr>\n",
       "      <th>1</th>\n",
       "      <td>2020-01-23</td>\n",
       "      <td>606</td>\n",
       "      <td>4.10</td>\n",
       "    </tr>\n",
       "    <tr>\n",
       "      <th>2</th>\n",
       "      <td>2020-01-24</td>\n",
       "      <td>879</td>\n",
       "      <td>4.50</td>\n",
       "    </tr>\n",
       "    <tr>\n",
       "      <th>3</th>\n",
       "      <td>2020-01-25</td>\n",
       "      <td>1350</td>\n",
       "      <td>3.70</td>\n",
       "    </tr>\n",
       "    <tr>\n",
       "      <th>4</th>\n",
       "      <td>2020-01-26</td>\n",
       "      <td>2005</td>\n",
       "      <td>3.20</td>\n",
       "    </tr>\n",
       "  </tbody>\n",
       "</table>\n",
       "</div>"
      ],
      "text/plain": [
       "        Date  Total active cases  Median co\n",
       "0 2020-01-22                 510       3.85\n",
       "1 2020-01-23                 606       4.10\n",
       "2 2020-01-24                 879       4.50\n",
       "3 2020-01-25                1350       3.70\n",
       "4 2020-01-26                2005       3.20"
      ]
     },
     "execution_count": 50,
     "metadata": {},
     "output_type": "execute_result"
    }
   ],
   "source": [
    "# Create a merged data frame for median CO data and covid active case data for the world based on shared date\n",
    "\n",
    "world_air_covid_median_co = world_air_covid_each_specie(world_air, \"co\", active_world_covid)\n",
    "world_air_covid_median_co.head()"
   ]
  },
  {
   "cell_type": "code",
   "execution_count": 51,
   "metadata": {},
   "outputs": [
    {
     "name": "stdout",
     "output_type": "stream",
     "text": [
      "The correlation coefficient is: -0.5012135612584958\n",
      "The r-squared is: 0.2512150339894239\n"
     ]
    },
    {
     "data": {
      "image/png": "[encoded data removed]",
      "text/plain": [
       "<Figure size 432x288 with 1 Axes>"
      ]
     },
     "metadata": {
      "needs_background": "light"
     },
     "output_type": "display_data"
    }
   ],
   "source": [
    "# Perform a linear regression model for the Number of Active cases vs Median CO values\n",
    "\n",
    "linear_regression_plot(world_air_covid_median_co, \"Total active cases\", \"Median co\", \"world_air_covid_median_co\",\n",
    "                       \"World total active cases vs Median CO level in 2020H1\")"
   ]
  },
  {
   "cell_type": "markdown",
   "metadata": {},
   "source": [
    "* There is a moderate negative correlation between number of active covid cases and median CO values in the 88 countries in 2020H1.\n",
    "* The r-squared value tells us that 25% of the variability in the median CO values in the 88 countries in 2020H1 could be explained by the linear regression model (i.e. the change in the number of active cases in 2020H1)."
   ]
  },
  {
   "cell_type": "code",
   "execution_count": 52,
   "metadata": {},
   "outputs": [
    {
     "data": {
      "text/html": [
       "<div>\n",
       "<style scoped>\n",
       "    .dataframe tbody tr th:only-of-type {\n",
       "        vertical-align: middle;\n",
       "    }\n",
       "\n",
       "    .dataframe tbody tr th {\n",
       "        vertical-align: top;\n",
       "    }\n",
       "\n",
       "    .dataframe thead th {\n",
       "        text-align: right;\n",
       "    }\n",
       "</style>\n",
       "<table border=\"1\" class=\"dataframe\">\n",
       "  <thead>\n",
       "    <tr style=\"text-align: right;\">\n",
       "      <th></th>\n",
       "      <th>Date</th>\n",
       "      <th>Total active cases</th>\n",
       "      <th>Median no2</th>\n",
       "    </tr>\n",
       "  </thead>\n",
       "  <tbody>\n",
       "    <tr>\n",
       "      <th>0</th>\n",
       "      <td>2020-01-22</td>\n",
       "      <td>510</td>\n",
       "      <td>12.850</td>\n",
       "    </tr>\n",
       "    <tr>\n",
       "      <th>1</th>\n",
       "      <td>2020-01-23</td>\n",
       "      <td>606</td>\n",
       "      <td>12.700</td>\n",
       "    </tr>\n",
       "    <tr>\n",
       "      <th>2</th>\n",
       "      <td>2020-01-24</td>\n",
       "      <td>879</td>\n",
       "      <td>10.875</td>\n",
       "    </tr>\n",
       "    <tr>\n",
       "      <th>3</th>\n",
       "      <td>2020-01-25</td>\n",
       "      <td>1350</td>\n",
       "      <td>9.800</td>\n",
       "    </tr>\n",
       "    <tr>\n",
       "      <th>4</th>\n",
       "      <td>2020-01-26</td>\n",
       "      <td>2005</td>\n",
       "      <td>8.700</td>\n",
       "    </tr>\n",
       "  </tbody>\n",
       "</table>\n",
       "</div>"
      ],
      "text/plain": [
       "        Date  Total active cases  Median no2\n",
       "0 2020-01-22                 510      12.850\n",
       "1 2020-01-23                 606      12.700\n",
       "2 2020-01-24                 879      10.875\n",
       "3 2020-01-25                1350       9.800\n",
       "4 2020-01-26                2005       8.700"
      ]
     },
     "execution_count": 52,
     "metadata": {},
     "output_type": "execute_result"
    }
   ],
   "source": [
    "# Create a merged data frame for median NO2 data and covid active case data for the world based on shared date\n",
    "\n",
    "world_air_covid_median_no2 = world_air_covid_each_specie(world_air, \"no2\", active_world_covid)\n",
    "world_air_covid_median_no2.head()"
   ]
  },
  {
   "cell_type": "code",
   "execution_count": 53,
   "metadata": {},
   "outputs": [
    {
     "name": "stdout",
     "output_type": "stream",
     "text": [
      "The correlation coefficient is: -0.5844896343454943\n",
      "The r-squared is: 0.3416281326573296\n"
     ]
    },
    {
     "data": {
      "image/png": "[encoded data removed]",
      "text/plain": [
       "<Figure size 432x288 with 1 Axes>"
      ]
     },
     "metadata": {
      "needs_background": "light"
     },
     "output_type": "display_data"
    }
   ],
   "source": [
    "# Perform a linear regression model for the Number of Active cases vs Median NO2 values\n",
    "\n",
    "linear_regression_plot(world_air_covid_median_no2, \"Total active cases\", \"Median no2\", \"world_air_covid_median_no2\",\n",
    "                       \"World total active cases vs Median NO2 level in 2020H1\")"
   ]
  },
  {
   "cell_type": "markdown",
   "metadata": {},
   "source": [
    "* There is a moderate negative correlation between number of active covid cases and median NO2 values in the 88 countries in 2020H1.\n",
    "* The r-squared value tells us that 34% of the variability in the median NO2 values in the 88 countries in 2020H1 could be explained by the linear regression model (i.e. the change in the number of active cases in 2020H1)."
   ]
  },
  {
   "cell_type": "code",
   "execution_count": 54,
   "metadata": {},
   "outputs": [
    {
     "data": {
      "text/html": [
       "<div>\n",
       "<style scoped>\n",
       "    .dataframe tbody tr th:only-of-type {\n",
       "        vertical-align: middle;\n",
       "    }\n",
       "\n",
       "    .dataframe tbody tr th {\n",
       "        vertical-align: top;\n",
       "    }\n",
       "\n",
       "    .dataframe thead th {\n",
       "        text-align: right;\n",
       "    }\n",
       "</style>\n",
       "<table border=\"1\" class=\"dataframe\">\n",
       "  <thead>\n",
       "    <tr style=\"text-align: right;\">\n",
       "      <th></th>\n",
       "      <th>Date</th>\n",
       "      <th>Total active cases</th>\n",
       "      <th>Median so2</th>\n",
       "    </tr>\n",
       "  </thead>\n",
       "  <tbody>\n",
       "    <tr>\n",
       "      <th>0</th>\n",
       "      <td>2020-01-22</td>\n",
       "      <td>510</td>\n",
       "      <td>2.00</td>\n",
       "    </tr>\n",
       "    <tr>\n",
       "      <th>1</th>\n",
       "      <td>2020-01-23</td>\n",
       "      <td>606</td>\n",
       "      <td>2.10</td>\n",
       "    </tr>\n",
       "    <tr>\n",
       "      <th>2</th>\n",
       "      <td>2020-01-24</td>\n",
       "      <td>879</td>\n",
       "      <td>2.15</td>\n",
       "    </tr>\n",
       "    <tr>\n",
       "      <th>3</th>\n",
       "      <td>2020-01-25</td>\n",
       "      <td>1350</td>\n",
       "      <td>2.15</td>\n",
       "    </tr>\n",
       "    <tr>\n",
       "      <th>4</th>\n",
       "      <td>2020-01-26</td>\n",
       "      <td>2005</td>\n",
       "      <td>2.00</td>\n",
       "    </tr>\n",
       "  </tbody>\n",
       "</table>\n",
       "</div>"
      ],
      "text/plain": [
       "        Date  Total active cases  Median so2\n",
       "0 2020-01-22                 510        2.00\n",
       "1 2020-01-23                 606        2.10\n",
       "2 2020-01-24                 879        2.15\n",
       "3 2020-01-25                1350        2.15\n",
       "4 2020-01-26                2005        2.00"
      ]
     },
     "execution_count": 54,
     "metadata": {},
     "output_type": "execute_result"
    }
   ],
   "source": [
    "# Create a merged data frame for median SO2 data and covid active case data for the world based on shared date\n",
    "\n",
    "world_air_covid_median_so2 = world_air_covid_each_specie(world_air, \"so2\", active_world_covid)\n",
    "world_air_covid_median_so2.head()"
   ]
  },
  {
   "cell_type": "code",
   "execution_count": 55,
   "metadata": {},
   "outputs": [
    {
     "name": "stdout",
     "output_type": "stream",
     "text": [
      "The correlation coefficient is: -0.5795984066016522\n",
      "The r-squared is: 0.3359343129351741\n"
     ]
    },
    {
     "data": {
      "image/png": "[encoded data removed]",
      "text/plain": [
       "<Figure size 432x288 with 1 Axes>"
      ]
     },
     "metadata": {
      "needs_background": "light"
     },
     "output_type": "display_data"
    }
   ],
   "source": [
    "# Perform a linear regression model for the Number of Active cases vs Median SO2 values\n",
    "\n",
    "linear_regression_plot(world_air_covid_median_so2, \"Total active cases\", \"Median so2\", \"world_air_covid_median_so2\",\n",
    "                       \"World total active cases vs Median SO2 level in 2020H1\")"
   ]
  },
  {
   "cell_type": "markdown",
   "metadata": {},
   "source": [
    "* There is a moderate negative correlation between number of active covid cases and median SO2 values in the 88 countries in 2020H1.\n",
    "* The r-squared value tells us that 33.6% of the variability in the median SO2 values in the 88 countries in 2020H1 could be explained by the linear regression model (i.e. the change in the number of active cases in 2020H1)."
   ]
  },
  {
   "cell_type": "code",
   "execution_count": 56,
   "metadata": {},
   "outputs": [
    {
     "data": {
      "text/html": [
       "<div>\n",
       "<style scoped>\n",
       "    .dataframe tbody tr th:only-of-type {\n",
       "        vertical-align: middle;\n",
       "    }\n",
       "\n",
       "    .dataframe tbody tr th {\n",
       "        vertical-align: top;\n",
       "    }\n",
       "\n",
       "    .dataframe thead th {\n",
       "        text-align: right;\n",
       "    }\n",
       "</style>\n",
       "<table border=\"1\" class=\"dataframe\">\n",
       "  <thead>\n",
       "    <tr style=\"text-align: right;\">\n",
       "      <th></th>\n",
       "      <th>Date</th>\n",
       "      <th>Total active cases</th>\n",
       "      <th>Median o3</th>\n",
       "    </tr>\n",
       "  </thead>\n",
       "  <tbody>\n",
       "    <tr>\n",
       "      <th>0</th>\n",
       "      <td>2020-01-22</td>\n",
       "      <td>510</td>\n",
       "      <td>11.900</td>\n",
       "    </tr>\n",
       "    <tr>\n",
       "      <th>1</th>\n",
       "      <td>2020-01-23</td>\n",
       "      <td>606</td>\n",
       "      <td>10.400</td>\n",
       "    </tr>\n",
       "    <tr>\n",
       "      <th>2</th>\n",
       "      <td>2020-01-24</td>\n",
       "      <td>879</td>\n",
       "      <td>12.250</td>\n",
       "    </tr>\n",
       "    <tr>\n",
       "      <th>3</th>\n",
       "      <td>2020-01-25</td>\n",
       "      <td>1350</td>\n",
       "      <td>12.725</td>\n",
       "    </tr>\n",
       "    <tr>\n",
       "      <th>4</th>\n",
       "      <td>2020-01-26</td>\n",
       "      <td>2005</td>\n",
       "      <td>12.900</td>\n",
       "    </tr>\n",
       "  </tbody>\n",
       "</table>\n",
       "</div>"
      ],
      "text/plain": [
       "        Date  Total active cases  Median o3\n",
       "0 2020-01-22                 510     11.900\n",
       "1 2020-01-23                 606     10.400\n",
       "2 2020-01-24                 879     12.250\n",
       "3 2020-01-25                1350     12.725\n",
       "4 2020-01-26                2005     12.900"
      ]
     },
     "execution_count": 56,
     "metadata": {},
     "output_type": "execute_result"
    }
   ],
   "source": [
    "# Create a merged data frame for median O3 data and covid active case data for the world based on shared date\n",
    "\n",
    "world_air_covid_median_o3 = world_air_covid_each_specie(world_air, \"o3\", active_world_covid)\n",
    "world_air_covid_median_o3.head()"
   ]
  },
  {
   "cell_type": "code",
   "execution_count": 57,
   "metadata": {},
   "outputs": [
    {
     "name": "stdout",
     "output_type": "stream",
     "text": [
      "The correlation coefficient is: 0.4355713621454461\n",
      "The r-squared is: 0.18972241152123936\n"
     ]
    },
    {
     "data": {
      "image/png": "[encoded data removed]",
      "text/plain": [
       "<Figure size 432x288 with 1 Axes>"
      ]
     },
     "metadata": {
      "needs_background": "light"
     },
     "output_type": "display_data"
    }
   ],
   "source": [
    "# Perform a linear regression model for the Number of Active cases vs Median O3 values\n",
    "\n",
    "linear_regression_plot(world_air_covid_median_o3, \"Total active cases\", \"Median o3\", \"world_air_covid_median_o3\",\n",
    "                       \"World total active cases vs Median O3 level in 2020H1\")"
   ]
  },
  {
   "cell_type": "markdown",
   "metadata": {},
   "source": [
    "* There is a weak positive correlation between number of active covid cases and median O3 values in the 88 countries in 2020H1.\n",
    "* The r-squared value tells us that 19% of the variability in the median O3 values in the 88 countries in 2020H1 could be explained by the linear regression model (i.e. the change in the number of active cases in 2020H1)."
   ]
  },
  {
   "cell_type": "markdown",
   "metadata": {},
   "source": [
    "> In summary, most of the correlations between the number of active covid cases and median values of the air pollutants in the 88 countries in 2020H1 explained by the linear regression models are moderately strong. Out of the 6 air pollutants, only the median O3 is positively correlated with the number of total active cases. This could be explained by the fact that ground level ozone is mostly impacted by the presence of sunlight. Most of the 88 countries are in the Northern hemisphere during the first months into the pandemic. This means that most the studied countries are in summer, which explains for the higher O3 level."
   ]
  },
  {
   "cell_type": "code",
   "execution_count": null,
   "metadata": {},
   "outputs": [],
   "source": []
  }
 ],
 "metadata": {
  "kernelspec": {
   "display_name": "Python [conda env:PythonData] *",
   "language": "python",
   "name": "conda-env-PythonData-py"
  },
  "language_info": {
   "codemirror_mode": {
    "name": "ipython",
    "version": 3
   },
   "file_extension": ".py",
   "mimetype": "text/x-python",
   "name": "python",
   "nbconvert_exporter": "python",
   "pygments_lexer": "ipython3",
   "version": "3.7.6"
  },
  "toc": {
   "base_numbering": 1,
   "nav_menu": {},
   "number_sections": true,
   "sideBar": true,
   "skip_h1_title": false,
   "title_cell": "Table of Contents",
   "title_sidebar": "Contents",
   "toc_cell": true,
   "toc_position": {},
   "toc_section_display": true,
   "toc_window_display": false
  },
  "varInspector": {
   "cols": {
    "lenName": 16,
    "lenType": 16,
    "lenVar": 40
   },
   "kernels_config": {
    "python": {
     "delete_cmd_postfix": "",
     "delete_cmd_prefix": "del ",
     "library": "var_list.py",
     "varRefreshCmd": "print(var_dic_list())"
    },
    "r": {
     "delete_cmd_postfix": ") ",
     "delete_cmd_prefix": "rm(",
     "library": "var_list.r",
     "varRefreshCmd": "cat(var_dic_list()) "
    }
   },
   "types_to_exclude": [
    "module",
    "function",
    "builtin_function_or_method",
    "instance",
    "_Feature"
   ],
   "window_display": false
  }
 },
 "nbformat": 4,
 "nbformat_minor": 4
}
