{
 "cells": [
  {
   "cell_type": "code",
   "execution_count": null,
   "metadata": {},
   "outputs": [],
   "source": []
  },
  {
   "cell_type": "code",
   "execution_count": null,
   "metadata": {},
   "outputs": [],
   "source": []
  },
  {
   "cell_type": "code",
   "execution_count": null,
   "metadata": {},
   "outputs": [],
   "source": []
  },
  {
   "cell_type": "code",
   "execution_count": null,
   "metadata": {},
   "outputs": [],
   "source": [
    "def world_air_covid_each_specie(specie):\n",
    "    air_median_specie_transposed = final_airdf[final_airdf[\"Specie\"] == specie].pivot_table(\n",
    "        index=\"Date\", columns=\"Country\", values=\"median\")\n",
    "\n",
    "    air_median_specie_transposed[f\"World Average {specie}\"] = air_median_specie_transposed.mean(axis=1)\n",
    "\n",
    "    final_air_median_specie_transposed = air_median_specie_transposed.iloc[:, -1].to_frame().reset_index()\n",
    "    \n",
    "    world_air_covid_median_specie = pd.merge(total_active_world_covid, final_air_median_specie_transposed, how=\"inner\", on=\"Date\")\n",
    "    return world_air_covid_median_specie"
   ]
  },
  {
   "cell_type": "code",
   "execution_count": null,
   "metadata": {},
   "outputs": [],
   "source": [
    "def linear_regression_plot(df_name, df, x, y):\n",
    "    (slope, intercept, rvalue, pvalue, stderr) = linregress(df[x], df[y])\n",
    "    regress_values = slope * df[x] + intercept\n",
    "\n",
    "    line_eq = f\"y = {round(slope, 2)}x + {round(intercept, 2)}\"\n",
    "\n",
    "    print(f\"The correlation coefficient is: {rvalue}\")\n",
    "    print(f\"The r-squared is: {rvalue**2}\")\n",
    "\n",
    "    plt.scatter(df[x], df[y], facecolors=\"dodgerblue\", alpha=0.5)\n",
    "    plt.plot(df[x], regress_values, \"b--\", linewidth=1)\n",
    "    plt.annotate(line_eq, (df[x].median(), df[y].quantile(\n",
    "        0.75)), fontsize=15, color=\"blue\")\n",
    "    plt.title(f\"{df_name}world\")\n",
    "    plt.xlabel(x)\n",
    "    plt.ylabel(y)\n",
    "    plt.savefig(f\"images/{df_name}linear.png\")\n",
    "    plt.show()"
   ]
  },
  {
   "cell_type": "code",
   "execution_count": null,
   "metadata": {},
   "outputs": [],
   "source": [
    "world_air_covid_median_pm25 = world_air_covid_each_specie(\"pm25\")\n",
    "world_air_covid_median_pm25.head()"
   ]
  },
  {
   "cell_type": "code",
   "execution_count": null,
   "metadata": {},
   "outputs": [],
   "source": [
    "linear_regression_plot(\"pm25\", world_air_covid_median_pm25, x=\"Total active cases\", y=\"World Average pm25\")"
   ]
  },
  {
   "cell_type": "code",
   "execution_count": null,
   "metadata": {},
   "outputs": [],
   "source": [
    "world_air_covid_median_co = world_air_covid_each_specie(\"co\")\n",
    "world_air_covid_median_co.head()"
   ]
  },
  {
   "cell_type": "code",
   "execution_count": null,
   "metadata": {},
   "outputs": [],
   "source": [
    "linear_regression_plot(\"co\", world_air_covid_median_co, x=\"Total active cases\", y=\"World Average co\")"
   ]
  },
  {
   "cell_type": "code",
   "execution_count": null,
   "metadata": {},
   "outputs": [],
   "source": [
    "world_air_covid_median_no2 = world_air_covid_each_specie(\"no2\")\n",
    "world_air_covid_median_no2.head()"
   ]
  },
  {
   "cell_type": "code",
   "execution_count": null,
   "metadata": {},
   "outputs": [],
   "source": [
    "linear_regression_plot(\"no2\", world_air_covid_median_no2, x=\"Total active cases\", y=\"World Average no2\")"
   ]
  },
  {
   "cell_type": "code",
   "execution_count": null,
   "metadata": {},
   "outputs": [],
   "source": [
    "world_air_covid_median_pm10 = world_air_covid_each_specie(\"pm10\")\n",
    "world_air_covid_median_pm10.head()"
   ]
  },
  {
   "cell_type": "code",
   "execution_count": null,
   "metadata": {},
   "outputs": [],
   "source": [
    "linear_regression_plot(\"pm10\", world_air_covid_median_pm10, x=\"Total active cases\", y=\"World Average pm10\")"
   ]
  },
  {
   "cell_type": "code",
   "execution_count": null,
   "metadata": {},
   "outputs": [],
   "source": [
    "world_air_covid_median_o3 = world_air_covid_each_specie(\"o3\")\n",
    "world_air_covid_median_o3.head()"
   ]
  },
  {
   "cell_type": "code",
   "execution_count": null,
   "metadata": {},
   "outputs": [],
   "source": [
    "linear_regression_plot(\"o3\", world_air_covid_median_o3, x=\"Total active cases\", y=\"World Average o3\")"
   ]
  },
  {
   "cell_type": "code",
   "execution_count": null,
   "metadata": {},
   "outputs": [],
   "source": [
    "world_air_covid_median_so2 = world_air_covid_each_specie(\"so2\")\n",
    "world_air_covid_median_so2.head()"
   ]
  },
  {
   "cell_type": "code",
   "execution_count": null,
   "metadata": {},
   "outputs": [],
   "source": [
    "linear_regression_plot(\"so2\", world_air_covid_median_so2, x=\"Total active cases\", y=\"World Average so2\")"
   ]
  },
  {
   "cell_type": "code",
   "execution_count": null,
   "metadata": {},
   "outputs": [],
   "source": []
  },
  {
   "cell_type": "code",
   "execution_count": null,
   "metadata": {},
   "outputs": [],
   "source": []
  },
  {
   "cell_type": "code",
   "execution_count": null,
   "metadata": {},
   "outputs": [],
   "source": []
  },
  {
   "cell_type": "code",
   "execution_count": null,
   "metadata": {},
   "outputs": [],
   "source": []
  },
  {
   "cell_type": "code",
   "execution_count": null,
   "metadata": {},
   "outputs": [],
   "source": []
  },
  {
   "cell_type": "code",
   "execution_count": null,
   "metadata": {},
   "outputs": [],
   "source": []
  }
 ],
 "metadata": {
  "kernelspec": {
   "display_name": "Python [conda env:PythonData] *",
   "language": "python",
   "name": "conda-env-PythonData-py"
  },
  "language_info": {
   "codemirror_mode": {
    "name": "ipython",
    "version": 3
   },
   "file_extension": ".py",
   "mimetype": "text/x-python",
   "name": "python",
   "nbconvert_exporter": "python",
   "pygments_lexer": "ipython3",
   "version": "3.7.6"
  },
  "toc": {
   "base_numbering": 1,
   "nav_menu": {},
   "number_sections": true,
   "sideBar": true,
   "skip_h1_title": false,
   "title_cell": "Table of Contents",
   "title_sidebar": "Contents",
   "toc_cell": false,
   "toc_position": {},
   "toc_section_display": true,
   "toc_window_display": false
  },
  "varInspector": {
   "cols": {
    "lenName": 16,
    "lenType": 16,
    "lenVar": 40
   },
   "kernels_config": {
    "python": {
     "delete_cmd_postfix": "",
     "delete_cmd_prefix": "del ",
     "library": "var_list.py",
     "varRefreshCmd": "print(var_dic_list())"
    },
    "r": {
     "delete_cmd_postfix": ") ",
     "delete_cmd_prefix": "rm(",
     "library": "var_list.r",
     "varRefreshCmd": "cat(var_dic_list()) "
    }
   },
   "types_to_exclude": [
    "module",
    "function",
    "builtin_function_or_method",
    "instance",
    "_Feature"
   ],
   "window_display": false
  }
 },
 "nbformat": 4,
 "nbformat_minor": 4
}
