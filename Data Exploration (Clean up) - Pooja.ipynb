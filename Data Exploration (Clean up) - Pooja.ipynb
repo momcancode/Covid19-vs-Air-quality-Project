{
 "cells": [
  {
   "cell_type": "markdown",
   "metadata": {
    "toc": true
   },
   "source": [
    "<h1>Table of Contents<span class=\"tocSkip\"></span></h1>\n",
    "<div class=\"toc\"><ul class=\"toc-item\"><li><span><a href=\"#IMPACT-OF-COVID-19-PANDEMIC-ON-AIR-QUALITY\" data-toc-modified-id=\"IMPACT-OF-COVID-19-PANDEMIC-ON-AIR-QUALITY-1\"><span class=\"toc-item-num\">1&nbsp;&nbsp;</span>IMPACT OF COVID-19 PANDEMIC ON AIR QUALITY</a></span><ul class=\"toc-item\"><li><span><a href=\"#Air-quality-Data-Exploration-and-Cleanup\" data-toc-modified-id=\"Air-quality-Data-Exploration-and-Cleanup-1.1\"><span class=\"toc-item-num\">1.1&nbsp;&nbsp;</span>Air quality Data Exploration and Cleanup</a></span><ul class=\"toc-item\"><li><span><a href=\"#Import-datasets-and-overview-of-the-air-quality-data\" data-toc-modified-id=\"Import-datasets-and-overview-of-the-air-quality-data-1.1.1\"><span class=\"toc-item-num\">1.1.1&nbsp;&nbsp;</span>Import datasets and overview of the air quality data</a></span></li><li><span><a href=\"#Slice-and-dice-the-data-to-clean-up\" data-toc-modified-id=\"Slice-and-dice-the-data-to-clean-up-1.1.2\"><span class=\"toc-item-num\">1.1.2&nbsp;&nbsp;</span>Slice and dice the data to clean up</a></span></li><li><span><a href=\"#Explore-the-data-through-graphs\" data-toc-modified-id=\"Explore-the-data-through-graphs-1.1.3\"><span class=\"toc-item-num\">1.1.3&nbsp;&nbsp;</span>Explore the data through graphs</a></span></li></ul></li><li><span><a href=\"#COVID-19-DATA-EXPLORATION-AND-CLEAN-UP\" data-toc-modified-id=\"COVID-19-DATA-EXPLORATION-AND-CLEAN-UP-1.2\"><span class=\"toc-item-num\">1.2&nbsp;&nbsp;</span>COVID-19 DATA EXPLORATION AND CLEAN UP</a></span></li><li><span><a href=\"#COVID-19-in-AUSTRALIA-DATA-EXPLORATION-AND-CLEAN-UP\" data-toc-modified-id=\"COVID-19-in-AUSTRALIA-DATA-EXPLORATION-AND-CLEAN-UP-1.3\"><span class=\"toc-item-num\">1.3&nbsp;&nbsp;</span>COVID-19 in AUSTRALIA DATA EXPLORATION AND CLEAN UP</a></span></li></ul></li></ul></div>"
   ]
  },
  {
   "cell_type": "markdown",
   "metadata": {},
   "source": [
    "# IMPACT OF COVID-19 PANDEMIC ON AIR QUALITY"
   ]
  },
  {
   "cell_type": "markdown",
   "metadata": {},
   "source": [
    "## Air quality Data Exploration and Cleanup"
   ]
  },
  {
   "cell_type": "code",
   "execution_count": 1,
   "metadata": {},
   "outputs": [
    {
     "ename": "ModuleNotFoundError",
     "evalue": "No module named 'config'",
     "output_type": "error",
     "traceback": [
      "\u001b[1;31m---------------------------------------------------------------------------\u001b[0m",
      "\u001b[1;31mModuleNotFoundError\u001b[0m                       Traceback (most recent call last)",
      "\u001b[1;32m<ipython-input-1-6fa2f52104a2>\u001b[0m in \u001b[0;36m<module>\u001b[1;34m\u001b[0m\n\u001b[0;32m      8\u001b[0m \u001b[1;33m\u001b[0m\u001b[0m\n\u001b[0;32m      9\u001b[0m \u001b[1;31m# Import API key\u001b[0m\u001b[1;33m\u001b[0m\u001b[1;33m\u001b[0m\u001b[1;33m\u001b[0m\u001b[0m\n\u001b[1;32m---> 10\u001b[1;33m \u001b[1;32mfrom\u001b[0m \u001b[0mconfig\u001b[0m \u001b[1;32mimport\u001b[0m \u001b[0mapi_key\u001b[0m\u001b[1;33m\u001b[0m\u001b[1;33m\u001b[0m\u001b[0m\n\u001b[0m",
      "\u001b[1;31mModuleNotFoundError\u001b[0m: No module named 'config'"
     ]
    }
   ],
   "source": [
    "# Dependencies and Setup\n",
    "import matplotlib.pyplot as plt\n",
    "import pandas as pd\n",
    "import numpy as np\n",
    "import requests\n",
    "import json\n",
    "from pprint import pprint\n",
    "\n",
    "# Import API key\n",
    "from config import api_key"
   ]
  },
  {
   "cell_type": "markdown",
   "metadata": {},
   "source": [
    "Data Source: https://aqicn.org/data-platform/covid19/\n",
    "With COVID-19 spreading all over the world, the World Air Quality Index project team saw a surge in requests for global data. As a result, the WAQI project now provides a new dedicated data-set which is updated 3 times a day, and that covers approximately 380 major cities in the world - January 2020 until now. \n",
    "\n",
    "The data for each major cities is based on the average (median) of several stations. The data set provides min, max, median and standard deviation for each of the common air pollutants (PM2.5,PM10, Ozone ...) as well as meteorological data (Wind, Temperature, ...). All air pollutant data points are converted to the US EPA standard (i.e. no raw concentrations). All dates are UTC based. The count column is the number of samples used for calculating the median and standard deviation."
   ]
  },
  {
   "cell_type": "markdown",
   "metadata": {},
   "source": [
    "### Import datasets and overview of the air quality data"
   ]
  },
  {
   "cell_type": "code",
   "execution_count": 2,
   "metadata": {},
   "outputs": [],
   "source": [
    "# Identift periods of interest \n",
    "periods = [\"2020\", \"2019Q1\", \"2019Q2\", \"2019Q3\", \"2019Q4\"]\n",
    "\n",
    "df_list = list()\n",
    "\n",
    "for period in periods:\n",
    "    path = f\"historical_data/waqi-covid19-airqualitydata-{period}.csv\"\n",
    "    df = pd.read_csv(path)\n",
    "    df_list.append(df)"
   ]
  },
  {
   "cell_type": "code",
   "execution_count": 3,
   "metadata": {},
   "outputs": [
    {
     "data": {
      "text/html": [
       "<div>\n",
       "<style scoped>\n",
       "    .dataframe tbody tr th:only-of-type {\n",
       "        vertical-align: middle;\n",
       "    }\n",
       "\n",
       "    .dataframe tbody tr th {\n",
       "        vertical-align: top;\n",
       "    }\n",
       "\n",
       "    .dataframe thead th {\n",
       "        text-align: right;\n",
       "    }\n",
       "</style>\n",
       "<table border=\"1\" class=\"dataframe\">\n",
       "  <thead>\n",
       "    <tr style=\"text-align: right;\">\n",
       "      <th></th>\n",
       "      <th>Date</th>\n",
       "      <th>Country</th>\n",
       "      <th>City</th>\n",
       "      <th>Specie</th>\n",
       "      <th>count</th>\n",
       "      <th>min</th>\n",
       "      <th>max</th>\n",
       "      <th>median</th>\n",
       "      <th>variance</th>\n",
       "    </tr>\n",
       "  </thead>\n",
       "  <tbody>\n",
       "    <tr>\n",
       "      <th>0</th>\n",
       "      <td>31/05/2020</td>\n",
       "      <td>IR</td>\n",
       "      <td>Isfahan</td>\n",
       "      <td>temperature</td>\n",
       "      <td>120</td>\n",
       "      <td>17.5</td>\n",
       "      <td>35.0</td>\n",
       "      <td>27.5</td>\n",
       "      <td>331.51</td>\n",
       "    </tr>\n",
       "    <tr>\n",
       "      <th>1</th>\n",
       "      <td>13/06/2020</td>\n",
       "      <td>IR</td>\n",
       "      <td>Isfahan</td>\n",
       "      <td>temperature</td>\n",
       "      <td>144</td>\n",
       "      <td>16.0</td>\n",
       "      <td>36.5</td>\n",
       "      <td>27.5</td>\n",
       "      <td>488.74</td>\n",
       "    </tr>\n",
       "    <tr>\n",
       "      <th>2</th>\n",
       "      <td>3/07/2020</td>\n",
       "      <td>IR</td>\n",
       "      <td>Isfahan</td>\n",
       "      <td>temperature</td>\n",
       "      <td>67</td>\n",
       "      <td>19.0</td>\n",
       "      <td>33.0</td>\n",
       "      <td>24.0</td>\n",
       "      <td>128.08</td>\n",
       "    </tr>\n",
       "    <tr>\n",
       "      <th>3</th>\n",
       "      <td>28/03/2020</td>\n",
       "      <td>IR</td>\n",
       "      <td>Isfahan</td>\n",
       "      <td>temperature</td>\n",
       "      <td>240</td>\n",
       "      <td>3.0</td>\n",
       "      <td>14.0</td>\n",
       "      <td>9.5</td>\n",
       "      <td>136.68</td>\n",
       "    </tr>\n",
       "    <tr>\n",
       "      <th>4</th>\n",
       "      <td>23/04/2020</td>\n",
       "      <td>IR</td>\n",
       "      <td>Isfahan</td>\n",
       "      <td>temperature</td>\n",
       "      <td>168</td>\n",
       "      <td>6.0</td>\n",
       "      <td>25.5</td>\n",
       "      <td>16.0</td>\n",
       "      <td>400.79</td>\n",
       "    </tr>\n",
       "  </tbody>\n",
       "</table>\n",
       "</div>"
      ],
      "text/plain": [
       "         Date Country     City       Specie  count   min   max  median  \\\n",
       "0  31/05/2020      IR  Isfahan  temperature    120  17.5  35.0    27.5   \n",
       "1  13/06/2020      IR  Isfahan  temperature    144  16.0  36.5    27.5   \n",
       "2   3/07/2020      IR  Isfahan  temperature     67  19.0  33.0    24.0   \n",
       "3  28/03/2020      IR  Isfahan  temperature    240   3.0  14.0     9.5   \n",
       "4  23/04/2020      IR  Isfahan  temperature    168   6.0  25.5    16.0   \n",
       "\n",
       "   variance  \n",
       "0    331.51  \n",
       "1    488.74  \n",
       "2    128.08  \n",
       "3    136.68  \n",
       "4    400.79  "
      ]
     },
     "execution_count": 3,
     "metadata": {},
     "output_type": "execute_result"
    }
   ],
   "source": [
    "# Create dataframe that includes the series created before \n",
    "airdf_2019_2020 = pd.concat(df_list, ignore_index=True)\n",
    "airdf_2019_2020.head()"
   ]
  },
  {
   "cell_type": "markdown",
   "metadata": {},
   "source": [
    "### Slice and dice the data to clean up"
   ]
  },
  {
   "cell_type": "code",
   "execution_count": 5,
   "metadata": {},
   "outputs": [
    {
     "data": {
      "text/plain": [
       "array(['temperature', 'wind-speed', 'wind-gust', 'dew', 'pm25',\n",
       "       'humidity', 'wind speed', 'pressure', 'wind gust', 'co', 'so2',\n",
       "       'precipitation', 'no2', 'pm10', 'o3', 'aqi', 'pol', 'uvi', 'wd',\n",
       "       'neph', 'mepaqi', 'pm1'], dtype=object)"
      ]
     },
     "execution_count": 5,
     "metadata": {},
     "output_type": "execute_result"
    }
   ],
   "source": [
    "# Display an overview of the Specie column\n",
    "airdf_2019_2020[\"Specie\"].unique()\n"
   ]
  },
  {
   "cell_type": "code",
   "execution_count": 6,
   "metadata": {},
   "outputs": [
    {
     "data": {
      "text/plain": [
       "temperature      310236\n",
       "humidity         310145\n",
       "pressure         308517\n",
       "pm25             270688\n",
       "no2              266793\n",
       "pm10             264859\n",
       "wind-speed       263292\n",
       "o3               250438\n",
       "so2              226576\n",
       "dew              226147\n",
       "co               203776\n",
       "wind-gust        172805\n",
       "wind speed        47002\n",
       "wind gust         29576\n",
       "precipitation     26825\n",
       "wd                25720\n",
       "aqi                8267\n",
       "uvi                5632\n",
       "pol                3790\n",
       "pm1                1380\n",
       "mepaqi              564\n",
       "neph                440\n",
       "Name: Specie, dtype: int64"
      ]
     },
     "execution_count": 6,
     "metadata": {},
     "output_type": "execute_result"
    }
   ],
   "source": [
    "# Identify the number of data points availabe per specie \n",
    "airdf_2019_2020[\"Specie\"].value_counts()"
   ]
  },
  {
   "cell_type": "markdown",
   "metadata": {},
   "source": [
    "> We understand that \"Air movements influence the fate of air pollutants. So any study of air pollution should include a study of the local weather patterns (meteorology). If the air is calm and pollutants cannot disperse, then the concentration of these pollutants will build up. On the other hand, when strong, turbulent winds blow, pollutants disperse quickly, resulting in lower pollutant concentrations.\" https://www.qld.gov.au/environment/pollution/monitoring/air/air-monitoring/meteorology-influence/meteorology-factors#:~:text=Meteorological%20factors-,Meteorological%20factors,these%20pollutants%20will%20build%20up.\n",
    "Hence the Meteorology parameters like temperature, humidity, pressure, wind speed, to name a few, should have some sorts of correlations with the air quality.\n",
    "(http://www.bom.gov.au/vic/observations/melbourne.shtml)\n",
    "\n",
    "> However, due to the scope of our project, we'll only focus on air pollutant parameters to assess their changes before COVID-19 and 6 months into the pandemic. We're not trying to explain the causes of air quality change. Hence, we'll remove data related to the following meteorology-related species: **temperature, humidity, pressure, wind-speed, dew, wind-gust, wind speed, wind gust, precipitation, wd (wind direction), uvi**.\n",
    "https://aqicn.org/publishingdata/\n",
    "\n",
    "> We'll also remove species with the least number of available data points  including **pol, pm1, mepaqi, neph**."
   ]
  },
  {
   "cell_type": "code",
   "execution_count": 7,
   "metadata": {},
   "outputs": [],
   "source": [
    "# Identify all removed elements and update the dataframe \n",
    "removed_elements = [\"temperature\", \"humidity\", \"pressure\", \"wind-speed\", \"dew\", \"wind-gust\",\n",
    "                     \"wind speed\", \"wind gust\", \"precipitation\", \"wd\", \"uvi\", \"pol\", \"pm1\", \"mepaqi\", \"neph\"]\n",
    "\n",
    "clean_airdf = airdf_2019_2020[~airdf_2019_2020[\"Specie\"].isin(removed_elements)].reset_index(drop=True).copy()"
   ]
  },
  {
   "cell_type": "code",
   "execution_count": 8,
   "metadata": {},
   "outputs": [
    {
     "data": {
      "text/html": [
       "<div>\n",
       "<style scoped>\n",
       "    .dataframe tbody tr th:only-of-type {\n",
       "        vertical-align: middle;\n",
       "    }\n",
       "\n",
       "    .dataframe tbody tr th {\n",
       "        vertical-align: top;\n",
       "    }\n",
       "\n",
       "    .dataframe thead th {\n",
       "        text-align: right;\n",
       "    }\n",
       "</style>\n",
       "<table border=\"1\" class=\"dataframe\">\n",
       "  <thead>\n",
       "    <tr style=\"text-align: right;\">\n",
       "      <th></th>\n",
       "      <th>Date</th>\n",
       "      <th>Country</th>\n",
       "      <th>City</th>\n",
       "      <th>Specie</th>\n",
       "      <th>count</th>\n",
       "      <th>min</th>\n",
       "      <th>max</th>\n",
       "      <th>median</th>\n",
       "      <th>variance</th>\n",
       "    </tr>\n",
       "  </thead>\n",
       "  <tbody>\n",
       "    <tr>\n",
       "      <th>0</th>\n",
       "      <td>24/02/2020</td>\n",
       "      <td>IR</td>\n",
       "      <td>Isfahan</td>\n",
       "      <td>pm25</td>\n",
       "      <td>129</td>\n",
       "      <td>54.0</td>\n",
       "      <td>194.0</td>\n",
       "      <td>126.0</td>\n",
       "      <td>10921.40</td>\n",
       "    </tr>\n",
       "    <tr>\n",
       "      <th>1</th>\n",
       "      <td>7/05/2020</td>\n",
       "      <td>IR</td>\n",
       "      <td>Isfahan</td>\n",
       "      <td>pm25</td>\n",
       "      <td>168</td>\n",
       "      <td>17.0</td>\n",
       "      <td>168.0</td>\n",
       "      <td>91.0</td>\n",
       "      <td>14014.00</td>\n",
       "    </tr>\n",
       "    <tr>\n",
       "      <th>2</th>\n",
       "      <td>28/05/2020</td>\n",
       "      <td>IR</td>\n",
       "      <td>Isfahan</td>\n",
       "      <td>pm25</td>\n",
       "      <td>127</td>\n",
       "      <td>17.0</td>\n",
       "      <td>115.0</td>\n",
       "      <td>72.0</td>\n",
       "      <td>3558.56</td>\n",
       "    </tr>\n",
       "    <tr>\n",
       "      <th>3</th>\n",
       "      <td>20/02/2020</td>\n",
       "      <td>IR</td>\n",
       "      <td>Isfahan</td>\n",
       "      <td>pm25</td>\n",
       "      <td>113</td>\n",
       "      <td>26.0</td>\n",
       "      <td>181.0</td>\n",
       "      <td>76.0</td>\n",
       "      <td>11209.80</td>\n",
       "    </tr>\n",
       "    <tr>\n",
       "      <th>4</th>\n",
       "      <td>23/02/2020</td>\n",
       "      <td>IR</td>\n",
       "      <td>Isfahan</td>\n",
       "      <td>pm25</td>\n",
       "      <td>132</td>\n",
       "      <td>22.0</td>\n",
       "      <td>132.0</td>\n",
       "      <td>76.0</td>\n",
       "      <td>3209.67</td>\n",
       "    </tr>\n",
       "  </tbody>\n",
       "</table>\n",
       "</div>"
      ],
      "text/plain": [
       "         Date Country     City Specie  count   min    max  median  variance\n",
       "0  24/02/2020      IR  Isfahan   pm25    129  54.0  194.0   126.0  10921.40\n",
       "1   7/05/2020      IR  Isfahan   pm25    168  17.0  168.0    91.0  14014.00\n",
       "2  28/05/2020      IR  Isfahan   pm25    127  17.0  115.0    72.0   3558.56\n",
       "3  20/02/2020      IR  Isfahan   pm25    113  26.0  181.0    76.0  11209.80\n",
       "4  23/02/2020      IR  Isfahan   pm25    132  22.0  132.0    76.0   3209.67"
      ]
     },
     "execution_count": 8,
     "metadata": {},
     "output_type": "execute_result"
    }
   ],
   "source": [
    "clean_airdf.head()"
   ]
  },
  {
   "cell_type": "code",
   "execution_count": 9,
   "metadata": {},
   "outputs": [
    {
     "data": {
      "text/plain": [
       "pm25    270688\n",
       "no2     266793\n",
       "pm10    264859\n",
       "o3      250438\n",
       "so2     226576\n",
       "co      203776\n",
       "aqi       8267\n",
       "Name: Specie, dtype: int64"
      ]
     },
     "execution_count": 9,
     "metadata": {},
     "output_type": "execute_result"
    }
   ],
   "source": [
    "# Double check data points available for each air pollutant \n",
    "clean_airdf[\"Specie\"].value_counts()"
   ]
  },
  {
   "cell_type": "markdown",
   "metadata": {},
   "source": [
    "More about AQI:\n",
    "https://www.airnow.gov/aqi/aqi-basics/\n",
    "https://www.airnow.gov/sites/default/files/2020-05/aqi-technical-assistance-document-sept2018.pdf\n",
    "\"Five major pollutants:\n",
    "EPA establishes an AQI for five major air pollutants regulated by the Clean Air Act. Each of these pollutants has a national air quality standard set by EPA to protect public health:\n",
    "\n",
    "* Ground-level ozone **o3** (ppm - parts per million)\n",
    "* Particulate Matter - including PM2.5 **pm25** and PM10 **pm10** (μg/m3)\n",
    "* Carbon Monoxide **co** (ppm)\n",
    "* Sulfur Dioxide **so2** (ppb - parts per billion)\n",
    "* Nitrogen Dioxide **no2** (ppb)"
   ]
  },
  {
   "cell_type": "markdown",
   "metadata": {},
   "source": [
    "https://en.wikipedia.org/wiki/Air_pollution"
   ]
  },
  {
   "cell_type": "markdown",
   "metadata": {},
   "source": [
    "\"https://waqi.info/\n",
    "The Air Quality Index is based on measurement of particulate matter (PM2.5 and PM10), Ozone (O3), Nitrogen Dioxide (NO2), Sulfur Dioxide (SO2) and Carbon Monoxide (CO) emissions. Most of the stations on the map are monitoring both PM2.5 and PM10 data, but there are few exceptions where only PM10 is available.\n",
    "\n",
    "All measurements are based on hourly readings: For instance, an AQI reported at 8AM means that the measurement was done from 7AM to 8AM.\n",
    "More details https://aqicn.org/faq/\n",
    "\n",
    "\n",
    "https://www.weatherbit.io/api/airquality-history#:~:text=Air%20Quality%20API%20(Historical),an%20air%20quality%20index%20score.\n",
    "\n",
    "aqi: Air Quality Index [US - EPA standard 0 - +500]\n",
    "o3: Concentration of surface O3 (µg/m³)\n",
    "so2: Concentration of surface SO2 (µg/m³)\n",
    "no2: Concentration of surface NO2 (µg/m³)\n",
    "co: Concentration of carbon monoxide (µg/m³)\n",
    "pm25: Concentration of particulate matter < 2.5 microns (µg/m³)\n",
    "pm10: Concentration of particulate matter < 10 microns (µg/m³)\n",
    "\n",
    "Some good info on air pollution impacts https://ourworldindata.org/air-pollution\n",
    "https://www.who.int/health-topics/air-pollution#tab=tab_1\n",
    "https://www.epa.vic.gov.au/for-community/airwatch\n",
    "https://www.kaggle.com/frtgnn/clean-air-india-s-air-quality/data"
   ]
  },
  {
   "cell_type": "code",
   "execution_count": 10,
   "metadata": {
    "scrolled": true
   },
   "outputs": [
    {
     "name": "stdout",
     "output_type": "stream",
     "text": [
      "<class 'pandas.core.frame.DataFrame'>\n",
      "RangeIndex: 1491397 entries, 0 to 1491396\n",
      "Data columns (total 9 columns):\n",
      " #   Column    Non-Null Count    Dtype  \n",
      "---  ------    --------------    -----  \n",
      " 0   Date      1491397 non-null  object \n",
      " 1   Country   1491397 non-null  object \n",
      " 2   City      1491397 non-null  object \n",
      " 3   Specie    1491397 non-null  object \n",
      " 4   count     1491397 non-null  int64  \n",
      " 5   min       1491397 non-null  float64\n",
      " 6   max       1491397 non-null  float64\n",
      " 7   median    1491397 non-null  float64\n",
      " 8   variance  1491397 non-null  float64\n",
      "dtypes: float64(4), int64(1), object(4)\n",
      "memory usage: 102.4+ MB\n"
     ]
    }
   ],
   "source": [
    "# Check the Dtype of each column \n",
    "clean_airdf.info()"
   ]
  },
  {
   "cell_type": "markdown",
   "metadata": {},
   "source": [
    "We can see that the Date column is of a generic object type. To perform some time related analysis on this data, we need to convert it to a datetime format. We will use the \"to_datetime()\" function to convert the Date column into a datetime object. "
   ]
  },
  {
   "cell_type": "code",
   "execution_count": 11,
   "metadata": {},
   "outputs": [],
   "source": [
    "# Convert the Date column into a datetime object \n",
    "clean_airdf[\"Date\"] = pd.to_datetime(clean_airdf[\"Date\"], format=\"%d/%m/%Y\")"
   ]
  },
  {
   "cell_type": "code",
   "execution_count": 12,
   "metadata": {
    "scrolled": true
   },
   "outputs": [
    {
     "data": {
      "text/html": [
       "<div>\n",
       "<style scoped>\n",
       "    .dataframe tbody tr th:only-of-type {\n",
       "        vertical-align: middle;\n",
       "    }\n",
       "\n",
       "    .dataframe tbody tr th {\n",
       "        vertical-align: top;\n",
       "    }\n",
       "\n",
       "    .dataframe thead th {\n",
       "        text-align: right;\n",
       "    }\n",
       "</style>\n",
       "<table border=\"1\" class=\"dataframe\">\n",
       "  <thead>\n",
       "    <tr style=\"text-align: right;\">\n",
       "      <th></th>\n",
       "      <th>Date</th>\n",
       "      <th>Country</th>\n",
       "      <th>City</th>\n",
       "      <th>Specie</th>\n",
       "      <th>count</th>\n",
       "      <th>min</th>\n",
       "      <th>max</th>\n",
       "      <th>median</th>\n",
       "      <th>variance</th>\n",
       "    </tr>\n",
       "  </thead>\n",
       "  <tbody>\n",
       "    <tr>\n",
       "      <th>498891</th>\n",
       "      <td>2018-12-31</td>\n",
       "      <td>AE</td>\n",
       "      <td>Abu Dhabi</td>\n",
       "      <td>pm10</td>\n",
       "      <td>109</td>\n",
       "      <td>30.0</td>\n",
       "      <td>62.0</td>\n",
       "      <td>56.0</td>\n",
       "      <td>871.33</td>\n",
       "    </tr>\n",
       "    <tr>\n",
       "      <th>498916</th>\n",
       "      <td>2018-12-31</td>\n",
       "      <td>AE</td>\n",
       "      <td>Abu Dhabi</td>\n",
       "      <td>o3</td>\n",
       "      <td>81</td>\n",
       "      <td>0.5</td>\n",
       "      <td>56.5</td>\n",
       "      <td>27.3</td>\n",
       "      <td>2349.96</td>\n",
       "    </tr>\n",
       "    <tr>\n",
       "      <th>498918</th>\n",
       "      <td>2018-12-31</td>\n",
       "      <td>AE</td>\n",
       "      <td>Abu Dhabi</td>\n",
       "      <td>so2</td>\n",
       "      <td>109</td>\n",
       "      <td>1.6</td>\n",
       "      <td>27.9</td>\n",
       "      <td>4.6</td>\n",
       "      <td>240.10</td>\n",
       "    </tr>\n",
       "    <tr>\n",
       "      <th>498981</th>\n",
       "      <td>2018-12-31</td>\n",
       "      <td>AE</td>\n",
       "      <td>Abu Dhabi</td>\n",
       "      <td>pm25</td>\n",
       "      <td>24</td>\n",
       "      <td>72.0</td>\n",
       "      <td>152.0</td>\n",
       "      <td>112.0</td>\n",
       "      <td>5643.19</td>\n",
       "    </tr>\n",
       "    <tr>\n",
       "      <th>499035</th>\n",
       "      <td>2018-12-31</td>\n",
       "      <td>AE</td>\n",
       "      <td>Abu Dhabi</td>\n",
       "      <td>no2</td>\n",
       "      <td>109</td>\n",
       "      <td>2.8</td>\n",
       "      <td>49.4</td>\n",
       "      <td>27.9</td>\n",
       "      <td>1492.45</td>\n",
       "    </tr>\n",
       "    <tr>\n",
       "      <th>...</th>\n",
       "      <td>...</td>\n",
       "      <td>...</td>\n",
       "      <td>...</td>\n",
       "      <td>...</td>\n",
       "      <td>...</td>\n",
       "      <td>...</td>\n",
       "      <td>...</td>\n",
       "      <td>...</td>\n",
       "      <td>...</td>\n",
       "    </tr>\n",
       "    <tr>\n",
       "      <th>625785</th>\n",
       "      <td>2018-12-31</td>\n",
       "      <td>CA</td>\n",
       "      <td>Québec</td>\n",
       "      <td>co</td>\n",
       "      <td>101</td>\n",
       "      <td>0.1</td>\n",
       "      <td>0.4</td>\n",
       "      <td>0.2</td>\n",
       "      <td>0.03</td>\n",
       "    </tr>\n",
       "    <tr>\n",
       "      <th>625812</th>\n",
       "      <td>2018-12-31</td>\n",
       "      <td>CA</td>\n",
       "      <td>Québec</td>\n",
       "      <td>pm25</td>\n",
       "      <td>190</td>\n",
       "      <td>7.0</td>\n",
       "      <td>101.0</td>\n",
       "      <td>58.0</td>\n",
       "      <td>3196.19</td>\n",
       "    </tr>\n",
       "    <tr>\n",
       "      <th>625930</th>\n",
       "      <td>2018-12-31</td>\n",
       "      <td>CA</td>\n",
       "      <td>Vancouver</td>\n",
       "      <td>pm25</td>\n",
       "      <td>184</td>\n",
       "      <td>1.0</td>\n",
       "      <td>86.0</td>\n",
       "      <td>18.0</td>\n",
       "      <td>2840.10</td>\n",
       "    </tr>\n",
       "    <tr>\n",
       "      <th>625991</th>\n",
       "      <td>2018-12-31</td>\n",
       "      <td>CA</td>\n",
       "      <td>Vancouver</td>\n",
       "      <td>no2</td>\n",
       "      <td>182</td>\n",
       "      <td>0.5</td>\n",
       "      <td>17.1</td>\n",
       "      <td>8.9</td>\n",
       "      <td>173.66</td>\n",
       "    </tr>\n",
       "    <tr>\n",
       "      <th>626148</th>\n",
       "      <td>2018-12-31</td>\n",
       "      <td>CA</td>\n",
       "      <td>Vancouver</td>\n",
       "      <td>o3</td>\n",
       "      <td>182</td>\n",
       "      <td>0.3</td>\n",
       "      <td>12.1</td>\n",
       "      <td>2.7</td>\n",
       "      <td>101.83</td>\n",
       "    </tr>\n",
       "  </tbody>\n",
       "</table>\n",
       "<p>200 rows × 9 columns</p>\n",
       "</div>"
      ],
      "text/plain": [
       "             Date Country       City Specie  count   min    max  median  \\\n",
       "498891 2018-12-31      AE  Abu Dhabi   pm10    109  30.0   62.0    56.0   \n",
       "498916 2018-12-31      AE  Abu Dhabi     o3     81   0.5   56.5    27.3   \n",
       "498918 2018-12-31      AE  Abu Dhabi    so2    109   1.6   27.9     4.6   \n",
       "498981 2018-12-31      AE  Abu Dhabi   pm25     24  72.0  152.0   112.0   \n",
       "499035 2018-12-31      AE  Abu Dhabi    no2    109   2.8   49.4    27.9   \n",
       "...           ...     ...        ...    ...    ...   ...    ...     ...   \n",
       "625785 2018-12-31      CA     Québec     co    101   0.1    0.4     0.2   \n",
       "625812 2018-12-31      CA     Québec   pm25    190   7.0  101.0    58.0   \n",
       "625930 2018-12-31      CA  Vancouver   pm25    184   1.0   86.0    18.0   \n",
       "625991 2018-12-31      CA  Vancouver    no2    182   0.5   17.1     8.9   \n",
       "626148 2018-12-31      CA  Vancouver     o3    182   0.3   12.1     2.7   \n",
       "\n",
       "        variance  \n",
       "498891    871.33  \n",
       "498916   2349.96  \n",
       "498918    240.10  \n",
       "498981   5643.19  \n",
       "499035   1492.45  \n",
       "...          ...  \n",
       "625785      0.03  \n",
       "625812   3196.19  \n",
       "625930   2840.10  \n",
       "625991    173.66  \n",
       "626148    101.83  \n",
       "\n",
       "[200 rows x 9 columns]"
      ]
     },
     "execution_count": 12,
     "metadata": {},
     "output_type": "execute_result"
    }
   ],
   "source": [
    "# Sort Country column alphabetically and Date column chronologically \n",
    "clean_airdf = clean_airdf.sort_values(by = ['Date', 'Country'])\n",
    "clean_airdf.head(200)"
   ]
  },
  {
   "cell_type": "code",
   "execution_count": 13,
   "metadata": {},
   "outputs": [
    {
     "name": "stdout",
     "output_type": "stream",
     "text": [
      "<class 'pandas.core.frame.DataFrame'>\n",
      "Int64Index: 1491397 entries, 498891 to 366586\n",
      "Data columns (total 9 columns):\n",
      " #   Column    Non-Null Count    Dtype         \n",
      "---  ------    --------------    -----         \n",
      " 0   Date      1491397 non-null  datetime64[ns]\n",
      " 1   Country   1491397 non-null  object        \n",
      " 2   City      1491397 non-null  object        \n",
      " 3   Specie    1491397 non-null  object        \n",
      " 4   count     1491397 non-null  int64         \n",
      " 5   min       1491397 non-null  float64       \n",
      " 6   max       1491397 non-null  float64       \n",
      " 7   median    1491397 non-null  float64       \n",
      " 8   variance  1491397 non-null  float64       \n",
      "dtypes: datetime64[ns](1), float64(4), int64(1), object(3)\n",
      "memory usage: 113.8+ MB\n"
     ]
    }
   ],
   "source": [
    "clean_airdf.info()"
   ]
  },
  {
   "cell_type": "code",
   "execution_count": 14,
   "metadata": {},
   "outputs": [
    {
     "data": {
      "text/plain": [
       "Timestamp('2018-12-31 00:00:00')"
      ]
     },
     "execution_count": 14,
     "metadata": {},
     "output_type": "execute_result"
    }
   ],
   "source": [
    "# Find the earliest date the air quality dataset covers\n",
    "clean_airdf[\"Date\"].min()"
   ]
  },
  {
   "cell_type": "code",
   "execution_count": 15,
   "metadata": {},
   "outputs": [
    {
     "data": {
      "text/plain": [
       "Timestamp('2020-07-03 00:00:00')"
      ]
     },
     "execution_count": 15,
     "metadata": {},
     "output_type": "execute_result"
    }
   ],
   "source": [
    "# Find the latest date the air quality dataset covers:\n",
    "clean_airdf[\"Date\"].max()"
   ]
  },
  {
   "cell_type": "code",
   "execution_count": 16,
   "metadata": {},
   "outputs": [
    {
     "data": {
      "text/plain": [
       "array(['AE', 'AT', 'AU', 'BA', 'BD', 'BE', 'BG', 'BH', 'BO', 'BR', 'CA',\n",
       "       'CH', 'CL', 'CN', 'CO', 'CW', 'CY', 'CZ', 'DE', 'DK', 'EC', 'EE',\n",
       "       'ES', 'ET', 'FI', 'FR', 'GB', 'HK', 'HR', 'HU', 'ID', 'IE', 'IL',\n",
       "       'IN', 'IR', 'IS', 'IT', 'JP', 'KR', 'KW', 'KZ', 'LK', 'LT', 'MK',\n",
       "       'MN', 'MO', 'MX', 'MY', 'NL', 'NO', 'NP', 'NZ', 'PE', 'PH', 'PL',\n",
       "       'PR', 'PT', 'RE', 'RO', 'RS', 'RU', 'SE', 'SG', 'SK', 'SV', 'TH',\n",
       "       'TR', 'TW', 'UG', 'US', 'UZ', 'VN', 'XK', 'ZA', 'AR', 'KG', 'JO',\n",
       "       'UA', 'IQ', 'SA', 'LA', 'DZ', 'PK', 'MM', 'TJ', 'TM', 'GT', 'GR',\n",
       "       'AF', 'GE', 'CR', 'ML', 'CI', 'GN', 'GH'], dtype=object)"
      ]
     },
     "execution_count": 16,
     "metadata": {},
     "output_type": "execute_result"
    }
   ],
   "source": [
    "clean_airdf[\"Country\"].unique()"
   ]
  },
  {
   "cell_type": "markdown",
   "metadata": {},
   "source": [
    "There are 95 countries in the dataframe, including Australia (AU)...."
   ]
  },
  {
   "cell_type": "markdown",
   "metadata": {},
   "source": [
    "There are 615 cities in our dataframe. Let's see what cities in Australia covered in the dataset."
   ]
  },
  {
   "cell_type": "code",
   "execution_count": 17,
   "metadata": {},
   "outputs": [
    {
     "data": {
      "text/plain": [
       "Sydney        3364\n",
       "Brisbane      3348\n",
       "Melbourne     3284\n",
       "Wollongong    3253\n",
       "Darwin        3208\n",
       "Adelaide      3177\n",
       "Perth         3082\n",
       "Newcastle     2871\n",
       "Launceston    1126\n",
       "Hobart        1126\n",
       "Canberra      1093\n",
       "Name: City, dtype: int64"
      ]
     },
     "execution_count": 17,
     "metadata": {},
     "output_type": "execute_result"
    }
   ],
   "source": [
    "# Identify the data points available for Australian cities \n",
    "clean_airdf.loc[clean_airdf[\"Country\"]==\"AU\", \"City\"].value_counts()"
   ]
  },
  {
   "cell_type": "markdown",
   "metadata": {},
   "source": [
    "### Explore the data through graphs"
   ]
  },
  {
   "cell_type": "code",
   "execution_count": 18,
   "metadata": {
    "scrolled": false
   },
   "outputs": [
    {
     "data": {
      "text/plain": [
       "array(['pm10', 'o3', 'so2', 'pm25', 'no2', 'co', 'aqi'], dtype=object)"
      ]
     },
     "execution_count": 18,
     "metadata": {},
     "output_type": "execute_result"
    }
   ],
   "source": [
    "# Identifying the unique (common) air pollutants in the dataset \n",
    "air_pollutants = clean_airdf[\"Specie\"].unique()\n",
    "air_pollutants"
   ]
  },
  {
   "cell_type": "markdown",
   "metadata": {},
   "source": [
    "LOOKING AT THE MEDIAN LEVELS OF CO2, AN AIR POLLUTANT THAT DUE TO ITS NATURE WOULD BE THE MOST IMPACTED BY COVID RESTRICTIONS SUCH AS LESS TRAVEL. WE WILL COMPARE A MAJOR AUSTRALIAN CITY WITH A MAJOR INDIAN CITY TO SHOW THAT AUSTRALIA'S AIR QUALITY AS IT STANDS IS QUITE GOOD. "
   ]
  },
  {
   "cell_type": "code",
   "execution_count": 19,
   "metadata": {
    "scrolled": true
   },
   "outputs": [
    {
     "data": {
      "text/html": [
       "<div>\n",
       "<style scoped>\n",
       "    .dataframe tbody tr th:only-of-type {\n",
       "        vertical-align: middle;\n",
       "    }\n",
       "\n",
       "    .dataframe tbody tr th {\n",
       "        vertical-align: top;\n",
       "    }\n",
       "\n",
       "    .dataframe thead th {\n",
       "        text-align: right;\n",
       "    }\n",
       "</style>\n",
       "<table border=\"1\" class=\"dataframe\">\n",
       "  <thead>\n",
       "    <tr style=\"text-align: right;\">\n",
       "      <th></th>\n",
       "      <th>Date</th>\n",
       "      <th>Country</th>\n",
       "      <th>City</th>\n",
       "      <th>Specie</th>\n",
       "      <th>count</th>\n",
       "      <th>min</th>\n",
       "      <th>max</th>\n",
       "      <th>median</th>\n",
       "      <th>variance</th>\n",
       "    </tr>\n",
       "  </thead>\n",
       "  <tbody>\n",
       "    <tr>\n",
       "      <th>498891</th>\n",
       "      <td>2018-12-31</td>\n",
       "      <td>AE</td>\n",
       "      <td>Abu Dhabi</td>\n",
       "      <td>pm10</td>\n",
       "      <td>109</td>\n",
       "      <td>30.0</td>\n",
       "      <td>62.0</td>\n",
       "      <td>56.0</td>\n",
       "      <td>871.33</td>\n",
       "    </tr>\n",
       "    <tr>\n",
       "      <th>498916</th>\n",
       "      <td>2018-12-31</td>\n",
       "      <td>AE</td>\n",
       "      <td>Abu Dhabi</td>\n",
       "      <td>o3</td>\n",
       "      <td>81</td>\n",
       "      <td>0.5</td>\n",
       "      <td>56.5</td>\n",
       "      <td>27.3</td>\n",
       "      <td>2349.96</td>\n",
       "    </tr>\n",
       "    <tr>\n",
       "      <th>498918</th>\n",
       "      <td>2018-12-31</td>\n",
       "      <td>AE</td>\n",
       "      <td>Abu Dhabi</td>\n",
       "      <td>so2</td>\n",
       "      <td>109</td>\n",
       "      <td>1.6</td>\n",
       "      <td>27.9</td>\n",
       "      <td>4.6</td>\n",
       "      <td>240.10</td>\n",
       "    </tr>\n",
       "    <tr>\n",
       "      <th>498981</th>\n",
       "      <td>2018-12-31</td>\n",
       "      <td>AE</td>\n",
       "      <td>Abu Dhabi</td>\n",
       "      <td>pm25</td>\n",
       "      <td>24</td>\n",
       "      <td>72.0</td>\n",
       "      <td>152.0</td>\n",
       "      <td>112.0</td>\n",
       "      <td>5643.19</td>\n",
       "    </tr>\n",
       "    <tr>\n",
       "      <th>499035</th>\n",
       "      <td>2018-12-31</td>\n",
       "      <td>AE</td>\n",
       "      <td>Abu Dhabi</td>\n",
       "      <td>no2</td>\n",
       "      <td>109</td>\n",
       "      <td>2.8</td>\n",
       "      <td>49.4</td>\n",
       "      <td>27.9</td>\n",
       "      <td>1492.45</td>\n",
       "    </tr>\n",
       "    <tr>\n",
       "      <th>...</th>\n",
       "      <td>...</td>\n",
       "      <td>...</td>\n",
       "      <td>...</td>\n",
       "      <td>...</td>\n",
       "      <td>...</td>\n",
       "      <td>...</td>\n",
       "      <td>...</td>\n",
       "      <td>...</td>\n",
       "      <td>...</td>\n",
       "    </tr>\n",
       "    <tr>\n",
       "      <th>366299</th>\n",
       "      <td>2020-07-03</td>\n",
       "      <td>ZA</td>\n",
       "      <td>Worcester</td>\n",
       "      <td>pm25</td>\n",
       "      <td>10</td>\n",
       "      <td>17.0</td>\n",
       "      <td>63.0</td>\n",
       "      <td>21.0</td>\n",
       "      <td>2711.67</td>\n",
       "    </tr>\n",
       "    <tr>\n",
       "      <th>366413</th>\n",
       "      <td>2020-07-03</td>\n",
       "      <td>ZA</td>\n",
       "      <td>Worcester</td>\n",
       "      <td>no2</td>\n",
       "      <td>10</td>\n",
       "      <td>3.7</td>\n",
       "      <td>6.0</td>\n",
       "      <td>4.6</td>\n",
       "      <td>5.69</td>\n",
       "    </tr>\n",
       "    <tr>\n",
       "      <th>366487</th>\n",
       "      <td>2020-07-03</td>\n",
       "      <td>ZA</td>\n",
       "      <td>Worcester</td>\n",
       "      <td>so2</td>\n",
       "      <td>7</td>\n",
       "      <td>0.6</td>\n",
       "      <td>8.7</td>\n",
       "      <td>8.7</td>\n",
       "      <td>90.47</td>\n",
       "    </tr>\n",
       "    <tr>\n",
       "      <th>366548</th>\n",
       "      <td>2020-07-03</td>\n",
       "      <td>ZA</td>\n",
       "      <td>Worcester</td>\n",
       "      <td>pm10</td>\n",
       "      <td>10</td>\n",
       "      <td>10.0</td>\n",
       "      <td>35.0</td>\n",
       "      <td>10.0</td>\n",
       "      <td>904.00</td>\n",
       "    </tr>\n",
       "    <tr>\n",
       "      <th>366586</th>\n",
       "      <td>2020-07-03</td>\n",
       "      <td>ZA</td>\n",
       "      <td>Worcester</td>\n",
       "      <td>co</td>\n",
       "      <td>9</td>\n",
       "      <td>0.1</td>\n",
       "      <td>3.9</td>\n",
       "      <td>0.2</td>\n",
       "      <td>17.34</td>\n",
       "    </tr>\n",
       "  </tbody>\n",
       "</table>\n",
       "<p>1491397 rows × 9 columns</p>\n",
       "</div>"
      ],
      "text/plain": [
       "             Date Country       City Specie  count   min    max  median  \\\n",
       "498891 2018-12-31      AE  Abu Dhabi   pm10    109  30.0   62.0    56.0   \n",
       "498916 2018-12-31      AE  Abu Dhabi     o3     81   0.5   56.5    27.3   \n",
       "498918 2018-12-31      AE  Abu Dhabi    so2    109   1.6   27.9     4.6   \n",
       "498981 2018-12-31      AE  Abu Dhabi   pm25     24  72.0  152.0   112.0   \n",
       "499035 2018-12-31      AE  Abu Dhabi    no2    109   2.8   49.4    27.9   \n",
       "...           ...     ...        ...    ...    ...   ...    ...     ...   \n",
       "366299 2020-07-03      ZA  Worcester   pm25     10  17.0   63.0    21.0   \n",
       "366413 2020-07-03      ZA  Worcester    no2     10   3.7    6.0     4.6   \n",
       "366487 2020-07-03      ZA  Worcester    so2      7   0.6    8.7     8.7   \n",
       "366548 2020-07-03      ZA  Worcester   pm10     10  10.0   35.0    10.0   \n",
       "366586 2020-07-03      ZA  Worcester     co      9   0.1    3.9     0.2   \n",
       "\n",
       "        variance  \n",
       "498891    871.33  \n",
       "498916   2349.96  \n",
       "498918    240.10  \n",
       "498981   5643.19  \n",
       "499035   1492.45  \n",
       "...          ...  \n",
       "366299   2711.67  \n",
       "366413      5.69  \n",
       "366487     90.47  \n",
       "366548    904.00  \n",
       "366586     17.34  \n",
       "\n",
       "[1491397 rows x 9 columns]"
      ]
     },
     "execution_count": 19,
     "metadata": {},
     "output_type": "execute_result"
    }
   ],
   "source": [
    "clean_airdf"
   ]
  },
  {
   "cell_type": "markdown",
   "metadata": {},
   "source": [
    "CO DATA ON NEW DELHI IN INDA "
   ]
  },
  {
   "cell_type": "code",
   "execution_count": 20,
   "metadata": {
    "scrolled": false
   },
   "outputs": [
    {
     "data": {
      "text/html": [
       "<div>\n",
       "<style scoped>\n",
       "    .dataframe tbody tr th:only-of-type {\n",
       "        vertical-align: middle;\n",
       "    }\n",
       "\n",
       "    .dataframe tbody tr th {\n",
       "        vertical-align: top;\n",
       "    }\n",
       "\n",
       "    .dataframe thead th {\n",
       "        text-align: right;\n",
       "    }\n",
       "</style>\n",
       "<table border=\"1\" class=\"dataframe\">\n",
       "  <thead>\n",
       "    <tr style=\"text-align: right;\">\n",
       "      <th></th>\n",
       "      <th>Date</th>\n",
       "      <th>Country</th>\n",
       "      <th>City</th>\n",
       "      <th>Specie</th>\n",
       "      <th>count</th>\n",
       "      <th>min</th>\n",
       "      <th>max</th>\n",
       "      <th>median</th>\n",
       "      <th>variance</th>\n",
       "    </tr>\n",
       "  </thead>\n",
       "  <tbody>\n",
       "    <tr>\n",
       "      <th>526318</th>\n",
       "      <td>2018-12-31</td>\n",
       "      <td>IN</td>\n",
       "      <td>Delhi</td>\n",
       "      <td>co</td>\n",
       "      <td>640</td>\n",
       "      <td>0.1</td>\n",
       "      <td>105.3</td>\n",
       "      <td>21.5</td>\n",
       "      <td>3773.06</td>\n",
       "    </tr>\n",
       "    <tr>\n",
       "      <th>526323</th>\n",
       "      <td>2019-01-01</td>\n",
       "      <td>IN</td>\n",
       "      <td>Delhi</td>\n",
       "      <td>co</td>\n",
       "      <td>668</td>\n",
       "      <td>0.1</td>\n",
       "      <td>116.8</td>\n",
       "      <td>17.6</td>\n",
       "      <td>3940.94</td>\n",
       "    </tr>\n",
       "    <tr>\n",
       "      <th>526324</th>\n",
       "      <td>2019-01-02</td>\n",
       "      <td>IN</td>\n",
       "      <td>Delhi</td>\n",
       "      <td>co</td>\n",
       "      <td>681</td>\n",
       "      <td>0.1</td>\n",
       "      <td>138.9</td>\n",
       "      <td>19.9</td>\n",
       "      <td>4782.22</td>\n",
       "    </tr>\n",
       "    <tr>\n",
       "      <th>526362</th>\n",
       "      <td>2019-01-03</td>\n",
       "      <td>IN</td>\n",
       "      <td>Delhi</td>\n",
       "      <td>co</td>\n",
       "      <td>663</td>\n",
       "      <td>0.1</td>\n",
       "      <td>133.8</td>\n",
       "      <td>18.5</td>\n",
       "      <td>2615.45</td>\n",
       "    </tr>\n",
       "    <tr>\n",
       "      <th>526386</th>\n",
       "      <td>2019-01-04</td>\n",
       "      <td>IN</td>\n",
       "      <td>Delhi</td>\n",
       "      <td>co</td>\n",
       "      <td>645</td>\n",
       "      <td>0.2</td>\n",
       "      <td>91.0</td>\n",
       "      <td>15.0</td>\n",
       "      <td>1728.86</td>\n",
       "    </tr>\n",
       "    <tr>\n",
       "      <th>...</th>\n",
       "      <td>...</td>\n",
       "      <td>...</td>\n",
       "      <td>...</td>\n",
       "      <td>...</td>\n",
       "      <td>...</td>\n",
       "      <td>...</td>\n",
       "      <td>...</td>\n",
       "      <td>...</td>\n",
       "      <td>...</td>\n",
       "    </tr>\n",
       "    <tr>\n",
       "      <th>428264</th>\n",
       "      <td>2020-06-29</td>\n",
       "      <td>IN</td>\n",
       "      <td>Delhi</td>\n",
       "      <td>co</td>\n",
       "      <td>804</td>\n",
       "      <td>0.1</td>\n",
       "      <td>84.5</td>\n",
       "      <td>6.2</td>\n",
       "      <td>415.50</td>\n",
       "    </tr>\n",
       "    <tr>\n",
       "      <th>428213</th>\n",
       "      <td>2020-06-30</td>\n",
       "      <td>IN</td>\n",
       "      <td>Delhi</td>\n",
       "      <td>co</td>\n",
       "      <td>732</td>\n",
       "      <td>0.1</td>\n",
       "      <td>84.2</td>\n",
       "      <td>6.9</td>\n",
       "      <td>486.74</td>\n",
       "    </tr>\n",
       "    <tr>\n",
       "      <th>428172</th>\n",
       "      <td>2020-07-01</td>\n",
       "      <td>IN</td>\n",
       "      <td>Delhi</td>\n",
       "      <td>co</td>\n",
       "      <td>892</td>\n",
       "      <td>0.1</td>\n",
       "      <td>41.6</td>\n",
       "      <td>7.4</td>\n",
       "      <td>207.65</td>\n",
       "    </tr>\n",
       "    <tr>\n",
       "      <th>428310</th>\n",
       "      <td>2020-07-02</td>\n",
       "      <td>IN</td>\n",
       "      <td>Delhi</td>\n",
       "      <td>co</td>\n",
       "      <td>908</td>\n",
       "      <td>0.1</td>\n",
       "      <td>38.1</td>\n",
       "      <td>7.6</td>\n",
       "      <td>196.80</td>\n",
       "    </tr>\n",
       "    <tr>\n",
       "      <th>428204</th>\n",
       "      <td>2020-07-03</td>\n",
       "      <td>IN</td>\n",
       "      <td>Delhi</td>\n",
       "      <td>co</td>\n",
       "      <td>470</td>\n",
       "      <td>0.1</td>\n",
       "      <td>33.4</td>\n",
       "      <td>7.8</td>\n",
       "      <td>216.10</td>\n",
       "    </tr>\n",
       "  </tbody>\n",
       "</table>\n",
       "<p>564 rows × 9 columns</p>\n",
       "</div>"
      ],
      "text/plain": [
       "             Date Country   City Specie  count  min    max  median  variance\n",
       "526318 2018-12-31      IN  Delhi     co    640  0.1  105.3    21.5   3773.06\n",
       "526323 2019-01-01      IN  Delhi     co    668  0.1  116.8    17.6   3940.94\n",
       "526324 2019-01-02      IN  Delhi     co    681  0.1  138.9    19.9   4782.22\n",
       "526362 2019-01-03      IN  Delhi     co    663  0.1  133.8    18.5   2615.45\n",
       "526386 2019-01-04      IN  Delhi     co    645  0.2   91.0    15.0   1728.86\n",
       "...           ...     ...    ...    ...    ...  ...    ...     ...       ...\n",
       "428264 2020-06-29      IN  Delhi     co    804  0.1   84.5     6.2    415.50\n",
       "428213 2020-06-30      IN  Delhi     co    732  0.1   84.2     6.9    486.74\n",
       "428172 2020-07-01      IN  Delhi     co    892  0.1   41.6     7.4    207.65\n",
       "428310 2020-07-02      IN  Delhi     co    908  0.1   38.1     7.6    196.80\n",
       "428204 2020-07-03      IN  Delhi     co    470  0.1   33.4     7.8    216.10\n",
       "\n",
       "[564 rows x 9 columns]"
      ]
     },
     "execution_count": 20,
     "metadata": {},
     "output_type": "execute_result"
    }
   ],
   "source": [
    "# Filter dataframe to just India \n",
    "india_df = clean_airdf.loc[clean_airdf[\"Country\"] == \"IN\"] \n",
    "\n",
    "# Filter dataframe to just Delhi  \n",
    "delhi_df = india_df.loc[india_df[\"City\"] == \"Delhi\"]\n",
    "\n",
    "# Filter dataframe to just co air pollutant \n",
    "delhi_co_df = delhi_df.loc[delhi_df[\"Specie\"] == \"co\"]\n",
    "delhi_co_df"
   ]
  },
  {
   "cell_type": "code",
   "execution_count": 73,
   "metadata": {},
   "outputs": [
    {
     "data": {
      "text/plain": [
       "5.5"
      ]
     },
     "execution_count": 73,
     "metadata": {},
     "output_type": "execute_result"
    }
   ],
   "source": [
    "delhi_mid_2019['median'].min()"
   ]
  },
  {
   "cell_type": "code",
   "execution_count": 27,
   "metadata": {
    "scrolled": true
   },
   "outputs": [],
   "source": [
    "# Filter dates for 2019 Q1 - Q2\n",
    "start_date = '2019-01-01'\n",
    "end_date = '2019-06-30'\n",
    "d_mid_2019 = (delhi_co_df['Date'] >= start_date) & (delhi_co_df['Date'] <= end_date)\n",
    "delhi_mid_2019 = delhi_co_df.loc[d_mid_2019]\n",
    "delhi_mid_2019\n",
    "\n",
    "\n",
    "# Filter dates for 2020 Q1 - Q2 \n",
    "start_date = '2020-01-01'\n",
    "end_date = '2020-06-30'\n",
    "d_mid_2020 = (delhi_co_df['Date'] >= start_date) & (delhi_co_df['Date'] <= end_date)\n",
    "delhi_mid_2020 = delhi_co_df.loc[d_mid_2020]\n",
    "\n"
   ]
  },
  {
   "cell_type": "code",
   "execution_count": 77,
   "metadata": {},
   "outputs": [
    {
     "data": {
      "image/png": "[encoded data removed]",
      "text/plain": [
       "<Figure size 720x720 with 1 Axes>"
      ]
     },
     "metadata": {
      "needs_background": "light"
     },
     "output_type": "display_data"
    }
   ],
   "source": [
    "fig, ax = plt.subplots(figsize=(10, 10))\n",
    "\n",
    "# Plot\n",
    "ax.plot(delhi_mid_2019['Date'],\n",
    "        delhi_mid_2019['median'],\n",
    "        color='blue', linewidth = 1)\n",
    "\n",
    "# Set titles and labels \n",
    "ax.set(xlabel=\"Date\",\n",
    "       ylabel=\"Median Levels of CO2\",\n",
    "       title=\"Melbourne: Median Levels of CO2 in First Half of 2019\")\n",
    "\n",
    "\n",
    "# Format tick marks \n",
    "ax.set_ylim(2,30)\n",
    "plt.setp(ax.get_xticklabels(), rotation=45)\n",
    "plt.tight_layout()\n",
    "plt.show()"
   ]
  },
  {
   "cell_type": "code",
   "execution_count": 79,
   "metadata": {},
   "outputs": [
    {
     "data": {
      "image/png": "[encoded data removed]",
      "text/plain": [
       "<Figure size 720x720 with 1 Axes>"
      ]
     },
     "metadata": {
      "needs_background": "light"
     },
     "output_type": "display_data"
    }
   ],
   "source": [
    "fig, ax = plt.subplots(figsize=(10, 10))\n",
    "\n",
    "# Plot\n",
    "ax.plot(delhi_mid_2020['Date'],\n",
    "        delhi_mid_2020['median'],\n",
    "        color='blue', linewidth = 1)\n",
    "\n",
    "# Set titles and labels \n",
    "ax.set(xlabel=\"Date\",\n",
    "       ylabel=\"Median Levels of CO2\",\n",
    "       title=\"Melbourne: Median Levels of CO2 in First Half of 2020\")\n",
    "\n",
    "\n",
    "# Format tick marks \n",
    "ax.set_ylim(2,30)\n",
    "plt.setp(ax.get_xticklabels(), rotation=45)\n",
    "plt.tight_layout()\n",
    "plt.show()"
   ]
  },
  {
   "cell_type": "markdown",
   "metadata": {},
   "source": [
    "CO DATA ON MELBOURNE "
   ]
  },
  {
   "cell_type": "code",
   "execution_count": 29,
   "metadata": {
    "scrolled": true
   },
   "outputs": [
    {
     "data": {
      "text/html": [
       "<div>\n",
       "<style scoped>\n",
       "    .dataframe tbody tr th:only-of-type {\n",
       "        vertical-align: middle;\n",
       "    }\n",
       "\n",
       "    .dataframe tbody tr th {\n",
       "        vertical-align: top;\n",
       "    }\n",
       "\n",
       "    .dataframe thead th {\n",
       "        text-align: right;\n",
       "    }\n",
       "</style>\n",
       "<table border=\"1\" class=\"dataframe\">\n",
       "  <thead>\n",
       "    <tr style=\"text-align: right;\">\n",
       "      <th></th>\n",
       "      <th>Date</th>\n",
       "      <th>Country</th>\n",
       "      <th>City</th>\n",
       "      <th>Specie</th>\n",
       "      <th>count</th>\n",
       "      <th>min</th>\n",
       "      <th>max</th>\n",
       "      <th>median</th>\n",
       "      <th>variance</th>\n",
       "    </tr>\n",
       "  </thead>\n",
       "  <tbody>\n",
       "    <tr>\n",
       "      <th>655955</th>\n",
       "      <td>2018-12-31</td>\n",
       "      <td>AU</td>\n",
       "      <td>Melbourne</td>\n",
       "      <td>co</td>\n",
       "      <td>36</td>\n",
       "      <td>1.2</td>\n",
       "      <td>3.4</td>\n",
       "      <td>2.3</td>\n",
       "      <td>5.10</td>\n",
       "    </tr>\n",
       "    <tr>\n",
       "      <th>655956</th>\n",
       "      <td>2019-01-01</td>\n",
       "      <td>AU</td>\n",
       "      <td>Melbourne</td>\n",
       "      <td>co</td>\n",
       "      <td>18</td>\n",
       "      <td>1.2</td>\n",
       "      <td>2.3</td>\n",
       "      <td>1.2</td>\n",
       "      <td>3.20</td>\n",
       "    </tr>\n",
       "    <tr>\n",
       "      <th>655963</th>\n",
       "      <td>2019-01-02</td>\n",
       "      <td>AU</td>\n",
       "      <td>Melbourne</td>\n",
       "      <td>co</td>\n",
       "      <td>18</td>\n",
       "      <td>1.2</td>\n",
       "      <td>2.3</td>\n",
       "      <td>1.2</td>\n",
       "      <td>3.20</td>\n",
       "    </tr>\n",
       "    <tr>\n",
       "      <th>655975</th>\n",
       "      <td>2019-01-03</td>\n",
       "      <td>AU</td>\n",
       "      <td>Melbourne</td>\n",
       "      <td>co</td>\n",
       "      <td>48</td>\n",
       "      <td>1.2</td>\n",
       "      <td>4.5</td>\n",
       "      <td>2.3</td>\n",
       "      <td>13.47</td>\n",
       "    </tr>\n",
       "    <tr>\n",
       "      <th>655942</th>\n",
       "      <td>2019-01-04</td>\n",
       "      <td>AU</td>\n",
       "      <td>Melbourne</td>\n",
       "      <td>co</td>\n",
       "      <td>54</td>\n",
       "      <td>1.2</td>\n",
       "      <td>4.5</td>\n",
       "      <td>2.3</td>\n",
       "      <td>13.09</td>\n",
       "    </tr>\n",
       "    <tr>\n",
       "      <th>...</th>\n",
       "      <td>...</td>\n",
       "      <td>...</td>\n",
       "      <td>...</td>\n",
       "      <td>...</td>\n",
       "      <td>...</td>\n",
       "      <td>...</td>\n",
       "      <td>...</td>\n",
       "      <td>...</td>\n",
       "      <td>...</td>\n",
       "    </tr>\n",
       "    <tr>\n",
       "      <th>175518</th>\n",
       "      <td>2020-06-29</td>\n",
       "      <td>AU</td>\n",
       "      <td>Melbourne</td>\n",
       "      <td>co</td>\n",
       "      <td>115</td>\n",
       "      <td>1.8</td>\n",
       "      <td>15.6</td>\n",
       "      <td>6.2</td>\n",
       "      <td>111.74</td>\n",
       "    </tr>\n",
       "    <tr>\n",
       "      <th>175618</th>\n",
       "      <td>2020-06-30</td>\n",
       "      <td>AU</td>\n",
       "      <td>Melbourne</td>\n",
       "      <td>co</td>\n",
       "      <td>107</td>\n",
       "      <td>1.7</td>\n",
       "      <td>11.2</td>\n",
       "      <td>3.2</td>\n",
       "      <td>46.83</td>\n",
       "    </tr>\n",
       "    <tr>\n",
       "      <th>175566</th>\n",
       "      <td>2020-07-01</td>\n",
       "      <td>AU</td>\n",
       "      <td>Melbourne</td>\n",
       "      <td>co</td>\n",
       "      <td>115</td>\n",
       "      <td>0.5</td>\n",
       "      <td>9.8</td>\n",
       "      <td>8.5</td>\n",
       "      <td>99.23</td>\n",
       "    </tr>\n",
       "    <tr>\n",
       "      <th>175597</th>\n",
       "      <td>2020-07-02</td>\n",
       "      <td>AU</td>\n",
       "      <td>Melbourne</td>\n",
       "      <td>co</td>\n",
       "      <td>100</td>\n",
       "      <td>1.0</td>\n",
       "      <td>7.6</td>\n",
       "      <td>2.0</td>\n",
       "      <td>17.19</td>\n",
       "    </tr>\n",
       "    <tr>\n",
       "      <th>175544</th>\n",
       "      <td>2020-07-03</td>\n",
       "      <td>AU</td>\n",
       "      <td>Melbourne</td>\n",
       "      <td>co</td>\n",
       "      <td>80</td>\n",
       "      <td>0.8</td>\n",
       "      <td>4.4</td>\n",
       "      <td>1.9</td>\n",
       "      <td>2.71</td>\n",
       "    </tr>\n",
       "  </tbody>\n",
       "</table>\n",
       "<p>544 rows × 9 columns</p>\n",
       "</div>"
      ],
      "text/plain": [
       "             Date Country       City Specie  count  min   max  median  \\\n",
       "655955 2018-12-31      AU  Melbourne     co     36  1.2   3.4     2.3   \n",
       "655956 2019-01-01      AU  Melbourne     co     18  1.2   2.3     1.2   \n",
       "655963 2019-01-02      AU  Melbourne     co     18  1.2   2.3     1.2   \n",
       "655975 2019-01-03      AU  Melbourne     co     48  1.2   4.5     2.3   \n",
       "655942 2019-01-04      AU  Melbourne     co     54  1.2   4.5     2.3   \n",
       "...           ...     ...        ...    ...    ...  ...   ...     ...   \n",
       "175518 2020-06-29      AU  Melbourne     co    115  1.8  15.6     6.2   \n",
       "175618 2020-06-30      AU  Melbourne     co    107  1.7  11.2     3.2   \n",
       "175566 2020-07-01      AU  Melbourne     co    115  0.5   9.8     8.5   \n",
       "175597 2020-07-02      AU  Melbourne     co    100  1.0   7.6     2.0   \n",
       "175544 2020-07-03      AU  Melbourne     co     80  0.8   4.4     1.9   \n",
       "\n",
       "        variance  \n",
       "655955      5.10  \n",
       "655956      3.20  \n",
       "655963      3.20  \n",
       "655975     13.47  \n",
       "655942     13.09  \n",
       "...          ...  \n",
       "175518    111.74  \n",
       "175618     46.83  \n",
       "175566     99.23  \n",
       "175597     17.19  \n",
       "175544      2.71  \n",
       "\n",
       "[544 rows x 9 columns]"
      ]
     },
     "execution_count": 29,
     "metadata": {},
     "output_type": "execute_result"
    }
   ],
   "source": [
    "# Filter dataframe to just Australia \n",
    "au_df = clean_airdf.loc[clean_airdf[\"Country\"] == \"AU\"] \n",
    "\n",
    "# Filter dataframe to just Melbourne \n",
    "mel_df = au_df.loc[au_df[\"City\"] == \"Melbourne\"]\n",
    "\n",
    "# Filter dataframe to just co air pollutant \n",
    "mel_co_df = mel_df.loc[mel_df[\"Specie\"] == \"co\"]\n",
    "mel_co_df"
   ]
  },
  {
   "cell_type": "code",
   "execution_count": 33,
   "metadata": {},
   "outputs": [],
   "source": [
    "# Filter dates for 2019 Q1 - Q2\n",
    "start_date = '2019-01-01'\n",
    "end_date = '2019-06-30'\n",
    "m_mid_2019 = (mel_co_df['Date'] >= start_date) & (mel_co_df['Date'] <= end_date)\n",
    "mel_mid_2019 = mel_co_df.loc[m_mid_2019]\n",
    "\n",
    "# Filter dates for 2020 Q1 - Q2\n",
    "start_date = '2020-01-01'\n",
    "end_date = '2020-06-30'\n",
    "m_mid_2020 = (mel_co_df['Date'] >= start_date) & (mel_co_df['Date'] <= end_date)\n",
    "mel_mid_2020 = mel_co_df.loc[m_mid_2020]\n"
   ]
  },
  {
   "cell_type": "code",
   "execution_count": 50,
   "metadata": {
    "scrolled": true
   },
   "outputs": [
    {
     "data": {
      "text/plain": [
       "23.4"
      ]
     },
     "execution_count": 50,
     "metadata": {},
     "output_type": "execute_result"
    }
   ],
   "source": [
    "mel_mid_2020['median'].max()"
   ]
  },
  {
   "cell_type": "code",
   "execution_count": 71,
   "metadata": {},
   "outputs": [
    {
     "data": {
      "image/png": "[encoded data removed]",
      "text/plain": [
       "<Figure size 720x720 with 1 Axes>"
      ]
     },
     "metadata": {
      "needs_background": "light"
     },
     "output_type": "display_data"
    }
   ],
   "source": [
    "fig, ax = plt.subplots(figsize=(10, 10))\n",
    "\n",
    "# Plot\n",
    "ax.plot(mel_mid_2019['Date'],\n",
    "        mel_mid_2019['median'],\n",
    "        color='purple', linewidth = 1)\n",
    "\n",
    "# Set titles and labels \n",
    "ax.set(xlabel=\"Date\",\n",
    "       ylabel=\"Median Levels of CO2\",\n",
    "       title=\"Melbourne: Median Levels of CO2 in First Half of 2019\")\n",
    "\n",
    "\n",
    "# Format tick marks \n",
    "ax.set_ylim(0,6)\n",
    "plt.setp(ax.get_xticklabels(), rotation=45)\n",
    "plt.tight_layout()\n",
    "plt.show()"
   ]
  },
  {
   "cell_type": "code",
   "execution_count": 78,
   "metadata": {},
   "outputs": [
    {
     "data": {
      "image/png": "[encoded data removed]",
      "text/plain": [
       "<Figure size 720x720 with 1 Axes>"
      ]
     },
     "metadata": {
      "needs_background": "light"
     },
     "output_type": "display_data"
    }
   ],
   "source": [
    "fig, ax = plt.subplots(figsize=(10, 10))\n",
    "\n",
    "# Plot\n",
    "ax.plot(mel_mid_2020['Date'],\n",
    "        mel_mid_2020['median'],\n",
    "        color='purple', linewidth = 1)\n",
    "\n",
    "# Set titles and labels \n",
    "ax.set(xlabel=\"Date\",\n",
    "       ylabel=\"Median Levels of CO2\",\n",
    "       title=\"Melbourne: Median Levels of CO2 in First Half of 2020\")\n",
    "\n",
    "\n",
    "# Format tick marks \n",
    "ax.set_ylim(0,6)\n",
    "plt.setp(ax.get_xticklabels(), rotation=45)\n",
    "plt.tight_layout()\n",
    "plt.show()"
   ]
  },
  {
   "cell_type": "code",
   "execution_count": null,
   "metadata": {},
   "outputs": [],
   "source": []
  },
  {
   "cell_type": "code",
   "execution_count": null,
   "metadata": {},
   "outputs": [],
   "source": [
    "\n"
   ]
  },
  {
   "cell_type": "code",
   "execution_count": null,
   "metadata": {},
   "outputs": [],
   "source": []
  },
  {
   "cell_type": "code",
   "execution_count": null,
   "metadata": {},
   "outputs": [],
   "source": []
  },
  {
   "cell_type": "code",
   "execution_count": null,
   "metadata": {},
   "outputs": [],
   "source": []
  },
  {
   "cell_type": "code",
   "execution_count": null,
   "metadata": {},
   "outputs": [],
   "source": []
  },
  {
   "cell_type": "code",
   "execution_count": null,
   "metadata": {},
   "outputs": [],
   "source": []
  },
  {
   "cell_type": "code",
   "execution_count": null,
   "metadata": {},
   "outputs": [],
   "source": []
  },
  {
   "cell_type": "code",
   "execution_count": null,
   "metadata": {},
   "outputs": [],
   "source": []
  },
  {
   "cell_type": "code",
   "execution_count": null,
   "metadata": {},
   "outputs": [],
   "source": []
  },
  {
   "cell_type": "code",
   "execution_count": null,
   "metadata": {},
   "outputs": [],
   "source": []
  },
  {
   "cell_type": "code",
   "execution_count": null,
   "metadata": {},
   "outputs": [],
   "source": []
  },
  {
   "cell_type": "markdown",
   "metadata": {},
   "source": [
    "## COVID-19 DATA EXPLORATION AND CLEAN UP"
   ]
  },
  {
   "cell_type": "markdown",
   "metadata": {},
   "source": [
    "Covid-19 is sourced from here https://covid19api.com/"
   ]
  },
  {
   "cell_type": "code",
   "execution_count": null,
   "metadata": {},
   "outputs": [],
   "source": [
    "country_url = \"https://api.covid19api.com/countries\"\n",
    "country_covid_data = requests.get(country_url).json()\n",
    "pprint(country_covid_data)"
   ]
  },
  {
   "cell_type": "code",
   "execution_count": null,
   "metadata": {},
   "outputs": [],
   "source": [
    "country_covid_df = pd.DataFrame(country_covid_data)\n",
    "country_covid_df"
   ]
  },
  {
   "cell_type": "code",
   "execution_count": null,
   "metadata": {},
   "outputs": [],
   "source": [
    "# Merge countries available on the air quality data and the covid data\n",
    "country_covid_air_df = pd.merge(\n",
    "    country_airdata_df, country_covid_df, how=\"left\", left_on=\"country_code\", right_on=\"ISO2\")\n",
    "country_covid_air_df"
   ]
  },
  {
   "cell_type": "code",
   "execution_count": null,
   "metadata": {},
   "outputs": [],
   "source": [
    "# Find the country in the country_airdata_df but not country_covid_df\n",
    "country_to_remove = country_covid_air_df[country_covid_air_df[\"ISO2\"].isna()][\"country_code\"].tolist()\n",
    "country_to_remove"
   ]
  },
  {
   "cell_type": "code",
   "execution_count": null,
   "metadata": {},
   "outputs": [],
   "source": [
    "final_airdf = clean_airdf[~clean_airdf[\"Country\"].isin(country_to_remove)].copy()"
   ]
  },
  {
   "cell_type": "code",
   "execution_count": null,
   "metadata": {},
   "outputs": [],
   "source": [
    "final_airdf[\"Country\"].nunique()"
   ]
  },
  {
   "cell_type": "code",
   "execution_count": null,
   "metadata": {},
   "outputs": [],
   "source": [
    "final_airdf.to_csv(\"air_data.csv\", index=False)"
   ]
  },
  {
   "cell_type": "code",
   "execution_count": null,
   "metadata": {},
   "outputs": [],
   "source": [
    "country_covid_air_df"
   ]
  },
  {
   "cell_type": "code",
   "execution_count": null,
   "metadata": {},
   "outputs": [],
   "source": [
    "del country_covid_air_df[\"ISO2\"]"
   ]
  },
  {
   "cell_type": "code",
   "execution_count": null,
   "metadata": {},
   "outputs": [],
   "source": [
    "# Return a dataframe covering all countries in both the air quality data and covid-19 data.\n",
    "country_covid_air_df = country_covid_air_df[~country_covid_air_df[\"country_code\"].isin(\n",
    "    country_to_remove)].reset_index()\n",
    "country_covid_air_df"
   ]
  },
  {
   "cell_type": "code",
   "execution_count": null,
   "metadata": {},
   "outputs": [],
   "source": [
    "# Explore one covid API - By Country Total All Status\n",
    "covid_url_example = \"https://api.covid19api.com/total/country/australia\"\n",
    "covid_data_example = requests.get(covid_url_example).json()\n",
    "pprint(covid_data_example)"
   ]
  },
  {
   "cell_type": "markdown",
   "metadata": {},
   "source": [
    "The above api example covers covid-19 data until 4th July 2020. It also shows the number of confirmed, active, recovered, and death cases for each chosen country over the course of the current pandemic. Hence, we'll use this api to loop through our country_covid_air_df as above."
   ]
  },
  {
   "cell_type": "code",
   "execution_count": null,
   "metadata": {},
   "outputs": [],
   "source": [
    "slug_list = country_covid_air_df[\"Slug\"].tolist()\n",
    "len(slug_list)"
   ]
  },
  {
   "cell_type": "code",
   "execution_count": null,
   "metadata": {},
   "outputs": [],
   "source": [
    "base_covid_url = \"https://api.covid19api.com/total/country/\"\n",
    "    \n",
    "country_list = list()\n",
    "date_list = list()\n",
    "active_list = list()\n",
    "confirmed_list = list()\n",
    "recovered_list = list()\n",
    "deaths_list = list()\n",
    "\n",
    "print(\"Beginning Data Retrieval\")\n",
    "print(\"-----------------------------------\")\n",
    "\n",
    "counter = 0\n",
    "set_counter = 1\n",
    "\n",
    "for slug in slug_list:\n",
    "    \n",
    "    try:\n",
    "        response = requests.get(base_covid_url + slug).json()\n",
    "    \n",
    "        for element in response:\n",
    "            country_list.append(element['Country'])\n",
    "            date_list.append(element['Date'])\n",
    "            active_list.append(element['Active'])\n",
    "            confirmed_list.append(element['Confirmed'])\n",
    "            recovered_list.append(element['Recovered'])\n",
    "            deaths_list.append(element['Deaths'])\n",
    "\n",
    "        counter += 1\n",
    "        print(f\"Processing Record {counter} of Set {set_counter} | {slug}\")\n",
    "\n",
    "        if counter == 50:\n",
    "            set_counter += 1\n",
    "            counter = 0\n",
    "\n",
    "    except KeyError:\n",
    "        print(\"Country not found. Skipping...\")\n",
    "\n",
    "print(\"-----------------------------------\")\n",
    "print(\"Data Retrieval Complete\")\n",
    "print(\"-----------------------------------\")"
   ]
  },
  {
   "cell_type": "code",
   "execution_count": null,
   "metadata": {},
   "outputs": [],
   "source": [
    "covid_df = pd.DataFrame({\n",
    "    \"Country\": country_list,\n",
    "    \"Date\": date_list,\n",
    "    \"Active cases\": active_list,\n",
    "    \"Confirmed cases\": confirmed_list,\n",
    "    \"Recovered cases\": recovered_list,\n",
    "    \"Deaths\": deaths_list\n",
    "})\n",
    "covid_df.head()"
   ]
  },
  {
   "cell_type": "code",
   "execution_count": null,
   "metadata": {},
   "outputs": [],
   "source": [
    "covid_df.info()"
   ]
  },
  {
   "cell_type": "code",
   "execution_count": null,
   "metadata": {},
   "outputs": [],
   "source": [
    "# Convert the Date column to datetime format\n",
    "covid_df['Date'] = covid_df['Date'].astype('datetime64[ns]')"
   ]
  },
  {
   "cell_type": "code",
   "execution_count": null,
   "metadata": {},
   "outputs": [],
   "source": [
    "# Find the earliest date the covid dataset covers:\n",
    "covid_df[\"Date\"].min()"
   ]
  },
  {
   "cell_type": "code",
   "execution_count": null,
   "metadata": {},
   "outputs": [],
   "source": [
    "# Find the latrest date the covid dataset covers:\n",
    "covid_df[\"Date\"].max()"
   ]
  },
  {
   "cell_type": "code",
   "execution_count": null,
   "metadata": {
    "scrolled": true
   },
   "outputs": [],
   "source": [
    "covid_df.info()"
   ]
  },
  {
   "cell_type": "code",
   "execution_count": null,
   "metadata": {},
   "outputs": [],
   "source": [
    "covid_df.to_csv(\"covid_data.csv\", index=False)"
   ]
  },
  {
   "cell_type": "code",
   "execution_count": null,
   "metadata": {},
   "outputs": [],
   "source": []
  },
  {
   "cell_type": "markdown",
   "metadata": {},
   "source": [
    "## COVID-19 in AUSTRALIA DATA EXPLORATION AND CLEAN UP"
   ]
  },
  {
   "cell_type": "code",
   "execution_count": null,
   "metadata": {},
   "outputs": [],
   "source": [
    "au_covid_url = \"https://interactive.guim.co.uk/docsdata/1q5gdePANXci8enuiS4oHUJxcxC13d6bjMRSicakychE.json\"\n",
    "au_covid_data = requests.get(au_covid_url).json()\n",
    "pprint(au_covid_data)"
   ]
  },
  {
   "cell_type": "code",
   "execution_count": null,
   "metadata": {},
   "outputs": [],
   "source": [
    "au_covid_data.keys()"
   ]
  },
  {
   "cell_type": "code",
   "execution_count": null,
   "metadata": {},
   "outputs": [],
   "source": [
    "au_covid_data['sheets'].keys()"
   ]
  },
  {
   "cell_type": "code",
   "execution_count": null,
   "metadata": {},
   "outputs": [],
   "source": [
    "covid_by_state = au_covid_data['sheets']['updates']\n",
    "covid_by_state[-1]"
   ]
  },
  {
   "cell_type": "code",
   "execution_count": null,
   "metadata": {},
   "outputs": [],
   "source": [
    "state_list = list()\n",
    "date_list = list()\n",
    "cumulative_case_count = list()\n",
    "cumulative_recovered_count = list()\n",
    "\n",
    "for element in covid_by_state:\n",
    "    state_list.append(element[\"State\"])\n",
    "    date_list.append(element[\"Date\"])\n",
    "    cumulative_case_count.append(element[\"Cumulative case count\"])\n",
    "    cumulative_recovered_count.append(element[\"Recovered (cumulative)\"])"
   ]
  },
  {
   "cell_type": "code",
   "execution_count": null,
   "metadata": {},
   "outputs": [],
   "source": [
    "clean_au_covid = pd.DataFrame({\n",
    "    \"State\": state_list,\n",
    "    \"Date\": date_list,\n",
    "    \"Cumulative case count\": cumulative_case_count,\n",
    "    \"Cumulative recovered count\": cumulative_recovered_count\n",
    "})\n",
    "clean_au_covid.head()"
   ]
  },
  {
   "cell_type": "code",
   "execution_count": null,
   "metadata": {},
   "outputs": [],
   "source": [
    "clean_au_covid.info()"
   ]
  },
  {
   "cell_type": "code",
   "execution_count": null,
   "metadata": {},
   "outputs": [],
   "source": [
    "clean_au_covid[\"Cumulative case count\"] = pd.to_numeric(\n",
    "    clean_au_covid[\"Cumulative case count\"])"
   ]
  },
  {
   "cell_type": "code",
   "execution_count": null,
   "metadata": {},
   "outputs": [],
   "source": [
    "clean_au_covid[\"Cumulative recovered count\"] = pd.to_numeric(\n",
    "    clean_au_covid[\"Cumulative recovered count\"].str.replace(\",\", \"\"))"
   ]
  },
  {
   "cell_type": "code",
   "execution_count": null,
   "metadata": {},
   "outputs": [],
   "source": [
    "# Convert the Date column to datetime format\n",
    "clean_au_covid['Date'] = pd.to_datetime(\n",
    "    clean_au_covid[\"Date\"], format=\"%d/%m/%Y\")"
   ]
  },
  {
   "cell_type": "code",
   "execution_count": null,
   "metadata": {},
   "outputs": [],
   "source": [
    "clean_au_covid.info()"
   ]
  },
  {
   "cell_type": "code",
   "execution_count": null,
   "metadata": {},
   "outputs": [],
   "source": [
    "clean_au_covid.fillna(0, inplace=True)"
   ]
  },
  {
   "cell_type": "code",
   "execution_count": null,
   "metadata": {},
   "outputs": [],
   "source": [
    "clean_au_covid.info()"
   ]
  },
  {
   "cell_type": "code",
   "execution_count": null,
   "metadata": {},
   "outputs": [],
   "source": [
    "clean_au_covid[[\"Cumulative case count\", \"Cumulative recovered count\"]] = clean_au_covid[[\n",
    "    \"Cumulative case count\", \"Cumulative recovered count\"]].astype(int)"
   ]
  },
  {
   "cell_type": "code",
   "execution_count": null,
   "metadata": {},
   "outputs": [],
   "source": [
    "clean_au_covid.info()"
   ]
  },
  {
   "cell_type": "code",
   "execution_count": null,
   "metadata": {},
   "outputs": [],
   "source": [
    "clean_au_covid.tail(20)"
   ]
  },
  {
   "cell_type": "code",
   "execution_count": null,
   "metadata": {},
   "outputs": [],
   "source": [
    "# Find the earliest date the covid dataset covers:\n",
    "clean_au_covid[\"Date\"].min()"
   ]
  },
  {
   "cell_type": "code",
   "execution_count": null,
   "metadata": {},
   "outputs": [],
   "source": [
    "# Find the latrest date the covid dataset covers:\n",
    "clean_au_covid[\"Date\"].max()"
   ]
  },
  {
   "cell_type": "code",
   "execution_count": null,
   "metadata": {},
   "outputs": [],
   "source": [
    "final_au_covid =  clean_au_covid[clean_au_covid[\"Date\"] <= \"2020-07-05\"].copy()"
   ]
  },
  {
   "cell_type": "code",
   "execution_count": null,
   "metadata": {},
   "outputs": [],
   "source": [
    "final_au_covid.to_csv(\"au_covid_data.csv\", index=False)"
   ]
  },
  {
   "cell_type": "code",
   "execution_count": null,
   "metadata": {},
   "outputs": [],
   "source": [
    "final_au_covid[\"Date\"].max()"
   ]
  },
  {
   "cell_type": "code",
   "execution_count": null,
   "metadata": {},
   "outputs": [],
   "source": []
  },
  {
   "cell_type": "code",
   "execution_count": null,
   "metadata": {},
   "outputs": [],
   "source": []
  },
  {
   "cell_type": "code",
   "execution_count": null,
   "metadata": {},
   "outputs": [],
   "source": []
  },
  {
   "cell_type": "code",
   "execution_count": null,
   "metadata": {},
   "outputs": [],
   "source": [
    "# import time\n",
    "# from scipy.stats import linregress\n",
    "\n",
    "# Incorporated citipy to determine city based on latitude and longitude\n",
    "# from citipy import citipy"
   ]
  },
  {
   "cell_type": "code",
   "execution_count": null,
   "metadata": {},
   "outputs": [],
   "source": [
    "# url = \"https://api.openaq.org/v1/measurements\"\n",
    "\n",
    "# data = requests.get(url).json()\n",
    "# pprint(data)"
   ]
  },
  {
   "cell_type": "code",
   "execution_count": null,
   "metadata": {},
   "outputs": [],
   "source": [
    "# len(data[\"results\"])"
   ]
  },
  {
   "cell_type": "code",
   "execution_count": null,
   "metadata": {},
   "outputs": [],
   "source": [
    "# data[\"results\"][0]"
   ]
  },
  {
   "cell_type": "code",
   "execution_count": null,
   "metadata": {},
   "outputs": [],
   "source": [
    "# Data source: https://aqicn.org/api/\n",
    "# base_url = \"https://api.waqi.info/feed/\"\n",
    "# city = \"melbourne\"\n",
    "# url = f\"{base_url}{city}/?token={api_key}\""
   ]
  },
  {
   "cell_type": "code",
   "execution_count": null,
   "metadata": {},
   "outputs": [],
   "source": [
    "# url_2 = \"https://api.covid19api.com/country/south-africa/status/confirmed/live\"\n",
    "# covid_data_2 = requests.get(url_2).json()\n",
    "# pprint(covid_data_2[-1])"
   ]
  }
 ],
 "metadata": {
  "kernelspec": {
   "display_name": "Python 3",
   "language": "python",
   "name": "python3"
  },
  "language_info": {
   "codemirror_mode": {
    "name": "ipython",
    "version": 3
   },
   "file_extension": ".py",
   "mimetype": "text/x-python",
   "name": "python",
   "nbconvert_exporter": "python",
   "pygments_lexer": "ipython3",
   "version": "3.7.6"
  },
  "toc": {
   "base_numbering": 1,
   "nav_menu": {},
   "number_sections": true,
   "sideBar": true,
   "skip_h1_title": false,
   "title_cell": "Table of Contents",
   "title_sidebar": "Contents",
   "toc_cell": true,
   "toc_position": {},
   "toc_section_display": true,
   "toc_window_display": false
  },
  "varInspector": {
   "cols": {
    "lenName": 16,
    "lenType": 16,
    "lenVar": 40
   },
   "kernels_config": {
    "python": {
     "delete_cmd_postfix": "",
     "delete_cmd_prefix": "del ",
     "library": "var_list.py",
     "varRefreshCmd": "print(var_dic_list())"
    },
    "r": {
     "delete_cmd_postfix": ") ",
     "delete_cmd_prefix": "rm(",
     "library": "var_list.r",
     "varRefreshCmd": "cat(var_dic_list()) "
    }
   },
   "types_to_exclude": [
    "module",
    "function",
    "builtin_function_or_method",
    "instance",
    "_Feature"
   ],
   "window_display": false
  }
 },
 "nbformat": 4,
 "nbformat_minor": 4
}
