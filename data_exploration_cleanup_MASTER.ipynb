{
 "cells": [
  {
   "cell_type": "markdown",
   "metadata": {
    "toc": true
   },
   "source": [
    "<h1>Table of Contents<span class=\"tocSkip\"></span></h1>\n",
    "<div class=\"toc\"><ul class=\"toc-item\"><li><span><a href=\"#IMPACT-OF-COVID-19-PANDEMIC-ON-AIR-QUALITY\" data-toc-modified-id=\"IMPACT-OF-COVID-19-PANDEMIC-ON-AIR-QUALITY-1\"><span class=\"toc-item-num\">1&nbsp;&nbsp;</span>IMPACT OF COVID-19 PANDEMIC ON AIR QUALITY</a></span><ul class=\"toc-item\"><li><span><a href=\"#Air-quality-Data-Exploration-and-Cleanup\" data-toc-modified-id=\"Air-quality-Data-Exploration-and-Cleanup-1.1\"><span class=\"toc-item-num\">1.1&nbsp;&nbsp;</span>Air quality Data Exploration and Cleanup</a></span><ul class=\"toc-item\"><li><span><a href=\"#Import-datasets-and-overview-of-the-air-quality-data\" data-toc-modified-id=\"Import-datasets-and-overview-of-the-air-quality-data-1.1.1\"><span class=\"toc-item-num\">1.1.1&nbsp;&nbsp;</span>Import datasets and overview of the air quality data</a></span></li><li><span><a href=\"#Slice-and-dice-the-data-to-clean-up\" data-toc-modified-id=\"Slice-and-dice-the-data-to-clean-up-1.1.2\"><span class=\"toc-item-num\">1.1.2&nbsp;&nbsp;</span>Slice and dice the data to clean up</a></span></li><li><span><a href=\"#Explore-the-data-through-graphs\" data-toc-modified-id=\"Explore-the-data-through-graphs-1.1.3\"><span class=\"toc-item-num\">1.1.3&nbsp;&nbsp;</span>Explore the data through graphs</a></span></li></ul></li><li><span><a href=\"#COVID-19-in-AUSTRALIA-DATA-EXPLORATION-AND-CLEAN-UP\" data-toc-modified-id=\"COVID-19-in-AUSTRALIA-DATA-EXPLORATION-AND-CLEAN-UP-1.2\"><span class=\"toc-item-num\">1.2&nbsp;&nbsp;</span>COVID-19 in AUSTRALIA DATA EXPLORATION AND CLEAN UP</a></span></li><li><span><a href=\"#COVID-19-DATA-EXPLORATION-AND-CLEAN-UP\" data-toc-modified-id=\"COVID-19-DATA-EXPLORATION-AND-CLEAN-UP-1.3\"><span class=\"toc-item-num\">1.3&nbsp;&nbsp;</span>COVID-19 DATA EXPLORATION AND CLEAN UP</a></span></li><li><span><a href=\"#COVID-19-in-AUSTRALIA-DATA-EXPLORATION-AND-CLEAN-UP\" data-toc-modified-id=\"COVID-19-in-AUSTRALIA-DATA-EXPLORATION-AND-CLEAN-UP-1.4\"><span class=\"toc-item-num\">1.4&nbsp;&nbsp;</span>COVID-19 in AUSTRALIA DATA EXPLORATION AND CLEAN UP</a></span></li></ul></li></ul></div>"
   ]
  },
  {
   "cell_type": "markdown",
   "metadata": {},
   "source": [
    "# IMPACT OF COVID-19 PANDEMIC ON AIR QUALITY"
   ]
  },
  {
   "cell_type": "markdown",
   "metadata": {},
   "source": [
    "## Air quality Data Exploration and Cleanup"
   ]
  },
  {
   "cell_type": "code",
   "execution_count": 1,
   "metadata": {},
   "outputs": [],
   "source": [
    "# Dependencies and Setup\n",
    "import matplotlib.pyplot as plt\n",
    "import pandas as pd\n",
    "import numpy as np\n",
    "import requests\n",
    "import json\n",
    "from pprint import pprint\n",
    "\n",
    "# Import API key\n",
    "from config import api_key"
   ]
  },
  {
   "cell_type": "markdown",
   "metadata": {},
   "source": [
    "\"https://aqicn.org/data-platform/covid19/\n",
    "With the COVID-19 spreading out all over the world, the World Air Quality Index project team saw a surge in requests for global data covering the whole world map. As a result, the WAQI project is now providing a new dedicated data-set, updated 3 times a day, and covering about 380 major cities in the world, from January 2020 until now.\n",
    "\n",
    "The data for each major cities is based on the average (median) of several stations. The data set provides min, max, median and standard deviation for each of the air pollutant species (PM2.5,PM10, Ozone ...) as well as meteorological data (Wind, Temperature, ...). All air pollutant species are converted to the US EPA standard (i.e. no raw concentrations). All dates are UTC based. The count column is the number of samples used for calculating the median and standard deviation.\""
   ]
  },
  {
   "cell_type": "markdown",
   "metadata": {},
   "source": [
    "### Import datasets and overview of the air quality data"
   ]
  },
  {
   "cell_type": "code",
   "execution_count": null,
   "metadata": {},
   "outputs": [],
   "source": [
    "periods = [\"2020\", \"2019Q1\", \"2019Q2\", \"2019Q3\", \"2019Q4\"]\n",
    "\n",
    "df_list = list()\n",
    "\n",
    "for period in periods:\n",
    "    path = f\"historical_data/waqi-covid19-airqualitydata-{period}.csv\"\n",
    "    df = pd.read_csv(path)\n",
    "    df_list.append(df)"
   ]
  },
  {
   "cell_type": "markdown",
   "metadata": {},
   "source": [
    "* **parse_dates**\n",
    "* ** "
   ]
  },
  {
   "cell_type": "code",
   "execution_count": null,
   "metadata": {},
   "outputs": [],
   "source": [
    "airdf_2019_2020 = pd.concat(df_list, ignore_index=True)"
   ]
  },
  {
   "cell_type": "code",
   "execution_count": null,
   "metadata": {},
   "outputs": [],
   "source": [
    "airdf_2019_2020.head()"
   ]
  },
  {
   "cell_type": "markdown",
   "metadata": {},
   "source": [
    "### Slice and dice the data to clean up"
   ]
  },
  {
   "cell_type": "code",
   "execution_count": null,
   "metadata": {},
   "outputs": [],
   "source": [
    "# Display an overview of the Specie column\n",
    "airdf_2019_2020[\"Specie\"].unique()"
   ]
  },
  {
   "cell_type": "code",
   "execution_count": null,
   "metadata": {},
   "outputs": [],
   "source": [
    "airdf_2019_2020[\"Specie\"].value_counts()"
   ]
  },
  {
   "cell_type": "markdown",
   "metadata": {},
   "source": [
    "> We understand that \"Air movements influence the fate of air pollutants. So any study of air pollution should include a study of the local weather patterns (meteorology). If the air is calm and pollutants cannot disperse, then the concentration of these pollutants will build up. On the other hand, when strong, turbulent winds blow, pollutants disperse quickly, resulting in lower pollutant concentrations.\" https://www.qld.gov.au/environment/pollution/monitoring/air/air-monitoring/meteorology-influence/meteorology-factors#:~:text=Meteorological%20factors-,Meteorological%20factors,these%20pollutants%20will%20build%20up.\n",
    "Hence the Meteorology parameters like temperature, humidity, pressure, wind speed, to name a few, should have some sorts of correlations with the air quality.\n",
    "(http://www.bom.gov.au/vic/observations/melbourne.shtml)\n",
    "\n",
    "> However, due to the scope of our project, we'll only focus on air pollutant parameters to assess their changes before COVID-19 and 6 months into the pandemic. We're not trying to explain the causes of air quality change. Hence, we'll remove data related to the following meteorology-related species: **temperature, humidity, pressure, wind-speed, dew, wind-gust, wind speed, wind gust, precipitation, wd (wind direction), uvi**.\n",
    "https://aqicn.org/publishingdata/\n",
    "\n",
    "> We'll also remove species with the least number of available data points  including **pol, pm1, mepaqi, neph**."
   ]
  },
  {
   "cell_type": "code",
   "execution_count": null,
   "metadata": {},
   "outputs": [],
   "source": [
    "species_to_remove = [\"temperature\", \"humidity\", \"pressure\", \"wind-speed\", \"dew\", \"wind-gust\",\n",
    "                     \"wind speed\", \"wind gust\", \"precipitation\", \"wd\", \"uvi\", \"pol\", \"pm1\", \"mepaqi\", \"neph\"]\n",
    "\n",
    "clean_airdf = airdf_2019_2020[~airdf_2019_2020[\"Specie\"].isin(\n",
    "    species_to_remove)].reset_index(drop=True).copy()"
   ]
  },
  {
   "cell_type": "code",
   "execution_count": null,
   "metadata": {},
   "outputs": [],
   "source": [
    "clean_airdf.head()"
   ]
  },
  {
   "cell_type": "code",
   "execution_count": null,
   "metadata": {},
   "outputs": [],
   "source": [
    "clean_airdf[\"Specie\"].value_counts()"
   ]
  },
  {
   "cell_type": "markdown",
   "metadata": {},
   "source": [
    "More about AQI:\n",
    "https://www.airnow.gov/aqi/aqi-basics/\n",
    "https://www.airnow.gov/sites/default/files/2020-05/aqi-technical-assistance-document-sept2018.pdf\n",
    "\"Five major pollutants:\n",
    "EPA establishes an AQI for five major air pollutants regulated by the Clean Air Act. Each of these pollutants has a national air quality standard set by EPA to protect public health:\n",
    "\n",
    "* Ground-level ozone **o3** (ppm - parts per million)\n",
    "* Particulate Matter - including PM2.5 **pm25** and PM10 **pm10** (μg/m3)\n",
    "* Carbon Monoxide **co** (ppm)\n",
    "* Sulfur Dioxide **so2** (ppb - parts per billion)\n",
    "* Nitrogen Dioxide **no2** (ppb)"
   ]
  },
  {
   "cell_type": "markdown",
   "metadata": {},
   "source": [
    "https://en.wikipedia.org/wiki/Air_pollution"
   ]
  },
  {
   "cell_type": "markdown",
   "metadata": {},
   "source": [
    "\"https://waqi.info/\n",
    "The Air Quality Index is based on measurement of particulate matter (PM2.5 and PM10), Ozone (O3), Nitrogen Dioxide (NO2), Sulfur Dioxide (SO2) and Carbon Monoxide (CO) emissions. Most of the stations on the map are monitoring both PM2.5 and PM10 data, but there are few exceptions where only PM10 is available.\n",
    "\n",
    "All measurements are based on hourly readings: For instance, an AQI reported at 8AM means that the measurement was done from 7AM to 8AM.\n",
    "More details https://aqicn.org/faq/\n",
    "\n",
    "\n",
    "https://www.weatherbit.io/api/airquality-history#:~:text=Air%20Quality%20API%20(Historical),an%20air%20quality%20index%20score.\n",
    "\n",
    "aqi: Air Quality Index [US - EPA standard 0 - +500]\n",
    "o3: Concentration of surface O3 (µg/m³)\n",
    "so2: Concentration of surface SO2 (µg/m³)\n",
    "no2: Concentration of surface NO2 (µg/m³)\n",
    "co: Concentration of carbon monoxide (µg/m³)\n",
    "pm25: Concentration of particulate matter < 2.5 microns (µg/m³)\n",
    "pm10: Concentration of particulate matter < 10 microns (µg/m³)\n",
    "\n",
    "Some good info on air pollution impacts https://ourworldindata.org/air-pollution\n",
    "https://www.who.int/health-topics/air-pollution#tab=tab_1\n",
    "https://www.epa.vic.gov.au/for-community/airwatch\n",
    "https://www.kaggle.com/frtgnn/clean-air-india-s-air-quality/data"
   ]
  },
  {
   "cell_type": "code",
   "execution_count": null,
   "metadata": {},
   "outputs": [],
   "source": [
    "clean_airdf.info()"
   ]
  },
  {
   "cell_type": "markdown",
   "metadata": {},
   "source": [
    "We can see that the Date column is of generic object type. Since we want to perform some time related analysis on this data, we need to convert it to a datetime format. Let’s use to_datetime() function to convert the Date column into a datetime object. "
   ]
  },
  {
   "cell_type": "code",
   "execution_count": null,
   "metadata": {},
   "outputs": [],
   "source": [
    "clean_airdf[\"Date\"] = pd.to_datetime(clean_airdf[\"Date\"], format=\"%d/%m/%Y\")"
   ]
  },
  {
   "cell_type": "code",
   "execution_count": null,
   "metadata": {},
   "outputs": [],
   "source": [
    "clean_airdf.info()"
   ]
  },
  {
   "cell_type": "code",
   "execution_count": null,
   "metadata": {},
   "outputs": [],
   "source": [
    "# Find the earliest date the air quality dataset covers:\n",
    "clean_airdf[\"Date\"].min()"
   ]
  },
  {
   "cell_type": "code",
   "execution_count": null,
   "metadata": {},
   "outputs": [],
   "source": [
    "# Find the latest date the air quality dataset covers:\n",
    "cut_off_date = clean_airdf[\"Date\"].max()\n",
    "cut_off_date"
   ]
  },
  {
   "cell_type": "code",
   "execution_count": null,
   "metadata": {},
   "outputs": [],
   "source": [
    "clean_airdf[\"Country\"].unique()"
   ]
  },
  {
   "cell_type": "code",
   "execution_count": null,
   "metadata": {},
   "outputs": [],
   "source": [
    "# Display an overview of the Country column\n",
    "country_airdata_df = pd.DataFrame(clean_airdf[\"Country\"].unique(), columns=[\"country_code\"])\n",
    "country_airdata_df"
   ]
  },
  {
   "cell_type": "markdown",
   "metadata": {},
   "source": [
    "There are 95 countries in the dataframe, including Australia (AU)...."
   ]
  },
  {
   "cell_type": "code",
   "execution_count": null,
   "metadata": {},
   "outputs": [],
   "source": [
    "# Display an overview of the City column\n",
    "clean_airdf[\"City\"].unique()"
   ]
  },
  {
   "cell_type": "code",
   "execution_count": null,
   "metadata": {},
   "outputs": [],
   "source": [
    "clean_airdf[\"City\"].value_counts()"
   ]
  },
  {
   "cell_type": "markdown",
   "metadata": {},
   "source": [
    "There are 615 cities in our dataframe. Let's see what cities in Australia covered in the dataset."
   ]
  },
  {
   "cell_type": "code",
   "execution_count": null,
   "metadata": {},
   "outputs": [],
   "source": [
    "clean_airdf.loc[clean_airdf[\"Country\"]==\"AU\", \"City\"].value_counts()"
   ]
  },
  {
   "cell_type": "markdown",
   "metadata": {},
   "source": [
    "### Explore the data through graphs"
   ]
  },
  {
   "cell_type": "code",
   "execution_count": null,
   "metadata": {},
   "outputs": [],
   "source": [
    "unique_species = clean_airdf[\"Specie\"].unique()\n",
    "unique_species"
   ]
  },
  {
   "cell_type": "code",
   "execution_count": null,
   "metadata": {},
   "outputs": [],
   "source": []
  },
  {
   "cell_type": "code",
   "execution_count": null,
   "metadata": {},
   "outputs": [],
   "source": [
    "def specie_median_distribution(df, country):\n",
    "\n",
    "    country_air_df = df[df[\"Country\"] == country]\n",
    "\n",
    "    fig, ax = plt.subplots(\n",
    "        figsize=(10, 3*len(unique_species)),\n",
    "        ncols=1,\n",
    "        nrows=len(unique_species)\n",
    "        )\n",
    "\n",
    "    for index, specie in enumerate(unique_species):\n",
    "        red_square=dict(markerfacecolor='r', marker='s', alpha=0.4)\n",
    "\n",
    "        country_air_df[country_air_df[\"Specie\"] == specie].boxplot(\n",
    "            column=\"median\",\n",
    "            flierprops=red_square,\n",
    "            ax=ax[index],\n",
    "            vert=False)"
   ]
  },
  {
   "cell_type": "code",
   "execution_count": null,
   "metadata": {},
   "outputs": [],
   "source": [
    "country_air_df[country_air_df[\"Specie\"] == specie].boxplot(\n",
    "            column=\"median\",\n",
    "            flierprops=red_square,\n",
    "            ax=ax[index],\n",
    "            vert=False)"
   ]
  },
  {
   "cell_type": "code",
   "execution_count": null,
   "metadata": {},
   "outputs": [],
   "source": [
    "au_air_df = clean_airdf[clean_airdf[\"Country\"]==]"
   ]
  },
  {
   "cell_type": "code",
   "execution_count": null,
   "metadata": {},
   "outputs": [],
   "source": [
    "        ax[index].set_title=f\"Distribution of median {specie} values in {country} (2019-2020H1)\""
   ]
  },
  {
   "cell_type": "code",
   "execution_count": null,
   "metadata": {},
   "outputs": [],
   "source": [
    "specie_median_distribution(clean_airdf, \"AU\")"
   ]
  },
  {
   "cell_type": "code",
   "execution_count": null,
   "metadata": {},
   "outputs": [],
   "source": [
    "variance_0_df = clean_airdf[cleanclean_airdf[\"variance\"]==0]\n",
    "variance_0_df"
   ]
  },
  {
   "cell_type": "code",
   "execution_count": null,
   "metadata": {},
   "outputs": [],
   "source": [
    "clean_airdf[clean_airdf[\"Specie\"]==\"pm25\"]"
   ]
  },
  {
   "cell_type": "code",
   "execution_count": null,
   "metadata": {},
   "outputs": [],
   "source": [
    "clean_airdf[(clean_airdf[\"Specie\"]==\"pm25\") & (clean_airdf[\"median\"]>=800)]"
   ]
  },
  {
   "cell_type": "code",
   "execution_count": null,
   "metadata": {},
   "outputs": [],
   "source": [
    "specie_median_distribution(clean_airdf, \"no2\")"
   ]
  },
  {
   "cell_type": "code",
   "execution_count": null,
   "metadata": {},
   "outputs": [],
   "source": [
    "clean_airdf[(clean_airdf[\"Specie\"]==\"no2\") & (clean_airdf[\"median\"]>=150)]"
   ]
  },
  {
   "cell_type": "code",
   "execution_count": null,
   "metadata": {},
   "outputs": [],
   "source": [
    "specie_median_distribution(clean_airdf, \"pm10\")"
   ]
  },
  {
   "cell_type": "code",
   "execution_count": null,
   "metadata": {},
   "outputs": [],
   "source": [
    "clean_airdf[(clean_airdf[\"Specie\"]==\"pm10\") & (clean_airdf[\"median\"]>=800)]"
   ]
  },
  {
   "cell_type": "code",
   "execution_count": null,
   "metadata": {},
   "outputs": [],
   "source": [
    "specie_median_distribution(clean_airdf, \"o3\")"
   ]
  },
  {
   "cell_type": "code",
   "execution_count": null,
   "metadata": {},
   "outputs": [],
   "source": [
    "clean_airdf[(clean_airdf[\"Specie\"]==\"o3\") & (clean_airdf[\"median\"]>=350)]"
   ]
  },
  {
   "cell_type": "code",
   "execution_count": null,
   "metadata": {},
   "outputs": [],
   "source": [
    "specie_median_distribution(clean_airdf, \"so2\")"
   ]
  },
  {
   "cell_type": "code",
   "execution_count": null,
   "metadata": {},
   "outputs": [],
   "source": [
    "clean_airdf[(clean_airdf[\"Specie\"]==\"so2\") & (clean_airdf[\"median\"]>=300)]"
   ]
  },
  {
   "cell_type": "code",
   "execution_count": null,
   "metadata": {},
   "outputs": [],
   "source": [
    "specie_median_distribution(clean_airdf, \"co\")"
   ]
  },
  {
   "cell_type": "code",
   "execution_count": null,
   "metadata": {},
   "outputs": [],
   "source": [
    "clean_airdf[(clean_airdf[\"Specie\"]==\"co\") & (clean_airdf[\"median\"]>=300)]"
   ]
  },
  {
   "cell_type": "code",
   "execution_count": null,
   "metadata": {},
   "outputs": [],
   "source": [
    "specie_median_distribution(clean_airdf, \"aqi\")"
   ]
  },
  {
   "cell_type": "code",
   "execution_count": null,
   "metadata": {},
   "outputs": [],
   "source": [
    "clean_airdf[(clean_airdf[\"Specie\"]==\"aqi\") & (clean_airdf[\"median\"]>=350)]"
   ]
  },
  {
   "cell_type": "code",
   "execution_count": null,
   "metadata": {},
   "outputs": [],
   "source": [
    "variance_0_df[\"Country\"].unique()"
   ]
  },
  {
   "cell_type": "code",
   "execution_count": null,
   "metadata": {},
   "outputs": [],
   "source": []
  },
  {
   "cell_type": "code",
   "execution_count": null,
   "metadata": {},
   "outputs": [],
   "source": []
  },
  {
   "cell_type": "markdown",
   "metadata": {},
   "source": [
    "## COVID-19 in AUSTRALIA DATA EXPLORATION AND CLEAN UP"
   ]
  },
  {
   "cell_type": "code",
   "execution_count": null,
   "metadata": {},
   "outputs": [],
   "source": [
    "au_covid_url = \"https://interactive.guim.co.uk/docsdata/1q5gdePANXci8enuiS4oHUJxcxC13d6bjMRSicakychE.json\"\n",
    "au_covid_data = requests.get(au_covid_url).json()\n",
    "pprint(au_covid_data)"
   ]
  },
  {
   "cell_type": "code",
   "execution_count": null,
   "metadata": {},
   "outputs": [],
   "source": [
    "au_covid_data.keys()"
   ]
  },
  {
   "cell_type": "code",
   "execution_count": null,
   "metadata": {},
   "outputs": [],
   "source": [
    "au_covid_data['sheets'].keys()"
   ]
  },
  {
   "cell_type": "code",
   "execution_count": null,
   "metadata": {},
   "outputs": [],
   "source": [
    "covid_by_state = au_covid_data['sheets']['updates']\n",
    "covid_by_state[-1]"
   ]
  },
  {
   "cell_type": "code",
   "execution_count": null,
   "metadata": {},
   "outputs": [],
   "source": [
    "state_list = list()\n",
    "date_list = list()\n",
    "cumulative_case_count = list()\n",
    "cumulative_recovered_count = list()\n",
    "\n",
    "for element in covid_by_state:\n",
    "    state_list.append(element[\"State\"])\n",
    "    date_list.append(element[\"Date\"])\n",
    "    cumulative_case_count.append(element[\"Cumulative case count\"])\n",
    "    cumulative_recovered_count.append(element[\"Recovered (cumulative)\"])"
   ]
  },
  {
   "cell_type": "code",
   "execution_count": null,
   "metadata": {},
   "outputs": [],
   "source": [
    "au_covid_df = pd.DataFrame({\n",
    "    \"State\": state_list,\n",
    "    \"Date\": date_list,\n",
    "    \"Cumulative case count\": cumulative_case_count,\n",
    "    \"Cumulative recovered count\": cumulative_recovered_count\n",
    "})\n",
    "au_covid_df.head()"
   ]
  },
  {
   "cell_type": "code",
   "execution_count": null,
   "metadata": {},
   "outputs": [],
   "source": [
    "au_covid_df.info()"
   ]
  },
  {
   "cell_type": "code",
   "execution_count": null,
   "metadata": {},
   "outputs": [],
   "source": [
    "au_covid_df[\"Cumulative case count\"] = pd.to_numeric(au_covid_df[\"Cumulative case count\"])"
   ]
  },
  {
   "cell_type": "code",
   "execution_count": null,
   "metadata": {},
   "outputs": [],
   "source": [
    "au_covid_df[\"Cumulative recovered count\"] = pd.to_numeric(au_covid_df[\"Cumulative recovered count\"].str.replace(\",\", \"\"))"
   ]
  },
  {
   "cell_type": "code",
   "execution_count": null,
   "metadata": {},
   "outputs": [],
   "source": [
    "# Convert the Date column to datetime format\n",
    "au_covid_df['Date'] = pd.to_datetime(au_covid_df[\"Date\"], format=\"%d/%m/%Y\")"
   ]
  },
  {
   "cell_type": "code",
   "execution_count": null,
   "metadata": {},
   "outputs": [],
   "source": [
    "au_covid_df.info()"
   ]
  },
  {
   "cell_type": "code",
   "execution_count": null,
   "metadata": {},
   "outputs": [],
   "source": [
    "au_covid_df"
   ]
  },
  {
   "cell_type": "code",
   "execution_count": null,
   "metadata": {},
   "outputs": [],
   "source": [
    "au_covid_df.sort_values([\"State\", \"Date\"], inplace=True, ignore_index=True)\n",
    "au_covid_df"
   ]
  },
  {
   "cell_type": "code",
   "execution_count": null,
   "metadata": {},
   "outputs": [],
   "source": [
    "cols_to_fill = [\"Cumulative case count\", \"Cumulative recovered count\"]"
   ]
  },
  {
   "cell_type": "code",
   "execution_count": null,
   "metadata": {},
   "outputs": [],
   "source": [
    "au_covid_df[cols_to_fill]= au_covid_df.groupby(\"State\")[cols_to_fill].fillna(method=\"ffill\")"
   ]
  },
  {
   "cell_type": "code",
   "execution_count": null,
   "metadata": {},
   "outputs": [],
   "source": [
    "au_covid_df.fillna(0, inplace=True)"
   ]
  },
  {
   "cell_type": "code",
   "execution_count": null,
   "metadata": {},
   "outputs": [],
   "source": [
    "au_covid_df.info()"
   ]
  },
  {
   "cell_type": "code",
   "execution_count": null,
   "metadata": {},
   "outputs": [],
   "source": [
    "au_covid_df.to_csv(\"au_covid_3.csv\")"
   ]
  },
  {
   "cell_type": "code",
   "execution_count": null,
   "metadata": {},
   "outputs": [],
   "source": [
    "au_covid_df.info()"
   ]
  },
  {
   "cell_type": "code",
   "execution_count": null,
   "metadata": {},
   "outputs": [],
   "source": [
    "au_covid_df = au_covid_df.groupby(['State', 'Date'], as_index=False).apply(lambda group: group.ffill())"
   ]
  },
  {
   "cell_type": "code",
   "execution_count": null,
   "metadata": {},
   "outputs": [],
   "source": [
    "au_covid_df"
   ]
  },
  {
   "cell_type": "code",
   "execution_count": null,
   "metadata": {},
   "outputs": [],
   "source": [
    "au_covid_df.info()"
   ]
  },
  {
   "cell_type": "code",
   "execution_count": null,
   "metadata": {},
   "outputs": [],
   "source": [
    "au_covid_df.to_csv(\"au_covid_2.csv\")"
   ]
  },
  {
   "cell_type": "code",
   "execution_count": null,
   "metadata": {},
   "outputs": [],
   "source": [
    "state_date_groupby = au_covid_df.groupby([\"State\", \"Date\"])"
   ]
  },
  {
   "cell_type": "code",
   "execution_count": null,
   "metadata": {},
   "outputs": [],
   "source": []
  },
  {
   "cell_type": "code",
   "execution_count": null,
   "metadata": {},
   "outputs": [],
   "source": [
    "cols_to_fill = [\"Cumulative case count\", \"Cumulative recovered count\"]\n",
    "\n",
    "for col in cols_to_fill:\n",
    "    state_date_groupby[]"
   ]
  },
  {
   "cell_type": "code",
   "execution_count": null,
   "metadata": {},
   "outputs": [],
   "source": [
    "df[['date', 'building','var1', 'var2']] = df.groupby(['date', 'building'])[['var1', 'var2']].ffill()\n",
    "df[[\"var1\", \"var2\"]] = df[[\"var1\", \"var2\"]].fillna(df.groupby(['date', 'building'])[[\"var1\", \"var2\"]].ffill())"
   ]
  },
  {
   "cell_type": "code",
   "execution_count": null,
   "metadata": {},
   "outputs": [],
   "source": []
  },
  {
   "cell_type": "code",
   "execution_count": null,
   "metadata": {},
   "outputs": [],
   "source": [
    "clean_covid_df"
   ]
  },
  {
   "cell_type": "code",
   "execution_count": null,
   "metadata": {},
   "outputs": [],
   "source": [
    "clean_covid_df.info()"
   ]
  },
  {
   "cell_type": "code",
   "execution_count": null,
   "metadata": {},
   "outputs": [],
   "source": [
    "au_covid_df.update(au_covid_df.groupby([\"State\", \"Date\"])[\n",
    "                   [\"Cumulative case count\", \"Cumulative recovered count\"]].fillna(method='ffill'))"
   ]
  },
  {
   "cell_type": "code",
   "execution_count": null,
   "metadata": {},
   "outputs": [],
   "source": [
    "au_covid_df"
   ]
  },
  {
   "cell_type": "code",
   "execution_count": null,
   "metadata": {},
   "outputs": [],
   "source": [
    "au_covid_df.to_csv(\"au_covid.csv\")"
   ]
  },
  {
   "cell_type": "code",
   "execution_count": null,
   "metadata": {},
   "outputs": [],
   "source": [
    "au_covid_df.info()"
   ]
  },
  {
   "cell_type": "code",
   "execution_count": null,
   "metadata": {},
   "outputs": [],
   "source": [
    "au_covid_df[[\"Cumulative case count\", \"Cumulative recovered count\"]] = au_covid_df[[\n",
    "    \"Cumulative case count\", \"Cumulative recovered count\"]].astype(int)"
   ]
  },
  {
   "cell_type": "code",
   "execution_count": null,
   "metadata": {},
   "outputs": [],
   "source": [
    "au_covid_df.info()"
   ]
  },
  {
   "cell_type": "code",
   "execution_count": null,
   "metadata": {},
   "outputs": [],
   "source": [
    "au_covid_df.to_csv(\"au_covid.csv\")"
   ]
  },
  {
   "cell_type": "code",
   "execution_count": null,
   "metadata": {},
   "outputs": [],
   "source": []
  },
  {
   "cell_type": "code",
   "execution_count": null,
   "metadata": {},
   "outputs": [],
   "source": []
  },
  {
   "cell_type": "code",
   "execution_count": null,
   "metadata": {},
   "outputs": [],
   "source": []
  },
  {
   "cell_type": "code",
   "execution_count": null,
   "metadata": {},
   "outputs": [],
   "source": []
  },
  {
   "cell_type": "code",
   "execution_count": null,
   "metadata": {},
   "outputs": [],
   "source": [
    "vic_covid_df = au_covid_df[au_covid_df[\"State\"]==\"VIC\"]\n",
    "vic_covid_df"
   ]
  },
  {
   "cell_type": "code",
   "execution_count": null,
   "metadata": {},
   "outputs": [],
   "source": [
    "sorted_vic_df = vic_covid_df.sort_values(\"Date\", ignore_index=True)\n",
    "sorted_vic_df"
   ]
  },
  {
   "cell_type": "code",
   "execution_count": null,
   "metadata": {},
   "outputs": [],
   "source": [
    "sorted_vic_df.info()"
   ]
  },
  {
   "cell_type": "code",
   "execution_count": null,
   "metadata": {},
   "outputs": [],
   "source": [
    "sorted_vic_df.fillna(method=\"ffill\", inplace=True)"
   ]
  },
  {
   "cell_type": "code",
   "execution_count": null,
   "metadata": {},
   "outputs": [],
   "source": [
    "sorted_vic_df.info()"
   ]
  },
  {
   "cell_type": "code",
   "execution_count": null,
   "metadata": {},
   "outputs": [],
   "source": [
    "sorted_vic_df.fillna(0, inplace=True)"
   ]
  },
  {
   "cell_type": "code",
   "execution_count": null,
   "metadata": {},
   "outputs": [],
   "source": [
    "sorted_vic_df.info()"
   ]
  },
  {
   "cell_type": "code",
   "execution_count": null,
   "metadata": {},
   "outputs": [],
   "source": [
    "sorted_vic_df.plot(x=\"Date\", y=\"Cumulative case count\")"
   ]
  },
  {
   "cell_type": "code",
   "execution_count": null,
   "metadata": {},
   "outputs": [],
   "source": []
  },
  {
   "cell_type": "code",
   "execution_count": null,
   "metadata": {},
   "outputs": [],
   "source": []
  },
  {
   "cell_type": "code",
   "execution_count": null,
   "metadata": {},
   "outputs": [],
   "source": [
    "sorted_au_covid = au_covid_df.sort_values([\"State\", \"Date\"], ignore_index=True)\n",
    "sorted_au_covid.head()"
   ]
  },
  {
   "cell_type": "code",
   "execution_count": null,
   "metadata": {},
   "outputs": [],
   "source": [
    "filled_au_covid = sorted_au_covid.fillna(method='ffill')"
   ]
  },
  {
   "cell_type": "code",
   "execution_count": null,
   "metadata": {},
   "outputs": [],
   "source": [
    "filled_au_covid.info()"
   ]
  },
  {
   "cell_type": "code",
   "execution_count": null,
   "metadata": {},
   "outputs": [],
   "source": [
    "filled_au_covid.fillna(0, inplace=True)"
   ]
  },
  {
   "cell_type": "code",
   "execution_count": null,
   "metadata": {},
   "outputs": [],
   "source": [
    "filled_au_covid.info()"
   ]
  },
  {
   "cell_type": "code",
   "execution_count": null,
   "metadata": {},
   "outputs": [],
   "source": [
    "filled_au_covid.head()"
   ]
  },
  {
   "cell_type": "code",
   "execution_count": null,
   "metadata": {},
   "outputs": [],
   "source": [
    "filled_au_covid[[\"Cumulative case count\", \"Cumulative recovered count\"]] = filled_au_covid[[\n",
    "    \"Cumulative case count\", \"Cumulative recovered count\"]].astype(int)"
   ]
  },
  {
   "cell_type": "code",
   "execution_count": null,
   "metadata": {},
   "outputs": [],
   "source": [
    "filled_au_covid.info()"
   ]
  },
  {
   "cell_type": "code",
   "execution_count": null,
   "metadata": {},
   "outputs": [],
   "source": [
    "# Find the earliest date the covid dataset covers:\n",
    "filled_au_covid[\"Date\"].min()"
   ]
  },
  {
   "cell_type": "code",
   "execution_count": null,
   "metadata": {},
   "outputs": [],
   "source": [
    "# Find the latrest date the covid dataset covers:\n",
    "filled_au_covid[\"Date\"].max()"
   ]
  },
  {
   "cell_type": "code",
   "execution_count": null,
   "metadata": {},
   "outputs": [],
   "source": [
    "# Set cutoff time on 5th July 2020\n",
    "final_au_covid =  filled_au_covid[filled_au_covid[\"Date\"] <= \"2020-07-05\"].copy()"
   ]
  },
  {
   "cell_type": "code",
   "execution_count": null,
   "metadata": {},
   "outputs": [],
   "source": [
    "vic_covid_data = filled_au_covid[filled_au_covid[\"State\"]==\"VIC\"]\n",
    "vic_covid_data"
   ]
  },
  {
   "cell_type": "code",
   "execution_count": null,
   "metadata": {},
   "outputs": [],
   "source": [
    "clean_au_covid.info()"
   ]
  },
  {
   "cell_type": "code",
   "execution_count": null,
   "metadata": {},
   "outputs": [],
   "source": [
    "final_au_covid.to_csv(\"au_covid_data.csv\", index=False)"
   ]
  },
  {
   "cell_type": "code",
   "execution_count": null,
   "metadata": {},
   "outputs": [],
   "source": []
  },
  {
   "cell_type": "code",
   "execution_count": null,
   "metadata": {},
   "outputs": [],
   "source": []
  },
  {
   "cell_type": "code",
   "execution_count": null,
   "metadata": {},
   "outputs": [],
   "source": []
  },
  {
   "cell_type": "code",
   "execution_count": null,
   "metadata": {},
   "outputs": [],
   "source": []
  },
  {
   "cell_type": "markdown",
   "metadata": {},
   "source": [
    "## COVID-19 DATA EXPLORATION AND CLEAN UP"
   ]
  },
  {
   "cell_type": "markdown",
   "metadata": {},
   "source": [
    "Covid-19 is sourced from here https://covid19api.com/"
   ]
  },
  {
   "cell_type": "code",
   "execution_count": null,
   "metadata": {},
   "outputs": [],
   "source": [
    "country_url = \"https://api.covid19api.com/countries\"\n",
    "country_covid_data = requests.get(country_url).json()\n",
    "pprint(country_covid_data)"
   ]
  },
  {
   "cell_type": "code",
   "execution_count": null,
   "metadata": {},
   "outputs": [],
   "source": [
    "country_covid_df = pd.DataFrame(country_covid_data)\n",
    "country_covid_df"
   ]
  },
  {
   "cell_type": "code",
   "execution_count": null,
   "metadata": {},
   "outputs": [],
   "source": [
    "# Merge countries available on the air quality data and the covid data\n",
    "country_covid_air_df = pd.merge(\n",
    "    country_airdata_df, country_covid_df, how=\"left\", left_on=\"country_code\", right_on=\"ISO2\")\n",
    "country_covid_air_df"
   ]
  },
  {
   "cell_type": "code",
   "execution_count": null,
   "metadata": {},
   "outputs": [],
   "source": [
    "# Find the country in the country_airdata_df but not country_covid_df\n",
    "country_to_remove = country_covid_air_df[country_covid_air_df[\"ISO2\"].isna()][\"country_code\"].tolist()\n",
    "country_to_remove"
   ]
  },
  {
   "cell_type": "code",
   "execution_count": null,
   "metadata": {},
   "outputs": [],
   "source": [
    "final_airdf = clean_airdf[~clean_airdf[\"Country\"].isin(country_to_remove)].copy()"
   ]
  },
  {
   "cell_type": "code",
   "execution_count": null,
   "metadata": {},
   "outputs": [],
   "source": [
    "final_airdf[\"Country\"].nunique()"
   ]
  },
  {
   "cell_type": "code",
   "execution_count": null,
   "metadata": {},
   "outputs": [],
   "source": [
    "country_covid_air_df"
   ]
  },
  {
   "cell_type": "code",
   "execution_count": null,
   "metadata": {},
   "outputs": [],
   "source": [
    "del country_covid_air_df[\"ISO2\"]"
   ]
  },
  {
   "cell_type": "code",
   "execution_count": null,
   "metadata": {},
   "outputs": [],
   "source": [
    "# Return a dataframe covering all countries in both the air quality data and covid-19 data.\n",
    "country_covid_air_df = country_covid_air_df[~country_covid_air_df[\"country_code\"].isin(\n",
    "    country_to_remove)].reset_index()\n",
    "country_covid_air_df"
   ]
  },
  {
   "cell_type": "code",
   "execution_count": null,
   "metadata": {},
   "outputs": [],
   "source": [
    "# Explore one covid API - By Country Total All Status\n",
    "covid_url_example = \"https://api.covid19api.com/total/country/australia\"\n",
    "covid_data_example = requests.get(covid_url_example).json()\n",
    "pprint(covid_data_example)"
   ]
  },
  {
   "cell_type": "markdown",
   "metadata": {},
   "source": [
    "The above api example covers covid-19 data until 4th July 2020. It also shows the number of confirmed, active, recovered, and death cases for each chosen country over the course of the current pandemic. Hence, we'll use this api to loop through our country_covid_air_df as above."
   ]
  },
  {
   "cell_type": "code",
   "execution_count": null,
   "metadata": {},
   "outputs": [],
   "source": [
    "slug_list = country_covid_air_df[\"Slug\"].tolist()\n",
    "len(slug_list)"
   ]
  },
  {
   "cell_type": "code",
   "execution_count": null,
   "metadata": {},
   "outputs": [],
   "source": [
    "base_covid_url = \"https://api.covid19api.com/total/country/\"\n",
    "    \n",
    "country_list = list()\n",
    "date_list = list()\n",
    "active_list = list()\n",
    "confirmed_list = list()\n",
    "recovered_list = list()\n",
    "deaths_list = list()\n",
    "\n",
    "print(\"Beginning Data Retrieval\")\n",
    "print(\"-----------------------------------\")\n",
    "\n",
    "counter = 0\n",
    "set_counter = 1\n",
    "\n",
    "for slug in slug_list:\n",
    "    \n",
    "    try:\n",
    "        response = requests.get(base_covid_url + slug).json()\n",
    "    \n",
    "        for element in response:\n",
    "            country_list.append(element['Country'])\n",
    "            date_list.append(element['Date'])\n",
    "            active_list.append(element['Active'])\n",
    "            confirmed_list.append(element['Confirmed'])\n",
    "            recovered_list.append(element['Recovered'])\n",
    "            deaths_list.append(element['Deaths'])\n",
    "\n",
    "        counter += 1\n",
    "        print(f\"Processing Record {counter} of Set {set_counter} | {slug}\")\n",
    "\n",
    "        if counter == 50:\n",
    "            set_counter += 1\n",
    "            counter = 0\n",
    "\n",
    "    except KeyError:\n",
    "        print(\"Country not found. Skipping...\")\n",
    "\n",
    "print(\"-----------------------------------\")\n",
    "print(\"Data Retrieval Complete\")\n",
    "print(\"-----------------------------------\")"
   ]
  },
  {
   "cell_type": "code",
   "execution_count": null,
   "metadata": {},
   "outputs": [],
   "source": [
    "covid_df = pd.DataFrame({\n",
    "    \"Country\": country_list,\n",
    "    \"Date\": date_list,\n",
    "    \"Active cases\": active_list,\n",
    "    \"Confirmed cases\": confirmed_list,\n",
    "    \"Recovered cases\": recovered_list,\n",
    "    \"Deaths\": deaths_list\n",
    "})\n",
    "covid_df.head()"
   ]
  },
  {
   "cell_type": "code",
   "execution_count": null,
   "metadata": {},
   "outputs": [],
   "source": [
    "covid_df.info()"
   ]
  },
  {
   "cell_type": "code",
   "execution_count": null,
   "metadata": {},
   "outputs": [],
   "source": [
    "# Convert the Date column to datetime format\n",
    "covid_df['Date'] = covid_df['Date'].astype('datetime64[ns]')"
   ]
  },
  {
   "cell_type": "code",
   "execution_count": null,
   "metadata": {},
   "outputs": [],
   "source": [
    "# Find the earliest date the covid dataset covers:\n",
    "covid_df[\"Date\"].min()"
   ]
  },
  {
   "cell_type": "code",
   "execution_count": null,
   "metadata": {},
   "outputs": [],
   "source": [
    "# Find the latrest date the covid dataset covers:\n",
    "covid_df[\"Date\"].max()"
   ]
  },
  {
   "cell_type": "code",
   "execution_count": null,
   "metadata": {},
   "outputs": [],
   "source": [
    "# Set cutoff date to the latest date on the air quality data\n",
    "world_covid_df = covid_df[covid_df[\"Date\"] <= cut_off_date]"
   ]
  },
  {
   "cell_type": "code",
   "execution_count": null,
   "metadata": {
    "scrolled": true
   },
   "outputs": [],
   "source": [
    "world_covid_df.info()"
   ]
  },
  {
   "cell_type": "code",
   "execution_count": null,
   "metadata": {},
   "outputs": [],
   "source": [
    "world_covid_df.tail()"
   ]
  },
  {
   "cell_type": "code",
   "execution_count": null,
   "metadata": {},
   "outputs": [],
   "source": []
  },
  {
   "cell_type": "code",
   "execution_count": null,
   "metadata": {},
   "outputs": [],
   "source": []
  },
  {
   "cell_type": "code",
   "execution_count": null,
   "metadata": {},
   "outputs": [],
   "source": []
  },
  {
   "cell_type": "code",
   "execution_count": null,
   "metadata": {},
   "outputs": [],
   "source": [
    "# import time\n",
    "# from scipy.stats import linregress\n",
    "\n",
    "# Incorporated citipy to determine city based on latitude and longitude\n",
    "# from citipy import citipy"
   ]
  },
  {
   "cell_type": "code",
   "execution_count": null,
   "metadata": {},
   "outputs": [],
   "source": [
    "# url = \"https://api.openaq.org/v1/measurements\"\n",
    "\n",
    "# data = requests.get(url).json()\n",
    "# pprint(data)"
   ]
  },
  {
   "cell_type": "code",
   "execution_count": null,
   "metadata": {},
   "outputs": [],
   "source": [
    "# len(data[\"results\"])"
   ]
  },
  {
   "cell_type": "code",
   "execution_count": null,
   "metadata": {},
   "outputs": [],
   "source": [
    "# data[\"results\"][0]"
   ]
  },
  {
   "cell_type": "code",
   "execution_count": null,
   "metadata": {},
   "outputs": [],
   "source": [
    "# Data source: https://aqicn.org/api/\n",
    "# base_url = \"https://api.waqi.info/feed/\"\n",
    "# city = \"melbourne\"\n",
    "# url = f\"{base_url}{city}/?token={api_key}\""
   ]
  },
  {
   "cell_type": "code",
   "execution_count": null,
   "metadata": {},
   "outputs": [],
   "source": [
    "# url_2 = \"https://api.covid19api.com/country/south-africa/status/confirmed/live\"\n",
    "# covid_data_2 = requests.get(url_2).json()\n",
    "# pprint(covid_data_2[-1])"
   ]
  }
 ],
 "metadata": {
  "kernelspec": {
   "display_name": "Python [conda env:PythonData] *",
   "language": "python",
   "name": "conda-env-PythonData-py"
  },
  "language_info": {
   "codemirror_mode": {
    "name": "ipython",
    "version": 3
   },
   "file_extension": ".py",
   "mimetype": "text/x-python",
   "name": "python",
   "nbconvert_exporter": "python",
   "pygments_lexer": "ipython3",
   "version": "3.7.6"
  },
  "toc": {
   "base_numbering": 1,
   "nav_menu": {},
   "number_sections": true,
   "sideBar": true,
   "skip_h1_title": false,
   "title_cell": "Table of Contents",
   "title_sidebar": "Contents",
   "toc_cell": true,
   "toc_position": {},
   "toc_section_display": true,
   "toc_window_display": false
  },
  "varInspector": {
   "cols": {
    "lenName": 16,
    "lenType": 16,
    "lenVar": 40
   },
   "kernels_config": {
    "python": {
     "delete_cmd_postfix": "",
     "delete_cmd_prefix": "del ",
     "library": "var_list.py",
     "varRefreshCmd": "print(var_dic_list())"
    },
    "r": {
     "delete_cmd_postfix": ") ",
     "delete_cmd_prefix": "rm(",
     "library": "var_list.r",
     "varRefreshCmd": "cat(var_dic_list()) "
    }
   },
   "types_to_exclude": [
    "module",
    "function",
    "builtin_function_or_method",
    "instance",
    "_Feature"
   ],
   "window_display": false
  }
 },
 "nbformat": 4,
 "nbformat_minor": 4
}
