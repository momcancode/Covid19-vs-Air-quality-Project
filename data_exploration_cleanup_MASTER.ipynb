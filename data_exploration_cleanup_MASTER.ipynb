{
 "cells": [
  {
   "cell_type": "markdown",
   "metadata": {
    "toc": true
   },
   "source": [
    "<h1>Table of Contents<span class=\"tocSkip\"></span></h1>\n",
    "<div class=\"toc\"><ul class=\"toc-item\"><li><span><a href=\"#IMPACT-OF-COVID-19-PANDEMIC-ON-AIR-QUALITY\" data-toc-modified-id=\"IMPACT-OF-COVID-19-PANDEMIC-ON-AIR-QUALITY-1\"><span class=\"toc-item-num\">1&nbsp;&nbsp;</span>IMPACT OF COVID-19 PANDEMIC ON AIR QUALITY</a></span><ul class=\"toc-item\"><li><span><a href=\"#Air-quality-Data-Exploration-and-Cleanup\" data-toc-modified-id=\"Air-quality-Data-Exploration-and-Cleanup-1.1\"><span class=\"toc-item-num\">1.1&nbsp;&nbsp;</span>Air quality Data Exploration and Cleanup</a></span><ul class=\"toc-item\"><li><span><a href=\"#Import-datasets-and-overview-of-the-air-quality-data\" data-toc-modified-id=\"Import-datasets-and-overview-of-the-air-quality-data-1.1.1\"><span class=\"toc-item-num\">1.1.1&nbsp;&nbsp;</span>Import datasets and overview of the air quality data</a></span></li><li><span><a href=\"#Slice-and-dice-the-data-to-clean-up\" data-toc-modified-id=\"Slice-and-dice-the-data-to-clean-up-1.1.2\"><span class=\"toc-item-num\">1.1.2&nbsp;&nbsp;</span>Slice and dice the data to clean up</a></span></li><li><span><a href=\"#Explore-the-data-through-graphs\" data-toc-modified-id=\"Explore-the-data-through-graphs-1.1.3\"><span class=\"toc-item-num\">1.1.3&nbsp;&nbsp;</span>Explore the data through graphs</a></span></li></ul></li><li><span><a href=\"#COVID-19-in-AUSTRALIA-DATA-EXPLORATION-AND-CLEAN-UP\" data-toc-modified-id=\"COVID-19-in-AUSTRALIA-DATA-EXPLORATION-AND-CLEAN-UP-1.2\"><span class=\"toc-item-num\">1.2&nbsp;&nbsp;</span>COVID-19 in AUSTRALIA DATA EXPLORATION AND CLEAN UP</a></span></li><li><span><a href=\"#COVID-19-DATA-EXPLORATION-AND-CLEAN-UP\" data-toc-modified-id=\"COVID-19-DATA-EXPLORATION-AND-CLEAN-UP-1.3\"><span class=\"toc-item-num\">1.3&nbsp;&nbsp;</span>COVID-19 DATA EXPLORATION AND CLEAN UP</a></span></li></ul></li></ul></div>"
   ]
  },
  {
   "cell_type": "markdown",
   "metadata": {},
   "source": [
    "# IMPACT OF COVID-19 PANDEMIC ON AIR QUALITY"
   ]
  },
  {
   "cell_type": "markdown",
   "metadata": {},
   "source": [
    "## Air quality Data Exploration and Cleanup"
   ]
  },
  {
   "cell_type": "code",
   "execution_count": 1,
   "metadata": {},
   "outputs": [],
   "source": [
    "# Dependencies and Setup\n",
    "import matplotlib.pyplot as plt\n",
    "import pandas as pd\n",
    "import numpy as np\n",
    "import requests\n",
    "import json\n",
    "from pprint import pprint\n",
    "\n",
    "# Import API key\n",
    "from config import api_key"
   ]
  },
  {
   "cell_type": "markdown",
   "metadata": {},
   "source": [
    "\"https://aqicn.org/data-platform/covid19/\n",
    "With the COVID-19 spreading out all over the world, the World Air Quality Index project team saw a surge in requests for global data covering the whole world map. As a result, the WAQI project is now providing a new dedicated data-set, updated 3 times a day, and covering about 380 major cities in the world, from January 2020 until now.\n",
    "\n",
    "The data for each major cities is based on the average (median) of several stations. The data set provides min, max, median and standard deviation for each of the air pollutant species (PM2.5,PM10, Ozone ...) as well as meteorological data (Wind, Temperature, ...). All air pollutant species are converted to the US EPA standard (i.e. no raw concentrations). All dates are UTC based. The count column is the number of samples used for calculating the median and standard deviation.\""
   ]
  },
  {
   "cell_type": "markdown",
   "metadata": {},
   "source": [
    "### Import datasets and overview of the air quality data"
   ]
  },
  {
   "cell_type": "code",
   "execution_count": 2,
   "metadata": {},
   "outputs": [],
   "source": [
    "periods = [\"2020\", \"2019Q1\", \"2019Q2\", \"2019Q3\", \"2019Q4\"]\n",
    "\n",
    "df_list = list()\n",
    "\n",
    "for period in periods:\n",
    "    path = f\"historical_data/waqi-covid19-airqualitydata-{period}.csv\"\n",
    "    df = pd.read_csv(path)\n",
    "    df_list.append(df)"
   ]
  },
  {
   "cell_type": "code",
   "execution_count": 3,
   "metadata": {},
   "outputs": [],
   "source": [
    "airdf_2019_2020 = pd.concat(df_list, ignore_index=True)"
   ]
  },
  {
   "cell_type": "code",
   "execution_count": 4,
   "metadata": {},
   "outputs": [
    {
     "data": {
      "text/html": [
       "<div>\n",
       "<style scoped>\n",
       "    .dataframe tbody tr th:only-of-type {\n",
       "        vertical-align: middle;\n",
       "    }\n",
       "\n",
       "    .dataframe tbody tr th {\n",
       "        vertical-align: top;\n",
       "    }\n",
       "\n",
       "    .dataframe thead th {\n",
       "        text-align: right;\n",
       "    }\n",
       "</style>\n",
       "<table border=\"1\" class=\"dataframe\">\n",
       "  <thead>\n",
       "    <tr style=\"text-align: right;\">\n",
       "      <th></th>\n",
       "      <th>Date</th>\n",
       "      <th>Country</th>\n",
       "      <th>City</th>\n",
       "      <th>Specie</th>\n",
       "      <th>count</th>\n",
       "      <th>min</th>\n",
       "      <th>max</th>\n",
       "      <th>median</th>\n",
       "      <th>variance</th>\n",
       "    </tr>\n",
       "  </thead>\n",
       "  <tbody>\n",
       "    <tr>\n",
       "      <th>0</th>\n",
       "      <td>31/05/2020</td>\n",
       "      <td>IR</td>\n",
       "      <td>Isfahan</td>\n",
       "      <td>temperature</td>\n",
       "      <td>120</td>\n",
       "      <td>17.5</td>\n",
       "      <td>35.0</td>\n",
       "      <td>27.5</td>\n",
       "      <td>331.51</td>\n",
       "    </tr>\n",
       "    <tr>\n",
       "      <th>1</th>\n",
       "      <td>13/06/2020</td>\n",
       "      <td>IR</td>\n",
       "      <td>Isfahan</td>\n",
       "      <td>temperature</td>\n",
       "      <td>144</td>\n",
       "      <td>16.0</td>\n",
       "      <td>36.5</td>\n",
       "      <td>27.5</td>\n",
       "      <td>488.74</td>\n",
       "    </tr>\n",
       "    <tr>\n",
       "      <th>2</th>\n",
       "      <td>3/07/2020</td>\n",
       "      <td>IR</td>\n",
       "      <td>Isfahan</td>\n",
       "      <td>temperature</td>\n",
       "      <td>67</td>\n",
       "      <td>19.0</td>\n",
       "      <td>33.0</td>\n",
       "      <td>24.0</td>\n",
       "      <td>128.08</td>\n",
       "    </tr>\n",
       "    <tr>\n",
       "      <th>3</th>\n",
       "      <td>28/03/2020</td>\n",
       "      <td>IR</td>\n",
       "      <td>Isfahan</td>\n",
       "      <td>temperature</td>\n",
       "      <td>240</td>\n",
       "      <td>3.0</td>\n",
       "      <td>14.0</td>\n",
       "      <td>9.5</td>\n",
       "      <td>136.68</td>\n",
       "    </tr>\n",
       "    <tr>\n",
       "      <th>4</th>\n",
       "      <td>23/04/2020</td>\n",
       "      <td>IR</td>\n",
       "      <td>Isfahan</td>\n",
       "      <td>temperature</td>\n",
       "      <td>168</td>\n",
       "      <td>6.0</td>\n",
       "      <td>25.5</td>\n",
       "      <td>16.0</td>\n",
       "      <td>400.79</td>\n",
       "    </tr>\n",
       "  </tbody>\n",
       "</table>\n",
       "</div>"
      ],
      "text/plain": [
       "         Date Country     City       Specie  count   min   max  median  \\\n",
       "0  31/05/2020      IR  Isfahan  temperature    120  17.5  35.0    27.5   \n",
       "1  13/06/2020      IR  Isfahan  temperature    144  16.0  36.5    27.5   \n",
       "2   3/07/2020      IR  Isfahan  temperature     67  19.0  33.0    24.0   \n",
       "3  28/03/2020      IR  Isfahan  temperature    240   3.0  14.0     9.5   \n",
       "4  23/04/2020      IR  Isfahan  temperature    168   6.0  25.5    16.0   \n",
       "\n",
       "   variance  \n",
       "0    331.51  \n",
       "1    488.74  \n",
       "2    128.08  \n",
       "3    136.68  \n",
       "4    400.79  "
      ]
     },
     "execution_count": 4,
     "metadata": {},
     "output_type": "execute_result"
    }
   ],
   "source": [
    "airdf_2019_2020.head()"
   ]
  },
  {
   "cell_type": "markdown",
   "metadata": {},
   "source": [
    "### Slice and dice the data to clean up"
   ]
  },
  {
   "cell_type": "code",
   "execution_count": 5,
   "metadata": {},
   "outputs": [
    {
     "data": {
      "text/plain": [
       "array(['temperature', 'wind-speed', 'wind-gust', 'dew', 'pm25',\n",
       "       'humidity', 'wind speed', 'pressure', 'wind gust', 'co', 'so2',\n",
       "       'precipitation', 'no2', 'pm10', 'o3', 'aqi', 'pol', 'uvi', 'wd',\n",
       "       'neph', 'mepaqi', 'pm1'], dtype=object)"
      ]
     },
     "execution_count": 5,
     "metadata": {},
     "output_type": "execute_result"
    }
   ],
   "source": [
    "# Display an overview of the Specie column\n",
    "airdf_2019_2020[\"Specie\"].unique()"
   ]
  },
  {
   "cell_type": "code",
   "execution_count": 6,
   "metadata": {},
   "outputs": [
    {
     "data": {
      "text/plain": [
       "temperature      310236\n",
       "humidity         310145\n",
       "pressure         308517\n",
       "pm25             270688\n",
       "no2              266793\n",
       "pm10             264859\n",
       "wind-speed       263292\n",
       "o3               250438\n",
       "so2              226576\n",
       "dew              226147\n",
       "co               203776\n",
       "wind-gust        172805\n",
       "wind speed        47002\n",
       "wind gust         29576\n",
       "precipitation     26825\n",
       "wd                25720\n",
       "aqi                8267\n",
       "uvi                5632\n",
       "pol                3790\n",
       "pm1                1380\n",
       "mepaqi              564\n",
       "neph                440\n",
       "Name: Specie, dtype: int64"
      ]
     },
     "execution_count": 6,
     "metadata": {},
     "output_type": "execute_result"
    }
   ],
   "source": [
    "airdf_2019_2020[\"Specie\"].value_counts()"
   ]
  },
  {
   "cell_type": "markdown",
   "metadata": {},
   "source": [
    "> We understand that \"Air movements influence the fate of air pollutants. So any study of air pollution should include a study of the local weather patterns (meteorology). If the air is calm and pollutants cannot disperse, then the concentration of these pollutants will build up. On the other hand, when strong, turbulent winds blow, pollutants disperse quickly, resulting in lower pollutant concentrations.\" https://www.qld.gov.au/environment/pollution/monitoring/air/air-monitoring/meteorology-influence/meteorology-factors#:~:text=Meteorological%20factors-,Meteorological%20factors,these%20pollutants%20will%20build%20up.\n",
    "Hence the Meteorology parameters like temperature, humidity, pressure, wind speed, to name a few, should have some sorts of correlations with the air quality.\n",
    "(http://www.bom.gov.au/vic/observations/melbourne.shtml)\n",
    "\n",
    "> However, due to the scope of our project, we'll only focus on air pollutant parameters to assess their changes before COVID-19 and 6 months into the pandemic. We're not trying to explain the causes of air quality change. Hence, we'll remove data related to the following meteorology-related species: **temperature, humidity, pressure, wind-speed, dew, wind-gust, wind speed, wind gust, precipitation, wd (wind direction), uvi**.\n",
    "https://aqicn.org/publishingdata/\n",
    "\n",
    "> We'll also remove species with the least number of available data points  including **pol, pm1, mepaqi, neph**."
   ]
  },
  {
   "cell_type": "code",
   "execution_count": 7,
   "metadata": {},
   "outputs": [],
   "source": [
    "species_to_remove = [\"temperature\", \"humidity\", \"pressure\", \"wind-speed\", \"dew\", \"wind-gust\",\n",
    "                     \"wind speed\", \"wind gust\", \"precipitation\", \"wd\", \"uvi\", \"pol\", \"pm1\", \"mepaqi\", \"neph\"]\n",
    "\n",
    "clean_airdf = airdf_2019_2020[~airdf_2019_2020[\"Specie\"].isin(\n",
    "    species_to_remove)].reset_index(drop=True).copy()"
   ]
  },
  {
   "cell_type": "code",
   "execution_count": 8,
   "metadata": {},
   "outputs": [
    {
     "data": {
      "text/html": [
       "<div>\n",
       "<style scoped>\n",
       "    .dataframe tbody tr th:only-of-type {\n",
       "        vertical-align: middle;\n",
       "    }\n",
       "\n",
       "    .dataframe tbody tr th {\n",
       "        vertical-align: top;\n",
       "    }\n",
       "\n",
       "    .dataframe thead th {\n",
       "        text-align: right;\n",
       "    }\n",
       "</style>\n",
       "<table border=\"1\" class=\"dataframe\">\n",
       "  <thead>\n",
       "    <tr style=\"text-align: right;\">\n",
       "      <th></th>\n",
       "      <th>Date</th>\n",
       "      <th>Country</th>\n",
       "      <th>City</th>\n",
       "      <th>Specie</th>\n",
       "      <th>count</th>\n",
       "      <th>min</th>\n",
       "      <th>max</th>\n",
       "      <th>median</th>\n",
       "      <th>variance</th>\n",
       "    </tr>\n",
       "  </thead>\n",
       "  <tbody>\n",
       "    <tr>\n",
       "      <th>0</th>\n",
       "      <td>24/02/2020</td>\n",
       "      <td>IR</td>\n",
       "      <td>Isfahan</td>\n",
       "      <td>pm25</td>\n",
       "      <td>129</td>\n",
       "      <td>54.0</td>\n",
       "      <td>194.0</td>\n",
       "      <td>126.0</td>\n",
       "      <td>10921.40</td>\n",
       "    </tr>\n",
       "    <tr>\n",
       "      <th>1</th>\n",
       "      <td>7/05/2020</td>\n",
       "      <td>IR</td>\n",
       "      <td>Isfahan</td>\n",
       "      <td>pm25</td>\n",
       "      <td>168</td>\n",
       "      <td>17.0</td>\n",
       "      <td>168.0</td>\n",
       "      <td>91.0</td>\n",
       "      <td>14014.00</td>\n",
       "    </tr>\n",
       "    <tr>\n",
       "      <th>2</th>\n",
       "      <td>28/05/2020</td>\n",
       "      <td>IR</td>\n",
       "      <td>Isfahan</td>\n",
       "      <td>pm25</td>\n",
       "      <td>127</td>\n",
       "      <td>17.0</td>\n",
       "      <td>115.0</td>\n",
       "      <td>72.0</td>\n",
       "      <td>3558.56</td>\n",
       "    </tr>\n",
       "    <tr>\n",
       "      <th>3</th>\n",
       "      <td>20/02/2020</td>\n",
       "      <td>IR</td>\n",
       "      <td>Isfahan</td>\n",
       "      <td>pm25</td>\n",
       "      <td>113</td>\n",
       "      <td>26.0</td>\n",
       "      <td>181.0</td>\n",
       "      <td>76.0</td>\n",
       "      <td>11209.80</td>\n",
       "    </tr>\n",
       "    <tr>\n",
       "      <th>4</th>\n",
       "      <td>23/02/2020</td>\n",
       "      <td>IR</td>\n",
       "      <td>Isfahan</td>\n",
       "      <td>pm25</td>\n",
       "      <td>132</td>\n",
       "      <td>22.0</td>\n",
       "      <td>132.0</td>\n",
       "      <td>76.0</td>\n",
       "      <td>3209.67</td>\n",
       "    </tr>\n",
       "  </tbody>\n",
       "</table>\n",
       "</div>"
      ],
      "text/plain": [
       "         Date Country     City Specie  count   min    max  median  variance\n",
       "0  24/02/2020      IR  Isfahan   pm25    129  54.0  194.0   126.0  10921.40\n",
       "1   7/05/2020      IR  Isfahan   pm25    168  17.0  168.0    91.0  14014.00\n",
       "2  28/05/2020      IR  Isfahan   pm25    127  17.0  115.0    72.0   3558.56\n",
       "3  20/02/2020      IR  Isfahan   pm25    113  26.0  181.0    76.0  11209.80\n",
       "4  23/02/2020      IR  Isfahan   pm25    132  22.0  132.0    76.0   3209.67"
      ]
     },
     "execution_count": 8,
     "metadata": {},
     "output_type": "execute_result"
    }
   ],
   "source": [
    "clean_airdf.head()"
   ]
  },
  {
   "cell_type": "code",
   "execution_count": 9,
   "metadata": {},
   "outputs": [
    {
     "data": {
      "text/plain": [
       "pm25    270688\n",
       "no2     266793\n",
       "pm10    264859\n",
       "o3      250438\n",
       "so2     226576\n",
       "co      203776\n",
       "aqi       8267\n",
       "Name: Specie, dtype: int64"
      ]
     },
     "execution_count": 9,
     "metadata": {},
     "output_type": "execute_result"
    }
   ],
   "source": [
    "clean_airdf[\"Specie\"].value_counts()"
   ]
  },
  {
   "cell_type": "markdown",
   "metadata": {},
   "source": [
    "More about AQI:\n",
    "https://www.airnow.gov/aqi/aqi-basics/\n",
    "https://www.airnow.gov/sites/default/files/2020-05/aqi-technical-assistance-document-sept2018.pdf\n",
    "\"Five major pollutants:\n",
    "EPA establishes an AQI for five major air pollutants regulated by the Clean Air Act. Each of these pollutants has a national air quality standard set by EPA to protect public health:\n",
    "\n",
    "* Ground-level ozone **o3** (ppm - parts per million)\n",
    "* Particulate Matter - including PM2.5 **pm25** and PM10 **pm10** (μg/m3)\n",
    "* Carbon Monoxide **co** (ppm)\n",
    "* Sulfur Dioxide **so2** (ppb - parts per billion)\n",
    "* Nitrogen Dioxide **no2** (ppb)"
   ]
  },
  {
   "cell_type": "markdown",
   "metadata": {},
   "source": [
    "https://en.wikipedia.org/wiki/Air_pollution"
   ]
  },
  {
   "cell_type": "markdown",
   "metadata": {},
   "source": [
    "\"https://waqi.info/\n",
    "The Air Quality Index is based on measurement of particulate matter (PM2.5 and PM10), Ozone (O3), Nitrogen Dioxide (NO2), Sulfur Dioxide (SO2) and Carbon Monoxide (CO) emissions. Most of the stations on the map are monitoring both PM2.5 and PM10 data, but there are few exceptions where only PM10 is available.\n",
    "\n",
    "All measurements are based on hourly readings: For instance, an AQI reported at 8AM means that the measurement was done from 7AM to 8AM.\n",
    "More details https://aqicn.org/faq/\n",
    "\n",
    "\n",
    "https://www.weatherbit.io/api/airquality-history#:~:text=Air%20Quality%20API%20(Historical),an%20air%20quality%20index%20score.\n",
    "\n",
    "aqi: Air Quality Index [US - EPA standard 0 - +500]\n",
    "o3: Concentration of surface O3 (µg/m³)\n",
    "so2: Concentration of surface SO2 (µg/m³)\n",
    "no2: Concentration of surface NO2 (µg/m³)\n",
    "co: Concentration of carbon monoxide (µg/m³)\n",
    "pm25: Concentration of particulate matter < 2.5 microns (µg/m³)\n",
    "pm10: Concentration of particulate matter < 10 microns (µg/m³)\n",
    "\n",
    "Some good info on air pollution impacts https://ourworldindata.org/air-pollution\n",
    "https://www.who.int/health-topics/air-pollution#tab=tab_1\n",
    "https://www.epa.vic.gov.au/for-community/airwatch\n",
    "https://www.kaggle.com/frtgnn/clean-air-india-s-air-quality/data"
   ]
  },
  {
   "cell_type": "code",
   "execution_count": 10,
   "metadata": {},
   "outputs": [
    {
     "name": "stdout",
     "output_type": "stream",
     "text": [
      "<class 'pandas.core.frame.DataFrame'>\n",
      "RangeIndex: 1491397 entries, 0 to 1491396\n",
      "Data columns (total 9 columns):\n",
      " #   Column    Non-Null Count    Dtype  \n",
      "---  ------    --------------    -----  \n",
      " 0   Date      1491397 non-null  object \n",
      " 1   Country   1491397 non-null  object \n",
      " 2   City      1491397 non-null  object \n",
      " 3   Specie    1491397 non-null  object \n",
      " 4   count     1491397 non-null  int64  \n",
      " 5   min       1491397 non-null  float64\n",
      " 6   max       1491397 non-null  float64\n",
      " 7   median    1491397 non-null  float64\n",
      " 8   variance  1491397 non-null  float64\n",
      "dtypes: float64(4), int64(1), object(4)\n",
      "memory usage: 102.4+ MB\n"
     ]
    }
   ],
   "source": [
    "clean_airdf.info()"
   ]
  },
  {
   "cell_type": "markdown",
   "metadata": {},
   "source": [
    "We can see that the Date column is of generic object type. Since we want to perform some time related analysis on this data, we need to convert it to a datetime format. Let’s use to_datetime() function to convert the Date column into a datetime object. "
   ]
  },
  {
   "cell_type": "code",
   "execution_count": 11,
   "metadata": {},
   "outputs": [],
   "source": [
    "clean_airdf[\"Date\"] = pd.to_datetime(clean_airdf[\"Date\"], format=\"%d/%m/%Y\")"
   ]
  },
  {
   "cell_type": "code",
   "execution_count": 12,
   "metadata": {},
   "outputs": [
    {
     "name": "stdout",
     "output_type": "stream",
     "text": [
      "<class 'pandas.core.frame.DataFrame'>\n",
      "RangeIndex: 1491397 entries, 0 to 1491396\n",
      "Data columns (total 9 columns):\n",
      " #   Column    Non-Null Count    Dtype         \n",
      "---  ------    --------------    -----         \n",
      " 0   Date      1491397 non-null  datetime64[ns]\n",
      " 1   Country   1491397 non-null  object        \n",
      " 2   City      1491397 non-null  object        \n",
      " 3   Specie    1491397 non-null  object        \n",
      " 4   count     1491397 non-null  int64         \n",
      " 5   min       1491397 non-null  float64       \n",
      " 6   max       1491397 non-null  float64       \n",
      " 7   median    1491397 non-null  float64       \n",
      " 8   variance  1491397 non-null  float64       \n",
      "dtypes: datetime64[ns](1), float64(4), int64(1), object(3)\n",
      "memory usage: 102.4+ MB\n"
     ]
    }
   ],
   "source": [
    "clean_airdf.info()"
   ]
  },
  {
   "cell_type": "code",
   "execution_count": 13,
   "metadata": {},
   "outputs": [
    {
     "data": {
      "text/plain": [
       "Timestamp('2018-12-31 00:00:00')"
      ]
     },
     "execution_count": 13,
     "metadata": {},
     "output_type": "execute_result"
    }
   ],
   "source": [
    "# Find the earliest date the air quality dataset covers:\n",
    "starting_date = clean_airdf[\"Date\"].min()\n",
    "starting_date"
   ]
  },
  {
   "cell_type": "code",
   "execution_count": 14,
   "metadata": {},
   "outputs": [
    {
     "data": {
      "text/plain": [
       "Timestamp('2020-07-03 00:00:00')"
      ]
     },
     "execution_count": 14,
     "metadata": {},
     "output_type": "execute_result"
    }
   ],
   "source": [
    "# Find the latest date the air quality dataset covers:\n",
    "clean_airdf[\"Date\"].max()"
   ]
  },
  {
   "cell_type": "code",
   "execution_count": 15,
   "metadata": {},
   "outputs": [
    {
     "data": {
      "text/plain": [
       "array(['IR', 'TJ', 'BR', 'CN', 'DK', 'ES', 'ML', 'SK', 'XK', 'CL', 'DE',\n",
       "       'KW', 'MM', 'PH', 'PK', 'PL', 'RU', 'SE', 'SG', 'AE', 'BA', 'CZ',\n",
       "       'ID', 'IS', 'MO', 'RO', 'AR', 'AU', 'EC', 'GH', 'HK', 'PE', 'UA',\n",
       "       'EE', 'FR', 'JP', 'MN', 'FI', 'IE', 'IL', 'KZ', 'LA', 'UZ', 'BD',\n",
       "       'BE', 'GR', 'KR', 'LK', 'MK', 'MX', 'TR', 'AF', 'AT', 'GT', 'BO',\n",
       "       'CR', 'JO', 'PR', 'SA', 'SV', 'CA', 'IT', 'NO', 'RE', 'TM', 'ZA',\n",
       "       'BH', 'LT', 'TH', 'BG', 'CH', 'HU', 'MY', 'NL', 'NZ', 'UG', 'VN',\n",
       "       'ET', 'GE', 'GN', 'IQ', 'RS', 'TW', 'CI', 'CO', 'CY', 'DZ', 'HR',\n",
       "       'IN', 'KG', 'CW', 'GB', 'NP', 'PT', 'US'], dtype=object)"
      ]
     },
     "execution_count": 15,
     "metadata": {},
     "output_type": "execute_result"
    }
   ],
   "source": [
    "# Display an overview of the Country column\n",
    "clean_airdf[\"Country\"].unique()"
   ]
  },
  {
   "cell_type": "code",
   "execution_count": 16,
   "metadata": {},
   "outputs": [
    {
     "data": {
      "text/html": [
       "<div>\n",
       "<style scoped>\n",
       "    .dataframe tbody tr th:only-of-type {\n",
       "        vertical-align: middle;\n",
       "    }\n",
       "\n",
       "    .dataframe tbody tr th {\n",
       "        vertical-align: top;\n",
       "    }\n",
       "\n",
       "    .dataframe thead th {\n",
       "        text-align: right;\n",
       "    }\n",
       "</style>\n",
       "<table border=\"1\" class=\"dataframe\">\n",
       "  <thead>\n",
       "    <tr style=\"text-align: right;\">\n",
       "      <th></th>\n",
       "      <th>country_code</th>\n",
       "    </tr>\n",
       "  </thead>\n",
       "  <tbody>\n",
       "    <tr>\n",
       "      <th>0</th>\n",
       "      <td>IR</td>\n",
       "    </tr>\n",
       "    <tr>\n",
       "      <th>1</th>\n",
       "      <td>TJ</td>\n",
       "    </tr>\n",
       "    <tr>\n",
       "      <th>2</th>\n",
       "      <td>BR</td>\n",
       "    </tr>\n",
       "    <tr>\n",
       "      <th>3</th>\n",
       "      <td>CN</td>\n",
       "    </tr>\n",
       "    <tr>\n",
       "      <th>4</th>\n",
       "      <td>DK</td>\n",
       "    </tr>\n",
       "    <tr>\n",
       "      <th>...</th>\n",
       "      <td>...</td>\n",
       "    </tr>\n",
       "    <tr>\n",
       "      <th>90</th>\n",
       "      <td>CW</td>\n",
       "    </tr>\n",
       "    <tr>\n",
       "      <th>91</th>\n",
       "      <td>GB</td>\n",
       "    </tr>\n",
       "    <tr>\n",
       "      <th>92</th>\n",
       "      <td>NP</td>\n",
       "    </tr>\n",
       "    <tr>\n",
       "      <th>93</th>\n",
       "      <td>PT</td>\n",
       "    </tr>\n",
       "    <tr>\n",
       "      <th>94</th>\n",
       "      <td>US</td>\n",
       "    </tr>\n",
       "  </tbody>\n",
       "</table>\n",
       "<p>95 rows × 1 columns</p>\n",
       "</div>"
      ],
      "text/plain": [
       "   country_code\n",
       "0            IR\n",
       "1            TJ\n",
       "2            BR\n",
       "3            CN\n",
       "4            DK\n",
       "..          ...\n",
       "90           CW\n",
       "91           GB\n",
       "92           NP\n",
       "93           PT\n",
       "94           US\n",
       "\n",
       "[95 rows x 1 columns]"
      ]
     },
     "execution_count": 16,
     "metadata": {},
     "output_type": "execute_result"
    }
   ],
   "source": [
    "country_airdata_df = pd.DataFrame(clean_airdf[\"Country\"].unique(), columns=[\"country_code\"])\n",
    "country_airdata_df"
   ]
  },
  {
   "cell_type": "markdown",
   "metadata": {},
   "source": [
    "There are 95 countries in the dataframe, including Australia (AU)...."
   ]
  },
  {
   "cell_type": "code",
   "execution_count": 17,
   "metadata": {},
   "outputs": [
    {
     "data": {
      "text/plain": [
       "array(['Isfahan', 'Arāk', 'Karaj', 'Qom', 'Orūmīyeh', 'Yazd', 'Īlām',\n",
       "       'Kerman', 'Khorramshahr', 'Tabriz', 'Bandar Abbas', 'Sanandaj',\n",
       "       'Kermanshah', 'Khorramabad', 'Shiraz', 'Zanjān', 'Mashhad',\n",
       "       'Tehran', 'Dushanbe', 'São José dos Campos', 'Vitória',\n",
       "       'São Paulo', 'Beijing', 'Jieyang', 'Kunming', 'Hangzhou',\n",
       "       'Chongqing', 'Qingdao', 'Haikou', 'Ürümqi', 'Qiqihar', 'Guiyang',\n",
       "       'Shenzhen', 'Yunfu', 'Xuchang', 'Yinchuan', 'Shenyang', 'Lhasa',\n",
       "       'Shanghai', 'Changchun', 'Foshan', 'Nanning', 'Fushun', 'Hefei',\n",
       "       'Chengdu', 'Hohhot', 'Qinhuangdao', 'Shijiazhuang', 'Shantou',\n",
       "       'Zhengzhou', 'Nanjing', 'Xining', 'Xi’an', 'Zhuzhou', 'Wuhan',\n",
       "       'Tianjin', 'Changzhou', 'Nanchang', 'Shiyan', 'Xinxiang', 'Suzhou',\n",
       "       'Harbin', 'Lanzhou', 'Jinan', 'Changsha', 'Hegang', 'Anyang',\n",
       "       'Wuxi', 'Taiyuan', 'Guangzhou', 'Fuzhou', 'Ningbo', 'Xiamen',\n",
       "       'Dongguan', 'Copenhagen', 'Las Palmas de Gran Canaria',\n",
       "       'Salamanca', 'Barcelona', 'Donostia / San Sebastián',\n",
       "       'Gasteiz / Vitoria', 'Córdoba', 'Valladolid', 'Santander', 'Palma',\n",
       "       'Málaga', 'Zaragoza', 'Sevilla', 'Bilbao', 'Pamplona',\n",
       "       'Castelló de la Plana', 'Huelva', 'Granada', 'Madrid', 'Valencia',\n",
       "       'Burgos', 'Murcia', 'Santa Cruz de Tenerife', 'Oviedo', 'Bamako',\n",
       "       'Košice', 'Bratislava', 'Pristina', 'Rancagua', 'Osorno',\n",
       "       'Los Ángeles', 'Chillán', 'Calama', 'Puerto Montt', 'Valparaíso',\n",
       "       'Quilpué', 'Santiago', 'Talca', 'Concepción', 'Temuco',\n",
       "       'Stuttgart', 'Münster', 'Köln', 'Kassel', 'Karlsruhe', 'Mainz',\n",
       "       'Dresden', 'Munich', 'Berlin', 'Düsseldorf', 'Freiburg',\n",
       "       'Wiesbaden', 'Hannover', 'Augsburg', 'Darmstadt', 'Potsdam',\n",
       "       'Hamburg', 'Ḩawallī', 'Yangon', 'Baguio', 'Manila', 'Butuan',\n",
       "       'Karachi', 'Peshawar', 'Islamabad', 'Lahore', 'Łódź', 'Tarnów',\n",
       "       'Gdańsk', 'Katowice', 'Poznań', 'Rybnik', 'Szczecin', 'Kielce',\n",
       "       'Warsaw', 'Bydgoszcz', 'Zabrze', 'Wrocław', 'Płock', 'Kraków',\n",
       "       'Chelyabinsk', 'Nizhniy Novgorod', 'Saint Petersburg',\n",
       "       'Krasnoyarsk', 'Tomsk', 'Novosibirsk', 'Moscow', 'Stockholm',\n",
       "       'Göteborg', 'Malmö', 'Uppsala', 'Singapore', 'Abu Dhabi', 'Dubai',\n",
       "       'Sarajevo', 'Zenica', 'Tuzla', 'Prague', 'Ostrava', 'Brno',\n",
       "       'Pilsen', 'Olomouc', 'Jakarta', 'Reykjavík', 'Macau', 'Ploieşti',\n",
       "       'Craiova', 'Bacău', 'Râmnicu Vâlcea', 'Sibiu', 'Timişoara',\n",
       "       'Piteşti', 'Arad', 'Cluj-Napoca', 'Bucharest', 'Baia Mare',\n",
       "       'Oradea', 'Galaţi', 'Braşov', 'Iaşi', 'Constanţa', 'Brăila',\n",
       "       'Buenos Aires', 'Sydney', 'Newcastle', 'Launceston', 'Hobart',\n",
       "       'Darwin', 'Melbourne', 'Canberra', 'Adelaide', 'Brisbane', 'Perth',\n",
       "       'Wollongong', 'Quito', 'Accra', 'Hong Kong', 'Lima', 'Odessa',\n",
       "       'Ternopil', 'Kyiv', 'Kamianske', 'Dnipro', 'Zaporizhia', 'Lviv',\n",
       "       'Kryvyi Rih', 'Ivano-Frankivsk', 'Tallinn', 'Tours', 'Marseille',\n",
       "       'Nîmes', 'Besançon', 'Nantes', 'Rennes', 'Toulouse', 'Nancy',\n",
       "       'Clermont-Ferrand', 'Paris', 'Lille', 'Orléans', 'Montpellier',\n",
       "       'Lyon', 'Amiens', 'Dijon', 'Rouen', 'Grenoble', 'Toulon',\n",
       "       'Limoges', 'Caen', 'Perpignan', 'Bordeaux', 'Nice',\n",
       "       'Saint-Étienne', 'Metz', 'Strasbourg', 'Fukuoka', 'Kanazawa',\n",
       "       'Kumamoto', 'Akita', 'Kochi', 'Gifu-shi', 'Kyoto', 'Hiroshima',\n",
       "       'Shizuoka', 'Chiba', 'Sapporo', 'Yokohama', 'Tokyo', 'Saitama',\n",
       "       'Naha', 'Nagasaki', 'Toyama', 'Niigata', 'Nara-shi', 'Okayama',\n",
       "       'Sendai', 'Osaka', 'Miyazaki', 'Matsuyama', 'Wakayama',\n",
       "       'Takamatsu', 'Nagoya', 'Ōita', 'Kobe', 'Nagano', 'Utsunomiya',\n",
       "       'Kagoshima', 'Ulan Bator', 'Vantaa', 'Turku', 'Oulu', 'Helsinki',\n",
       "       'Tampere', 'Dublin', 'Tel Aviv', 'Haifa', 'Jerusalem', 'Ashdod',\n",
       "       'Netanya', 'Ashkelon', 'Petaẖ Tiqwa', 'Nur-Sultan', 'Almaty',\n",
       "       'Vientiane', 'Tashkent', 'Dhaka', 'Liège', 'Brussels', 'Charleroi',\n",
       "       'Gent', 'Namur', 'Antwerpen', 'Thessaloníki', 'Athens', 'Jeonju',\n",
       "       'Seoul', 'Busan', 'Sejong', 'Ulsan', 'Yeosu', 'Gwangju',\n",
       "       'Seongnam-si', 'Daejeon', 'Pohang', 'Changwon', 'Suwon',\n",
       "       'Cheongju-si', 'Chuncheon', 'Daegu', 'Jeju City', 'Incheon',\n",
       "       'Suncheon', 'Mokpo', 'Andong', 'Colombo', 'Skopje',\n",
       "       'Ecatepec de Morelos', 'Guadalajara', 'Cuernavaca', 'Puebla',\n",
       "       'Mexico City', 'Morelia', 'Mérida', 'San Luis Potosí', 'Monterrey',\n",
       "       'Pachuca de Soto', 'Tepic', 'Toluca', 'Aguascalientes', 'Oaxaca',\n",
       "       'Eskişehir', 'İzmit', 'Bursa', 'Ankara', 'Adana', 'Kayseri',\n",
       "       'Kütahya', 'Balıkesir', 'Adapazarı', 'Trabzon', 'Antakya',\n",
       "       'Samsun', 'İzmir', 'Konya', 'Sivas', 'Istanbul', 'Denizli',\n",
       "       'Erzurum', 'Kabul', 'Salzburg', 'Linz', 'Innsbruck', 'Vienna',\n",
       "       'Graz', 'Guatemala City', 'Cochabamba', 'San José', 'Amman',\n",
       "       'Irbid', 'Zarqa', 'San Juan', 'Riyadh', 'Jeddah', 'Abha', 'Dammam',\n",
       "       \"Ha'il\", 'Buraydah', 'Mecca', 'San Salvador', 'Hamilton',\n",
       "       'Calgary', 'Winnipeg', 'Halifax', 'Kitchener', 'Edmonton',\n",
       "       'Surrey', 'Mississauga', 'Québec', 'Vancouver', 'Victoria',\n",
       "       'Montréal', 'Toronto', 'Ottawa', 'London', 'Bologna', 'Livorno',\n",
       "       'Trieste', 'Modena', 'Prato', 'Florence', 'Naples', 'Rome',\n",
       "       'Turin', 'Milan', 'Brescia', 'Parma', 'Trondheim', 'Oslo',\n",
       "       'Stavanger', 'Bergen', 'Saint-Denis', 'Ashgabat', 'Middelburg',\n",
       "       'Pretoria', 'East London', 'Johannesburg', 'Bloemfontein',\n",
       "       'Cape Town', 'Vereeniging', 'Durban', 'Klerksdorp', 'Richards Bay',\n",
       "       'Port Elizabeth', 'Worcester', 'Manama', 'Kaunas', 'Chon Buri',\n",
       "       'Chiang Mai', 'Nakhon Pathom', 'Rayong', 'Lampang', 'Bangkok',\n",
       "       'Samut Prakan', 'Sofia', 'Burgas', 'Plovdiv', 'Zürich', 'Debrecen',\n",
       "       'Győr', 'Szeged', 'Pécs', 'Kecskemét', 'Miskolc', 'Budapest',\n",
       "       'Kuantan', 'Miri', 'George Town', 'Klang', 'Malacca', 'Taiping',\n",
       "       'Alor Setar', 'Kota Bharu', 'Kuching', 'Seremban', 'Ipoh',\n",
       "       'Johor Bahru', 'Kuala Lumpur', 'Utrecht', 'Nijmegen', 'Haarlem',\n",
       "       'Eindhoven', 'Rotterdam', 'Amsterdam', 'Dordrecht', 'Breda',\n",
       "       'Groningen', 'Maastricht', 'The Hague', 'Auckland', 'Christchurch',\n",
       "       'Wellington', 'Dunedin', 'Kampala', 'Ho Chi Minh City', 'Huế',\n",
       "       'Hanoi', 'Haiphong', 'Hạ Long', 'Addis Ababa', 'Tbilisi',\n",
       "       'Conakry', 'Baghdad', 'Novi Sad', 'Niš', 'Belgrade',\n",
       "       'Taitung City', 'Taichung', 'Taoyuan City', 'Taipei', 'Hsinchu',\n",
       "       'Keelung', 'Tainan', 'Douliu', 'Kaohsiung', 'Abidjan', 'Bogotá',\n",
       "       'Medellín', 'Nicosia', 'Limassol', 'Algiers', 'Zagreb', 'Rijeka',\n",
       "       'Split', 'Thrissur', 'New Delhi', 'Hyderabad', 'Delhi',\n",
       "       'Chandigarh', 'Bhopal', 'Nagpur', 'Lucknow', 'Ghāziābād', 'Hāpur',\n",
       "       'Gandhinagar', 'Chennai', 'Nashik', 'Mysore', 'Visakhapatnam',\n",
       "       'Mumbai', 'Jaipur', 'Patna', 'Muzaffarnagar', 'Thiruvananthapuram',\n",
       "       'Bengaluru', 'Shillong', 'Kolkata', 'Bishkek', 'Willemstad',\n",
       "       'Edinburgh', 'Norwich', 'Liverpool', 'Belfast', 'Coventry',\n",
       "       'Leeds', 'Cardiff', 'Bristol', 'Birmingham', 'Sheffield',\n",
       "       'Newport', 'Leicester', 'Manchester', 'Reading', 'Plymouth',\n",
       "       'Glasgow', 'Preston', 'Swansea', 'Southend-on-Sea', 'Kathmandu',\n",
       "       'Pokhara', 'Biratnagar', 'Lisbon', 'Funchal', 'Oklahoma City',\n",
       "       'Raleigh', 'Memphis', 'Jackson', 'Boston', 'Richmond', 'Portland',\n",
       "       'Boise', 'Austin', 'Honolulu', 'Fresno', 'Milwaukee', 'Columbia',\n",
       "       'Hartford', 'Washington D.C.', 'Chicago', 'Houston',\n",
       "       'Indianapolis', 'Atlanta', 'Charlotte', 'Sacramento', 'Oakland',\n",
       "       'Providence', 'Staten Island', 'Brooklyn', 'Springfield',\n",
       "       'The Bronx', 'San Jose', 'Los Angeles', 'Detroit', 'Little Rock',\n",
       "       'Baltimore', 'Phoenix', 'Omaha', 'El Paso', 'Dallas', 'Seattle',\n",
       "       'Manhattan', 'Miami', 'Jacksonville', 'Las Vegas', 'San Antonio',\n",
       "       'Philadelphia', 'San Diego', 'Columbus', 'Saint Paul', 'Denver',\n",
       "       'Salt Lake City', 'Albuquerque', 'San Francisco', 'Salem',\n",
       "       'Madison', 'Nashville', 'Tucson', 'Queens', 'Tallahassee',\n",
       "       'Fort Worth', 'Chihuahua', 'Zamboanga'], dtype=object)"
      ]
     },
     "execution_count": 17,
     "metadata": {},
     "output_type": "execute_result"
    }
   ],
   "source": [
    "# Display an overview of the City column\n",
    "clean_airdf[\"City\"].unique()"
   ]
  },
  {
   "cell_type": "code",
   "execution_count": 18,
   "metadata": {},
   "outputs": [
    {
     "data": {
      "text/plain": [
       "London          5075\n",
       "Shijiazhuang    3612\n",
       "Qinhuangdao     3502\n",
       "Anyang          3482\n",
       "Beijing         3443\n",
       "                ... \n",
       "Almaty           132\n",
       "Abidjan          115\n",
       "Conakry          115\n",
       "Accra             97\n",
       "Zamboanga         60\n",
       "Name: City, Length: 615, dtype: int64"
      ]
     },
     "execution_count": 18,
     "metadata": {},
     "output_type": "execute_result"
    }
   ],
   "source": [
    "clean_airdf[\"City\"].value_counts()"
   ]
  },
  {
   "cell_type": "markdown",
   "metadata": {},
   "source": [
    "There are 615 cities in our dataframe. Let's see what cities in Australia covered in the dataset."
   ]
  },
  {
   "cell_type": "code",
   "execution_count": 19,
   "metadata": {},
   "outputs": [
    {
     "data": {
      "text/plain": [
       "Sydney        3364\n",
       "Brisbane      3348\n",
       "Melbourne     3284\n",
       "Wollongong    3253\n",
       "Darwin        3208\n",
       "Adelaide      3177\n",
       "Perth         3082\n",
       "Newcastle     2871\n",
       "Hobart        1126\n",
       "Launceston    1126\n",
       "Canberra      1093\n",
       "Name: City, dtype: int64"
      ]
     },
     "execution_count": 19,
     "metadata": {},
     "output_type": "execute_result"
    }
   ],
   "source": [
    "clean_airdf.loc[clean_airdf[\"Country\"]==\"AU\", \"City\"].value_counts()"
   ]
  },
  {
   "cell_type": "code",
   "execution_count": 20,
   "metadata": {},
   "outputs": [],
   "source": [
    "au_cities_list = [\"Sydney\", \"Melbourne\", \"Perth\"]"
   ]
  },
  {
   "cell_type": "markdown",
   "metadata": {},
   "source": [
    "**Let's explore resampled PM2.5 median values on weekly basis in Melbourne, Victoria**"
   ]
  },
  {
   "cell_type": "code",
   "execution_count": 21,
   "metadata": {},
   "outputs": [
    {
     "data": {
      "text/html": [
       "<div>\n",
       "<style scoped>\n",
       "    .dataframe tbody tr th:only-of-type {\n",
       "        vertical-align: middle;\n",
       "    }\n",
       "\n",
       "    .dataframe tbody tr th {\n",
       "        vertical-align: top;\n",
       "    }\n",
       "\n",
       "    .dataframe thead th {\n",
       "        text-align: right;\n",
       "    }\n",
       "</style>\n",
       "<table border=\"1\" class=\"dataframe\">\n",
       "  <thead>\n",
       "    <tr style=\"text-align: right;\">\n",
       "      <th></th>\n",
       "      <th>Country</th>\n",
       "      <th>City</th>\n",
       "      <th>Specie</th>\n",
       "      <th>count</th>\n",
       "      <th>min</th>\n",
       "      <th>max</th>\n",
       "      <th>median</th>\n",
       "      <th>variance</th>\n",
       "    </tr>\n",
       "    <tr>\n",
       "      <th>Date</th>\n",
       "      <th></th>\n",
       "      <th></th>\n",
       "      <th></th>\n",
       "      <th></th>\n",
       "      <th></th>\n",
       "      <th></th>\n",
       "      <th></th>\n",
       "      <th></th>\n",
       "    </tr>\n",
       "  </thead>\n",
       "  <tbody>\n",
       "    <tr>\n",
       "      <th>2018-12-31</th>\n",
       "      <td>AU</td>\n",
       "      <td>Melbourne</td>\n",
       "      <td>pm25</td>\n",
       "      <td>174</td>\n",
       "      <td>1.0</td>\n",
       "      <td>41.0</td>\n",
       "      <td>28.0</td>\n",
       "      <td>989.20</td>\n",
       "    </tr>\n",
       "    <tr>\n",
       "      <th>2018-12-31</th>\n",
       "      <td>AU</td>\n",
       "      <td>Melbourne</td>\n",
       "      <td>pm10</td>\n",
       "      <td>140</td>\n",
       "      <td>2.0</td>\n",
       "      <td>31.0</td>\n",
       "      <td>18.0</td>\n",
       "      <td>505.25</td>\n",
       "    </tr>\n",
       "    <tr>\n",
       "      <th>2018-12-31</th>\n",
       "      <td>AU</td>\n",
       "      <td>Melbourne</td>\n",
       "      <td>so2</td>\n",
       "      <td>33</td>\n",
       "      <td>1.5</td>\n",
       "      <td>2.9</td>\n",
       "      <td>1.5</td>\n",
       "      <td>3.01</td>\n",
       "    </tr>\n",
       "    <tr>\n",
       "      <th>2018-12-31</th>\n",
       "      <td>AU</td>\n",
       "      <td>Melbourne</td>\n",
       "      <td>o3</td>\n",
       "      <td>132</td>\n",
       "      <td>7.3</td>\n",
       "      <td>28.1</td>\n",
       "      <td>12.1</td>\n",
       "      <td>332.50</td>\n",
       "    </tr>\n",
       "    <tr>\n",
       "      <th>2018-12-31</th>\n",
       "      <td>AU</td>\n",
       "      <td>Melbourne</td>\n",
       "      <td>no2</td>\n",
       "      <td>116</td>\n",
       "      <td>1.0</td>\n",
       "      <td>5.6</td>\n",
       "      <td>2.8</td>\n",
       "      <td>18.30</td>\n",
       "    </tr>\n",
       "    <tr>\n",
       "      <th>...</th>\n",
       "      <td>...</td>\n",
       "      <td>...</td>\n",
       "      <td>...</td>\n",
       "      <td>...</td>\n",
       "      <td>...</td>\n",
       "      <td>...</td>\n",
       "      <td>...</td>\n",
       "      <td>...</td>\n",
       "    </tr>\n",
       "    <tr>\n",
       "      <th>2020-07-03</th>\n",
       "      <td>AU</td>\n",
       "      <td>Melbourne</td>\n",
       "      <td>pm10</td>\n",
       "      <td>88</td>\n",
       "      <td>3.0</td>\n",
       "      <td>33.0</td>\n",
       "      <td>8.0</td>\n",
       "      <td>314.86</td>\n",
       "    </tr>\n",
       "    <tr>\n",
       "      <th>2020-07-03</th>\n",
       "      <td>AU</td>\n",
       "      <td>Melbourne</td>\n",
       "      <td>pm25</td>\n",
       "      <td>118</td>\n",
       "      <td>1.0</td>\n",
       "      <td>45.0</td>\n",
       "      <td>17.0</td>\n",
       "      <td>1002.08</td>\n",
       "    </tr>\n",
       "    <tr>\n",
       "      <th>2020-07-03</th>\n",
       "      <td>AU</td>\n",
       "      <td>Melbourne</td>\n",
       "      <td>o3</td>\n",
       "      <td>80</td>\n",
       "      <td>6.4</td>\n",
       "      <td>18.4</td>\n",
       "      <td>12.8</td>\n",
       "      <td>78.87</td>\n",
       "    </tr>\n",
       "    <tr>\n",
       "      <th>2020-07-03</th>\n",
       "      <td>AU</td>\n",
       "      <td>Melbourne</td>\n",
       "      <td>so2</td>\n",
       "      <td>45</td>\n",
       "      <td>0.1</td>\n",
       "      <td>1.0</td>\n",
       "      <td>0.3</td>\n",
       "      <td>0.44</td>\n",
       "    </tr>\n",
       "    <tr>\n",
       "      <th>2020-07-03</th>\n",
       "      <td>AU</td>\n",
       "      <td>Melbourne</td>\n",
       "      <td>co</td>\n",
       "      <td>80</td>\n",
       "      <td>0.8</td>\n",
       "      <td>4.4</td>\n",
       "      <td>1.9</td>\n",
       "      <td>2.71</td>\n",
       "    </tr>\n",
       "  </tbody>\n",
       "</table>\n",
       "<p>3284 rows × 8 columns</p>\n",
       "</div>"
      ],
      "text/plain": [
       "           Country       City Specie  count  min   max  median  variance\n",
       "Date                                                                    \n",
       "2018-12-31      AU  Melbourne   pm25    174  1.0  41.0    28.0    989.20\n",
       "2018-12-31      AU  Melbourne   pm10    140  2.0  31.0    18.0    505.25\n",
       "2018-12-31      AU  Melbourne    so2     33  1.5   2.9     1.5      3.01\n",
       "2018-12-31      AU  Melbourne     o3    132  7.3  28.1    12.1    332.50\n",
       "2018-12-31      AU  Melbourne    no2    116  1.0   5.6     2.8     18.30\n",
       "...            ...        ...    ...    ...  ...   ...     ...       ...\n",
       "2020-07-03      AU  Melbourne   pm10     88  3.0  33.0     8.0    314.86\n",
       "2020-07-03      AU  Melbourne   pm25    118  1.0  45.0    17.0   1002.08\n",
       "2020-07-03      AU  Melbourne     o3     80  6.4  18.4    12.8     78.87\n",
       "2020-07-03      AU  Melbourne    so2     45  0.1   1.0     0.3      0.44\n",
       "2020-07-03      AU  Melbourne     co     80  0.8   4.4     1.9      2.71\n",
       "\n",
       "[3284 rows x 8 columns]"
      ]
     },
     "execution_count": 21,
     "metadata": {},
     "output_type": "execute_result"
    }
   ],
   "source": [
    "vic_air_df = clean_airdf.loc[(clean_airdf[\"Country\"] == \"AU\") & (\n",
    "    clean_airdf[\"City\"] == \"Melbourne\")].sort_values(\"Date\").set_index(\"Date\")\n",
    "vic_air_df"
   ]
  },
  {
   "cell_type": "code",
   "execution_count": 22,
   "metadata": {},
   "outputs": [
    {
     "data": {
      "text/plain": [
       "o3      564\n",
       "pm10    564\n",
       "pm25    563\n",
       "no2     561\n",
       "co      544\n",
       "so2     488\n",
       "Name: Specie, dtype: int64"
      ]
     },
     "execution_count": 22,
     "metadata": {},
     "output_type": "execute_result"
    }
   ],
   "source": [
    "vic_air_df[\"Specie\"].value_counts()"
   ]
  },
  {
   "cell_type": "code",
   "execution_count": 23,
   "metadata": {},
   "outputs": [
    {
     "data": {
      "text/html": [
       "<div>\n",
       "<style scoped>\n",
       "    .dataframe tbody tr th:only-of-type {\n",
       "        vertical-align: middle;\n",
       "    }\n",
       "\n",
       "    .dataframe tbody tr th {\n",
       "        vertical-align: top;\n",
       "    }\n",
       "\n",
       "    .dataframe thead th {\n",
       "        text-align: right;\n",
       "    }\n",
       "</style>\n",
       "<table border=\"1\" class=\"dataframe\">\n",
       "  <thead>\n",
       "    <tr style=\"text-align: right;\">\n",
       "      <th></th>\n",
       "      <th>Country</th>\n",
       "      <th>City</th>\n",
       "      <th>Specie</th>\n",
       "      <th>count</th>\n",
       "      <th>min</th>\n",
       "      <th>max</th>\n",
       "      <th>median</th>\n",
       "      <th>variance</th>\n",
       "    </tr>\n",
       "    <tr>\n",
       "      <th>Date</th>\n",
       "      <th></th>\n",
       "      <th></th>\n",
       "      <th></th>\n",
       "      <th></th>\n",
       "      <th></th>\n",
       "      <th></th>\n",
       "      <th></th>\n",
       "      <th></th>\n",
       "    </tr>\n",
       "  </thead>\n",
       "  <tbody>\n",
       "    <tr>\n",
       "      <th>2018-12-31</th>\n",
       "      <td>AU</td>\n",
       "      <td>Melbourne</td>\n",
       "      <td>pm25</td>\n",
       "      <td>174</td>\n",
       "      <td>1.0</td>\n",
       "      <td>41.0</td>\n",
       "      <td>28.0</td>\n",
       "      <td>989.20</td>\n",
       "    </tr>\n",
       "    <tr>\n",
       "      <th>2019-01-01</th>\n",
       "      <td>AU</td>\n",
       "      <td>Melbourne</td>\n",
       "      <td>pm25</td>\n",
       "      <td>161</td>\n",
       "      <td>1.0</td>\n",
       "      <td>53.0</td>\n",
       "      <td>27.0</td>\n",
       "      <td>1398.93</td>\n",
       "    </tr>\n",
       "    <tr>\n",
       "      <th>2019-01-02</th>\n",
       "      <td>AU</td>\n",
       "      <td>Melbourne</td>\n",
       "      <td>pm25</td>\n",
       "      <td>141</td>\n",
       "      <td>9.0</td>\n",
       "      <td>35.0</td>\n",
       "      <td>24.0</td>\n",
       "      <td>405.95</td>\n",
       "    </tr>\n",
       "    <tr>\n",
       "      <th>2019-01-03</th>\n",
       "      <td>AU</td>\n",
       "      <td>Melbourne</td>\n",
       "      <td>pm25</td>\n",
       "      <td>183</td>\n",
       "      <td>1.0</td>\n",
       "      <td>54.0</td>\n",
       "      <td>25.0</td>\n",
       "      <td>1325.54</td>\n",
       "    </tr>\n",
       "    <tr>\n",
       "      <th>2019-01-04</th>\n",
       "      <td>AU</td>\n",
       "      <td>Melbourne</td>\n",
       "      <td>pm25</td>\n",
       "      <td>192</td>\n",
       "      <td>33.0</td>\n",
       "      <td>60.0</td>\n",
       "      <td>51.0</td>\n",
       "      <td>604.15</td>\n",
       "    </tr>\n",
       "    <tr>\n",
       "      <th>...</th>\n",
       "      <td>...</td>\n",
       "      <td>...</td>\n",
       "      <td>...</td>\n",
       "      <td>...</td>\n",
       "      <td>...</td>\n",
       "      <td>...</td>\n",
       "      <td>...</td>\n",
       "      <td>...</td>\n",
       "    </tr>\n",
       "    <tr>\n",
       "      <th>2020-06-29</th>\n",
       "      <td>AU</td>\n",
       "      <td>Melbourne</td>\n",
       "      <td>pm25</td>\n",
       "      <td>186</td>\n",
       "      <td>4.0</td>\n",
       "      <td>158.0</td>\n",
       "      <td>60.0</td>\n",
       "      <td>9876.10</td>\n",
       "    </tr>\n",
       "    <tr>\n",
       "      <th>2020-06-30</th>\n",
       "      <td>AU</td>\n",
       "      <td>Melbourne</td>\n",
       "      <td>pm25</td>\n",
       "      <td>185</td>\n",
       "      <td>1.0</td>\n",
       "      <td>67.0</td>\n",
       "      <td>25.0</td>\n",
       "      <td>2782.67</td>\n",
       "    </tr>\n",
       "    <tr>\n",
       "      <th>2020-07-01</th>\n",
       "      <td>AU</td>\n",
       "      <td>Melbourne</td>\n",
       "      <td>pm25</td>\n",
       "      <td>181</td>\n",
       "      <td>2.0</td>\n",
       "      <td>55.0</td>\n",
       "      <td>19.0</td>\n",
       "      <td>1002.37</td>\n",
       "    </tr>\n",
       "    <tr>\n",
       "      <th>2020-07-02</th>\n",
       "      <td>AU</td>\n",
       "      <td>Melbourne</td>\n",
       "      <td>pm25</td>\n",
       "      <td>158</td>\n",
       "      <td>1.0</td>\n",
       "      <td>46.0</td>\n",
       "      <td>18.0</td>\n",
       "      <td>858.35</td>\n",
       "    </tr>\n",
       "    <tr>\n",
       "      <th>2020-07-03</th>\n",
       "      <td>AU</td>\n",
       "      <td>Melbourne</td>\n",
       "      <td>pm25</td>\n",
       "      <td>118</td>\n",
       "      <td>1.0</td>\n",
       "      <td>45.0</td>\n",
       "      <td>17.0</td>\n",
       "      <td>1002.08</td>\n",
       "    </tr>\n",
       "  </tbody>\n",
       "</table>\n",
       "<p>563 rows × 8 columns</p>\n",
       "</div>"
      ],
      "text/plain": [
       "           Country       City Specie  count   min    max  median  variance\n",
       "Date                                                                      \n",
       "2018-12-31      AU  Melbourne   pm25    174   1.0   41.0    28.0    989.20\n",
       "2019-01-01      AU  Melbourne   pm25    161   1.0   53.0    27.0   1398.93\n",
       "2019-01-02      AU  Melbourne   pm25    141   9.0   35.0    24.0    405.95\n",
       "2019-01-03      AU  Melbourne   pm25    183   1.0   54.0    25.0   1325.54\n",
       "2019-01-04      AU  Melbourne   pm25    192  33.0   60.0    51.0    604.15\n",
       "...            ...        ...    ...    ...   ...    ...     ...       ...\n",
       "2020-06-29      AU  Melbourne   pm25    186   4.0  158.0    60.0   9876.10\n",
       "2020-06-30      AU  Melbourne   pm25    185   1.0   67.0    25.0   2782.67\n",
       "2020-07-01      AU  Melbourne   pm25    181   2.0   55.0    19.0   1002.37\n",
       "2020-07-02      AU  Melbourne   pm25    158   1.0   46.0    18.0    858.35\n",
       "2020-07-03      AU  Melbourne   pm25    118   1.0   45.0    17.0   1002.08\n",
       "\n",
       "[563 rows x 8 columns]"
      ]
     },
     "execution_count": 23,
     "metadata": {},
     "output_type": "execute_result"
    }
   ],
   "source": [
    "pm25_vic_air_df = vic_air_df[vic_air_df[\"Specie\"]==\"pm25\"]\n",
    "pm25_vic_air_df"
   ]
  },
  {
   "cell_type": "code",
   "execution_count": 24,
   "metadata": {},
   "outputs": [
    {
     "data": {
      "text/plain": [
       "Date\n",
       "2019-01-06    27.0\n",
       "2019-01-13    21.0\n",
       "2019-01-20    38.0\n",
       "2019-01-27    26.0\n",
       "2019-02-03    19.0\n",
       "              ... \n",
       "2020-06-07    25.0\n",
       "2020-06-14    40.0\n",
       "2020-06-21    20.0\n",
       "2020-06-28    25.0\n",
       "2020-07-05    19.0\n",
       "Freq: W-SUN, Name: pm2.5, Length: 79, dtype: float64"
      ]
     },
     "execution_count": 24,
     "metadata": {},
     "output_type": "execute_result"
    }
   ],
   "source": [
    "weekly_median_pm25_vic_air = pm25_vic_air_df[\"median\"].resample(\"W\").median().rename(\"pm2.5\")\n",
    "weekly_median_pm25_vic_air"
   ]
  },
  {
   "cell_type": "code",
   "execution_count": 25,
   "metadata": {},
   "outputs": [],
   "source": [
    "#weekly_median_pm25_vic_air_df = weekly_median_pm25_vic_air.to_frame()\n",
    "#weekly_median_pm25_vic_air_df.reset_index()"
   ]
  },
  {
   "cell_type": "code",
   "execution_count": 26,
   "metadata": {},
   "outputs": [
    {
     "data": {
      "text/plain": [
       "Timestamp('2020-07-05 00:00:00', freq='W-SUN')"
      ]
     },
     "execution_count": 26,
     "metadata": {},
     "output_type": "execute_result"
    }
   ],
   "source": [
    "# Set cut-off dates for covid _data\n",
    "cut_off_date = weekly_median_pm25_vic_air.tail(1).index[0]\n",
    "cut_off_date"
   ]
  },
  {
   "cell_type": "code",
   "execution_count": 27,
   "metadata": {},
   "outputs": [
    {
     "data": {
      "text/plain": [
       "<matplotlib.axes._subplots.AxesSubplot at 0x1e951763108>"
      ]
     },
     "execution_count": 27,
     "metadata": {},
     "output_type": "execute_result"
    },
    {
     "data": {
      "image/png": "[encoded data removed]",
      "text/plain": [
       "<Figure size 828x504 with 1 Axes>"
      ]
     },
     "metadata": {
      "needs_background": "light"
     },
     "output_type": "display_data"
    }
   ],
   "source": [
    "weekly_median_pm25_vic_air.plot(figsize=(11.5, 7), title=\"Median pm2.5 value in Melbourne 2019-2020H1\")"
   ]
  },
  {
   "cell_type": "code",
   "execution_count": 28,
   "metadata": {},
   "outputs": [],
   "source": [
    "rolling_median_pm25_vic_air = pm25_vic_air_df[\"median\"].rolling(30, center=True).mean()"
   ]
  },
  {
   "cell_type": "code",
   "execution_count": 29,
   "metadata": {},
   "outputs": [
    {
     "data": {
      "text/plain": [
       "<matplotlib.axes._subplots.AxesSubplot at 0x1e9517205c8>"
      ]
     },
     "execution_count": 29,
     "metadata": {},
     "output_type": "execute_result"
    },
    {
     "data": {
      "image/png": "[encoded data removed]",
      "text/plain": [
       "<Figure size 828x504 with 1 Axes>"
      ]
     },
     "metadata": {
      "needs_background": "light"
     },
     "output_type": "display_data"
    }
   ],
   "source": [
    "rolling_median_pm25_vic_air.plot(figsize=(11.5, 7), title=\"Median pm2.5 value in Melbourne 2019-2020H1\")"
   ]
  },
  {
   "cell_type": "markdown",
   "metadata": {},
   "source": [
    "**\"Unlike downsampling, where the time bins do not overlap and the output is at a lower frequency than the input, rolling windows overlap and “roll” along at the same frequency as the data, so the transformed time series is at the same frequency as the original time series.\"** (https://www.dataquest.io/blog/tutorial-time-series-analysis-with-pandas/)"
   ]
  },
  {
   "cell_type": "code",
   "execution_count": null,
   "metadata": {},
   "outputs": [],
   "source": []
  },
  {
   "cell_type": "code",
   "execution_count": 31,
   "metadata": {},
   "outputs": [
    {
     "data": {
      "text/html": [
       "<div>\n",
       "<style scoped>\n",
       "    .dataframe tbody tr th:only-of-type {\n",
       "        vertical-align: middle;\n",
       "    }\n",
       "\n",
       "    .dataframe tbody tr th {\n",
       "        vertical-align: top;\n",
       "    }\n",
       "\n",
       "    .dataframe thead th {\n",
       "        text-align: right;\n",
       "    }\n",
       "</style>\n",
       "<table border=\"1\" class=\"dataframe\">\n",
       "  <thead>\n",
       "    <tr style=\"text-align: right;\">\n",
       "      <th></th>\n",
       "      <th>Date</th>\n",
       "      <th>Country</th>\n",
       "      <th>City</th>\n",
       "      <th>Specie</th>\n",
       "      <th>count</th>\n",
       "      <th>min</th>\n",
       "      <th>max</th>\n",
       "      <th>median</th>\n",
       "      <th>variance</th>\n",
       "    </tr>\n",
       "  </thead>\n",
       "  <tbody>\n",
       "    <tr>\n",
       "      <th>171565</th>\n",
       "      <td>2020-02-04</td>\n",
       "      <td>AU</td>\n",
       "      <td>Sydney</td>\n",
       "      <td>co</td>\n",
       "      <td>56</td>\n",
       "      <td>1.2</td>\n",
       "      <td>4.5</td>\n",
       "      <td>3.4</td>\n",
       "      <td>10.12</td>\n",
       "    </tr>\n",
       "    <tr>\n",
       "      <th>171566</th>\n",
       "      <td>2020-03-29</td>\n",
       "      <td>AU</td>\n",
       "      <td>Sydney</td>\n",
       "      <td>co</td>\n",
       "      <td>9</td>\n",
       "      <td>1.2</td>\n",
       "      <td>3.4</td>\n",
       "      <td>2.3</td>\n",
       "      <td>9.07</td>\n",
       "    </tr>\n",
       "    <tr>\n",
       "      <th>171567</th>\n",
       "      <td>2020-06-26</td>\n",
       "      <td>AU</td>\n",
       "      <td>Sydney</td>\n",
       "      <td>co</td>\n",
       "      <td>45</td>\n",
       "      <td>1.2</td>\n",
       "      <td>6.7</td>\n",
       "      <td>2.3</td>\n",
       "      <td>17.91</td>\n",
       "    </tr>\n",
       "    <tr>\n",
       "      <th>171568</th>\n",
       "      <td>2020-05-22</td>\n",
       "      <td>AU</td>\n",
       "      <td>Sydney</td>\n",
       "      <td>co</td>\n",
       "      <td>14</td>\n",
       "      <td>1.2</td>\n",
       "      <td>2.3</td>\n",
       "      <td>1.2</td>\n",
       "      <td>2.19</td>\n",
       "    </tr>\n",
       "    <tr>\n",
       "      <th>171569</th>\n",
       "      <td>2020-06-04</td>\n",
       "      <td>AU</td>\n",
       "      <td>Sydney</td>\n",
       "      <td>co</td>\n",
       "      <td>33</td>\n",
       "      <td>1.2</td>\n",
       "      <td>5.6</td>\n",
       "      <td>2.3</td>\n",
       "      <td>16.16</td>\n",
       "    </tr>\n",
       "    <tr>\n",
       "      <th>...</th>\n",
       "      <td>...</td>\n",
       "      <td>...</td>\n",
       "      <td>...</td>\n",
       "      <td>...</td>\n",
       "      <td>...</td>\n",
       "      <td>...</td>\n",
       "      <td>...</td>\n",
       "      <td>...</td>\n",
       "      <td>...</td>\n",
       "    </tr>\n",
       "    <tr>\n",
       "      <th>1284748</th>\n",
       "      <td>2019-12-21</td>\n",
       "      <td>AU</td>\n",
       "      <td>Wollongong</td>\n",
       "      <td>pm10</td>\n",
       "      <td>72</td>\n",
       "      <td>28.0</td>\n",
       "      <td>57.0</td>\n",
       "      <td>35.0</td>\n",
       "      <td>1107.82</td>\n",
       "    </tr>\n",
       "    <tr>\n",
       "      <th>1284749</th>\n",
       "      <td>2019-10-11</td>\n",
       "      <td>AU</td>\n",
       "      <td>Wollongong</td>\n",
       "      <td>pm10</td>\n",
       "      <td>65</td>\n",
       "      <td>7.0</td>\n",
       "      <td>14.0</td>\n",
       "      <td>10.0</td>\n",
       "      <td>35.66</td>\n",
       "    </tr>\n",
       "    <tr>\n",
       "      <th>1284750</th>\n",
       "      <td>2019-11-24</td>\n",
       "      <td>AU</td>\n",
       "      <td>Wollongong</td>\n",
       "      <td>pm10</td>\n",
       "      <td>72</td>\n",
       "      <td>12.0</td>\n",
       "      <td>31.0</td>\n",
       "      <td>18.0</td>\n",
       "      <td>236.60</td>\n",
       "    </tr>\n",
       "    <tr>\n",
       "      <th>1284751</th>\n",
       "      <td>2019-12-16</td>\n",
       "      <td>AU</td>\n",
       "      <td>Wollongong</td>\n",
       "      <td>pm10</td>\n",
       "      <td>48</td>\n",
       "      <td>29.0</td>\n",
       "      <td>44.0</td>\n",
       "      <td>39.0</td>\n",
       "      <td>192.61</td>\n",
       "    </tr>\n",
       "    <tr>\n",
       "      <th>1284752</th>\n",
       "      <td>2020-01-02</td>\n",
       "      <td>AU</td>\n",
       "      <td>Wollongong</td>\n",
       "      <td>pm10</td>\n",
       "      <td>72</td>\n",
       "      <td>51.0</td>\n",
       "      <td>61.0</td>\n",
       "      <td>54.0</td>\n",
       "      <td>79.58</td>\n",
       "    </tr>\n",
       "  </tbody>\n",
       "</table>\n",
       "<p>28932 rows × 9 columns</p>\n",
       "</div>"
      ],
      "text/plain": [
       "              Date Country        City Specie  count   min   max  median  \\\n",
       "171565  2020-02-04      AU      Sydney     co     56   1.2   4.5     3.4   \n",
       "171566  2020-03-29      AU      Sydney     co      9   1.2   3.4     2.3   \n",
       "171567  2020-06-26      AU      Sydney     co     45   1.2   6.7     2.3   \n",
       "171568  2020-05-22      AU      Sydney     co     14   1.2   2.3     1.2   \n",
       "171569  2020-06-04      AU      Sydney     co     33   1.2   5.6     2.3   \n",
       "...            ...     ...         ...    ...    ...   ...   ...     ...   \n",
       "1284748 2019-12-21      AU  Wollongong   pm10     72  28.0  57.0    35.0   \n",
       "1284749 2019-10-11      AU  Wollongong   pm10     65   7.0  14.0    10.0   \n",
       "1284750 2019-11-24      AU  Wollongong   pm10     72  12.0  31.0    18.0   \n",
       "1284751 2019-12-16      AU  Wollongong   pm10     48  29.0  44.0    39.0   \n",
       "1284752 2020-01-02      AU  Wollongong   pm10     72  51.0  61.0    54.0   \n",
       "\n",
       "         variance  \n",
       "171565      10.12  \n",
       "171566       9.07  \n",
       "171567      17.91  \n",
       "171568       2.19  \n",
       "171569      16.16  \n",
       "...           ...  \n",
       "1284748   1107.82  \n",
       "1284749     35.66  \n",
       "1284750    236.60  \n",
       "1284751    192.61  \n",
       "1284752     79.58  \n",
       "\n",
       "[28932 rows x 9 columns]"
      ]
     },
     "execution_count": 31,
     "metadata": {},
     "output_type": "execute_result"
    }
   ],
   "source": [
    "au_air_df = clean_airdf.loc[clean_airdf[\"Country\"]==\"AU\"]\n",
    "au_air_df"
   ]
  },
  {
   "cell_type": "code",
   "execution_count": 32,
   "metadata": {},
   "outputs": [
    {
     "data": {
      "text/html": [
       "<div>\n",
       "<style scoped>\n",
       "    .dataframe tbody tr th:only-of-type {\n",
       "        vertical-align: middle;\n",
       "    }\n",
       "\n",
       "    .dataframe tbody tr th {\n",
       "        vertical-align: top;\n",
       "    }\n",
       "\n",
       "    .dataframe thead th {\n",
       "        text-align: right;\n",
       "    }\n",
       "</style>\n",
       "<table border=\"1\" class=\"dataframe\">\n",
       "  <thead>\n",
       "    <tr style=\"text-align: right;\">\n",
       "      <th></th>\n",
       "      <th>Date</th>\n",
       "      <th>Country</th>\n",
       "      <th>City</th>\n",
       "      <th>Specie</th>\n",
       "      <th>count</th>\n",
       "      <th>min</th>\n",
       "      <th>max</th>\n",
       "      <th>median</th>\n",
       "      <th>variance</th>\n",
       "    </tr>\n",
       "  </thead>\n",
       "  <tbody>\n",
       "    <tr>\n",
       "      <th>653866</th>\n",
       "      <td>2018-12-31</td>\n",
       "      <td>AU</td>\n",
       "      <td>Sydney</td>\n",
       "      <td>pm25</td>\n",
       "      <td>168</td>\n",
       "      <td>47.0</td>\n",
       "      <td>63.0</td>\n",
       "      <td>55.0</td>\n",
       "      <td>106.59</td>\n",
       "    </tr>\n",
       "    <tr>\n",
       "      <th>655757</th>\n",
       "      <td>2018-12-31</td>\n",
       "      <td>AU</td>\n",
       "      <td>Melbourne</td>\n",
       "      <td>pm25</td>\n",
       "      <td>174</td>\n",
       "      <td>1.0</td>\n",
       "      <td>41.0</td>\n",
       "      <td>28.0</td>\n",
       "      <td>989.20</td>\n",
       "    </tr>\n",
       "    <tr>\n",
       "      <th>657659</th>\n",
       "      <td>2018-12-31</td>\n",
       "      <td>AU</td>\n",
       "      <td>Perth</td>\n",
       "      <td>pm25</td>\n",
       "      <td>54</td>\n",
       "      <td>33.0</td>\n",
       "      <td>44.0</td>\n",
       "      <td>37.0</td>\n",
       "      <td>68.04</td>\n",
       "    </tr>\n",
       "    <tr>\n",
       "      <th>653858</th>\n",
       "      <td>2019-01-01</td>\n",
       "      <td>AU</td>\n",
       "      <td>Sydney</td>\n",
       "      <td>pm25</td>\n",
       "      <td>166</td>\n",
       "      <td>37.0</td>\n",
       "      <td>69.0</td>\n",
       "      <td>56.0</td>\n",
       "      <td>546.53</td>\n",
       "    </tr>\n",
       "    <tr>\n",
       "      <th>655764</th>\n",
       "      <td>2019-01-01</td>\n",
       "      <td>AU</td>\n",
       "      <td>Melbourne</td>\n",
       "      <td>pm25</td>\n",
       "      <td>161</td>\n",
       "      <td>1.0</td>\n",
       "      <td>53.0</td>\n",
       "      <td>27.0</td>\n",
       "      <td>1398.93</td>\n",
       "    </tr>\n",
       "    <tr>\n",
       "      <th>...</th>\n",
       "      <td>...</td>\n",
       "      <td>...</td>\n",
       "      <td>...</td>\n",
       "      <td>...</td>\n",
       "      <td>...</td>\n",
       "      <td>...</td>\n",
       "      <td>...</td>\n",
       "      <td>...</td>\n",
       "      <td>...</td>\n",
       "    </tr>\n",
       "    <tr>\n",
       "      <th>176342</th>\n",
       "      <td>2020-07-02</td>\n",
       "      <td>AU</td>\n",
       "      <td>Melbourne</td>\n",
       "      <td>pm25</td>\n",
       "      <td>158</td>\n",
       "      <td>1.0</td>\n",
       "      <td>46.0</td>\n",
       "      <td>18.0</td>\n",
       "      <td>858.35</td>\n",
       "    </tr>\n",
       "    <tr>\n",
       "      <th>180172</th>\n",
       "      <td>2020-07-02</td>\n",
       "      <td>AU</td>\n",
       "      <td>Perth</td>\n",
       "      <td>pm25</td>\n",
       "      <td>81</td>\n",
       "      <td>18.0</td>\n",
       "      <td>48.0</td>\n",
       "      <td>31.0</td>\n",
       "      <td>671.00</td>\n",
       "    </tr>\n",
       "    <tr>\n",
       "      <th>180251</th>\n",
       "      <td>2020-07-03</td>\n",
       "      <td>AU</td>\n",
       "      <td>Perth</td>\n",
       "      <td>pm25</td>\n",
       "      <td>59</td>\n",
       "      <td>11.0</td>\n",
       "      <td>35.0</td>\n",
       "      <td>20.0</td>\n",
       "      <td>362.33</td>\n",
       "    </tr>\n",
       "    <tr>\n",
       "      <th>172488</th>\n",
       "      <td>2020-07-03</td>\n",
       "      <td>AU</td>\n",
       "      <td>Sydney</td>\n",
       "      <td>pm25</td>\n",
       "      <td>107</td>\n",
       "      <td>1.0</td>\n",
       "      <td>61.0</td>\n",
       "      <td>22.0</td>\n",
       "      <td>1286.52</td>\n",
       "    </tr>\n",
       "    <tr>\n",
       "      <th>176252</th>\n",
       "      <td>2020-07-03</td>\n",
       "      <td>AU</td>\n",
       "      <td>Melbourne</td>\n",
       "      <td>pm25</td>\n",
       "      <td>118</td>\n",
       "      <td>1.0</td>\n",
       "      <td>45.0</td>\n",
       "      <td>17.0</td>\n",
       "      <td>1002.08</td>\n",
       "    </tr>\n",
       "  </tbody>\n",
       "</table>\n",
       "<p>1668 rows × 9 columns</p>\n",
       "</div>"
      ],
      "text/plain": [
       "             Date Country       City Specie  count   min   max  median  \\\n",
       "653866 2018-12-31      AU     Sydney   pm25    168  47.0  63.0    55.0   \n",
       "655757 2018-12-31      AU  Melbourne   pm25    174   1.0  41.0    28.0   \n",
       "657659 2018-12-31      AU      Perth   pm25     54  33.0  44.0    37.0   \n",
       "653858 2019-01-01      AU     Sydney   pm25    166  37.0  69.0    56.0   \n",
       "655764 2019-01-01      AU  Melbourne   pm25    161   1.0  53.0    27.0   \n",
       "...           ...     ...        ...    ...    ...   ...   ...     ...   \n",
       "176342 2020-07-02      AU  Melbourne   pm25    158   1.0  46.0    18.0   \n",
       "180172 2020-07-02      AU      Perth   pm25     81  18.0  48.0    31.0   \n",
       "180251 2020-07-03      AU      Perth   pm25     59  11.0  35.0    20.0   \n",
       "172488 2020-07-03      AU     Sydney   pm25    107   1.0  61.0    22.0   \n",
       "176252 2020-07-03      AU  Melbourne   pm25    118   1.0  45.0    17.0   \n",
       "\n",
       "        variance  \n",
       "653866    106.59  \n",
       "655757    989.20  \n",
       "657659     68.04  \n",
       "653858    546.53  \n",
       "655764   1398.93  \n",
       "...          ...  \n",
       "176342    858.35  \n",
       "180172    671.00  \n",
       "180251    362.33  \n",
       "172488   1286.52  \n",
       "176252   1002.08  \n",
       "\n",
       "[1668 rows x 9 columns]"
      ]
     },
     "execution_count": 32,
     "metadata": {},
     "output_type": "execute_result"
    }
   ],
   "source": [
    "five_cities_au_pm25_df = au_air_df[(au_air_df[\"City\"].isin(au_cities_list)) & (\n",
    "    au_air_df[\"Specie\"] == \"pm25\")].sort_values(\"Date\").copy()\n",
    "five_cities_au_pm25_df"
   ]
  },
  {
   "cell_type": "code",
   "execution_count": 33,
   "metadata": {},
   "outputs": [
    {
     "data": {
      "text/html": [
       "<div>\n",
       "<style scoped>\n",
       "    .dataframe tbody tr th:only-of-type {\n",
       "        vertical-align: middle;\n",
       "    }\n",
       "\n",
       "    .dataframe tbody tr th {\n",
       "        vertical-align: top;\n",
       "    }\n",
       "\n",
       "    .dataframe thead th {\n",
       "        text-align: right;\n",
       "    }\n",
       "</style>\n",
       "<table border=\"1\" class=\"dataframe\">\n",
       "  <thead>\n",
       "    <tr style=\"text-align: right;\">\n",
       "      <th>City</th>\n",
       "      <th>Melbourne</th>\n",
       "      <th>Perth</th>\n",
       "      <th>Sydney</th>\n",
       "    </tr>\n",
       "    <tr>\n",
       "      <th>Date</th>\n",
       "      <th></th>\n",
       "      <th></th>\n",
       "      <th></th>\n",
       "    </tr>\n",
       "  </thead>\n",
       "  <tbody>\n",
       "    <tr>\n",
       "      <th>2018-12-31</th>\n",
       "      <td>28.0</td>\n",
       "      <td>37.0</td>\n",
       "      <td>55.0</td>\n",
       "    </tr>\n",
       "    <tr>\n",
       "      <th>2019-01-01</th>\n",
       "      <td>27.0</td>\n",
       "      <td>30.0</td>\n",
       "      <td>56.0</td>\n",
       "    </tr>\n",
       "    <tr>\n",
       "      <th>2019-01-02</th>\n",
       "      <td>24.0</td>\n",
       "      <td>35.0</td>\n",
       "      <td>50.0</td>\n",
       "    </tr>\n",
       "    <tr>\n",
       "      <th>2019-01-03</th>\n",
       "      <td>25.0</td>\n",
       "      <td>25.0</td>\n",
       "      <td>45.0</td>\n",
       "    </tr>\n",
       "    <tr>\n",
       "      <th>2019-01-04</th>\n",
       "      <td>51.0</td>\n",
       "      <td>27.0</td>\n",
       "      <td>30.0</td>\n",
       "    </tr>\n",
       "    <tr>\n",
       "      <th>2019-01-05</th>\n",
       "      <td>37.0</td>\n",
       "      <td>24.0</td>\n",
       "      <td>45.0</td>\n",
       "    </tr>\n",
       "    <tr>\n",
       "      <th>2019-01-06</th>\n",
       "      <td>19.0</td>\n",
       "      <td>29.0</td>\n",
       "      <td>38.0</td>\n",
       "    </tr>\n",
       "    <tr>\n",
       "      <th>2019-01-07</th>\n",
       "      <td>13.0</td>\n",
       "      <td>41.0</td>\n",
       "      <td>27.0</td>\n",
       "    </tr>\n",
       "    <tr>\n",
       "      <th>2019-01-08</th>\n",
       "      <td>26.0</td>\n",
       "      <td>33.0</td>\n",
       "      <td>26.0</td>\n",
       "    </tr>\n",
       "    <tr>\n",
       "      <th>2019-01-09</th>\n",
       "      <td>22.0</td>\n",
       "      <td>31.0</td>\n",
       "      <td>32.0</td>\n",
       "    </tr>\n",
       "    <tr>\n",
       "      <th>2019-01-10</th>\n",
       "      <td>15.0</td>\n",
       "      <td>42.0</td>\n",
       "      <td>25.0</td>\n",
       "    </tr>\n",
       "    <tr>\n",
       "      <th>2019-01-11</th>\n",
       "      <td>13.0</td>\n",
       "      <td>29.0</td>\n",
       "      <td>23.0</td>\n",
       "    </tr>\n",
       "    <tr>\n",
       "      <th>2019-01-12</th>\n",
       "      <td>21.0</td>\n",
       "      <td>38.0</td>\n",
       "      <td>30.0</td>\n",
       "    </tr>\n",
       "    <tr>\n",
       "      <th>2019-01-13</th>\n",
       "      <td>30.0</td>\n",
       "      <td>61.0</td>\n",
       "      <td>45.0</td>\n",
       "    </tr>\n",
       "    <tr>\n",
       "      <th>2019-01-14</th>\n",
       "      <td>37.0</td>\n",
       "      <td>27.0</td>\n",
       "      <td>39.0</td>\n",
       "    </tr>\n",
       "    <tr>\n",
       "      <th>2019-01-15</th>\n",
       "      <td>57.0</td>\n",
       "      <td>36.0</td>\n",
       "      <td>30.0</td>\n",
       "    </tr>\n",
       "    <tr>\n",
       "      <th>2019-01-16</th>\n",
       "      <td>38.0</td>\n",
       "      <td>37.0</td>\n",
       "      <td>40.0</td>\n",
       "    </tr>\n",
       "    <tr>\n",
       "      <th>2019-01-17</th>\n",
       "      <td>39.0</td>\n",
       "      <td>25.0</td>\n",
       "      <td>48.0</td>\n",
       "    </tr>\n",
       "    <tr>\n",
       "      <th>2019-01-18</th>\n",
       "      <td>38.0</td>\n",
       "      <td>27.0</td>\n",
       "      <td>45.0</td>\n",
       "    </tr>\n",
       "    <tr>\n",
       "      <th>2019-01-19</th>\n",
       "      <td>29.0</td>\n",
       "      <td>34.0</td>\n",
       "      <td>53.0</td>\n",
       "    </tr>\n",
       "  </tbody>\n",
       "</table>\n",
       "</div>"
      ],
      "text/plain": [
       "City        Melbourne  Perth  Sydney\n",
       "Date                                \n",
       "2018-12-31       28.0   37.0    55.0\n",
       "2019-01-01       27.0   30.0    56.0\n",
       "2019-01-02       24.0   35.0    50.0\n",
       "2019-01-03       25.0   25.0    45.0\n",
       "2019-01-04       51.0   27.0    30.0\n",
       "2019-01-05       37.0   24.0    45.0\n",
       "2019-01-06       19.0   29.0    38.0\n",
       "2019-01-07       13.0   41.0    27.0\n",
       "2019-01-08       26.0   33.0    26.0\n",
       "2019-01-09       22.0   31.0    32.0\n",
       "2019-01-10       15.0   42.0    25.0\n",
       "2019-01-11       13.0   29.0    23.0\n",
       "2019-01-12       21.0   38.0    30.0\n",
       "2019-01-13       30.0   61.0    45.0\n",
       "2019-01-14       37.0   27.0    39.0\n",
       "2019-01-15       57.0   36.0    30.0\n",
       "2019-01-16       38.0   37.0    40.0\n",
       "2019-01-17       39.0   25.0    48.0\n",
       "2019-01-18       38.0   27.0    45.0\n",
       "2019-01-19       29.0   34.0    53.0"
      ]
     },
     "execution_count": 33,
     "metadata": {},
     "output_type": "execute_result"
    }
   ],
   "source": [
    "five_cities_au_pm25_transposed_df = five_cities_au_pm25_df.pivot_table(index=\"Date\", columns=\"City\", values=\"median\")\n",
    "five_cities_au_pm25_transposed_df.head(20)"
   ]
  },
  {
   "cell_type": "code",
   "execution_count": 34,
   "metadata": {},
   "outputs": [
    {
     "name": "stdout",
     "output_type": "stream",
     "text": [
      "<class 'pandas.core.frame.DataFrame'>\n",
      "DatetimeIndex: 551 entries, 2018-12-31 to 2020-07-03\n",
      "Data columns (total 3 columns):\n",
      " #   Column     Non-Null Count  Dtype  \n",
      "---  ------     --------------  -----  \n",
      " 0   Melbourne  549 non-null    float64\n",
      " 1   Perth      532 non-null    float64\n",
      " 2   Sydney     549 non-null    float64\n",
      "dtypes: float64(3)\n",
      "memory usage: 17.2 KB\n"
     ]
    }
   ],
   "source": [
    "five_cities_au_pm25_transposed_df.info()"
   ]
  },
  {
   "cell_type": "code",
   "execution_count": 35,
   "metadata": {},
   "outputs": [
    {
     "data": {
      "text/html": [
       "<div>\n",
       "<style scoped>\n",
       "    .dataframe tbody tr th:only-of-type {\n",
       "        vertical-align: middle;\n",
       "    }\n",
       "\n",
       "    .dataframe tbody tr th {\n",
       "        vertical-align: top;\n",
       "    }\n",
       "\n",
       "    .dataframe thead th {\n",
       "        text-align: right;\n",
       "    }\n",
       "</style>\n",
       "<table border=\"1\" class=\"dataframe\">\n",
       "  <thead>\n",
       "    <tr style=\"text-align: right;\">\n",
       "      <th>City</th>\n",
       "      <th>Sydney</th>\n",
       "      <th>Melbourne</th>\n",
       "      <th>Perth</th>\n",
       "    </tr>\n",
       "    <tr>\n",
       "      <th>Date</th>\n",
       "      <th></th>\n",
       "      <th></th>\n",
       "      <th></th>\n",
       "    </tr>\n",
       "  </thead>\n",
       "  <tbody>\n",
       "    <tr>\n",
       "      <th>2019-01-06</th>\n",
       "      <td>45.0</td>\n",
       "      <td>27.0</td>\n",
       "      <td>29.0</td>\n",
       "    </tr>\n",
       "    <tr>\n",
       "      <th>2019-01-13</th>\n",
       "      <td>27.0</td>\n",
       "      <td>21.0</td>\n",
       "      <td>38.0</td>\n",
       "    </tr>\n",
       "    <tr>\n",
       "      <th>2019-01-20</th>\n",
       "      <td>41.0</td>\n",
       "      <td>38.0</td>\n",
       "      <td>34.0</td>\n",
       "    </tr>\n",
       "    <tr>\n",
       "      <th>2019-01-27</th>\n",
       "      <td>47.0</td>\n",
       "      <td>26.0</td>\n",
       "      <td>24.0</td>\n",
       "    </tr>\n",
       "    <tr>\n",
       "      <th>2019-02-03</th>\n",
       "      <td>34.0</td>\n",
       "      <td>19.0</td>\n",
       "      <td>35.0</td>\n",
       "    </tr>\n",
       "    <tr>\n",
       "      <th>...</th>\n",
       "      <td>...</td>\n",
       "      <td>...</td>\n",
       "      <td>...</td>\n",
       "    </tr>\n",
       "    <tr>\n",
       "      <th>2020-06-07</th>\n",
       "      <td>17.0</td>\n",
       "      <td>25.0</td>\n",
       "      <td>34.5</td>\n",
       "    </tr>\n",
       "    <tr>\n",
       "      <th>2020-06-14</th>\n",
       "      <td>22.0</td>\n",
       "      <td>40.0</td>\n",
       "      <td>27.0</td>\n",
       "    </tr>\n",
       "    <tr>\n",
       "      <th>2020-06-21</th>\n",
       "      <td>21.0</td>\n",
       "      <td>20.0</td>\n",
       "      <td>30.0</td>\n",
       "    </tr>\n",
       "    <tr>\n",
       "      <th>2020-06-28</th>\n",
       "      <td>18.0</td>\n",
       "      <td>25.0</td>\n",
       "      <td>19.0</td>\n",
       "    </tr>\n",
       "    <tr>\n",
       "      <th>2020-07-05</th>\n",
       "      <td>22.0</td>\n",
       "      <td>19.0</td>\n",
       "      <td>20.0</td>\n",
       "    </tr>\n",
       "  </tbody>\n",
       "</table>\n",
       "<p>79 rows × 3 columns</p>\n",
       "</div>"
      ],
      "text/plain": [
       "City        Sydney  Melbourne  Perth\n",
       "Date                                \n",
       "2019-01-06    45.0       27.0   29.0\n",
       "2019-01-13    27.0       21.0   38.0\n",
       "2019-01-20    41.0       38.0   34.0\n",
       "2019-01-27    47.0       26.0   24.0\n",
       "2019-02-03    34.0       19.0   35.0\n",
       "...            ...        ...    ...\n",
       "2020-06-07    17.0       25.0   34.5\n",
       "2020-06-14    22.0       40.0   27.0\n",
       "2020-06-21    21.0       20.0   30.0\n",
       "2020-06-28    18.0       25.0   19.0\n",
       "2020-07-05    22.0       19.0   20.0\n",
       "\n",
       "[79 rows x 3 columns]"
      ]
     },
     "execution_count": 35,
     "metadata": {},
     "output_type": "execute_result"
    }
   ],
   "source": [
    "resampled_five_cities_au_pm25_transposed_df = five_cities_au_pm25_transposed_df[au_cities_list].resample(\"W\").median()\n",
    "resampled_five_cities_au_pm25_transposed_df"
   ]
  },
  {
   "cell_type": "code",
   "execution_count": 36,
   "metadata": {},
   "outputs": [
    {
     "data": {
      "text/plain": [
       "<matplotlib.axes._subplots.AxesSubplot at 0x1e900044d88>"
      ]
     },
     "execution_count": 36,
     "metadata": {},
     "output_type": "execute_result"
    },
    {
     "data": {
      "image/png": "[encoded data removed]",
      "text/plain": [
       "<Figure size 828x504 with 1 Axes>"
      ]
     },
     "metadata": {},
     "output_type": "display_data"
    }
   ],
   "source": [
    "plt.style.use('fivethirtyeight')\n",
    "resampled_five_cities_au_pm25_transposed_df.plot(figsize=(11.5, 7))"
   ]
  },
  {
   "cell_type": "code",
   "execution_count": 37,
   "metadata": {},
   "outputs": [],
   "source": [
    "rolling_five_cities_au_pm25 = five_cities_au_pm25_transposed_df[au_cities_list].rolling(7, center=True).mean()"
   ]
  },
  {
   "cell_type": "code",
   "execution_count": 38,
   "metadata": {},
   "outputs": [
    {
     "data": {
      "text/plain": [
       "<matplotlib.axes._subplots.AxesSubplot at 0x1e9002c9e48>"
      ]
     },
     "execution_count": 38,
     "metadata": {},
     "output_type": "execute_result"
    },
    {
     "data": {
      "image/png": "[encoded data removed]",
      "text/plain": [
       "<Figure size 828x504 with 1 Axes>"
      ]
     },
     "metadata": {},
     "output_type": "display_data"
    }
   ],
   "source": [
    "plt.style.use('fivethirtyeight')\n",
    "rolling_five_cities_au_pm25.plot(figsize=(11.5, 7))"
   ]
  },
  {
   "cell_type": "code",
   "execution_count": null,
   "metadata": {},
   "outputs": [],
   "source": []
  },
  {
   "cell_type": "code",
   "execution_count": null,
   "metadata": {},
   "outputs": [],
   "source": []
  },
  {
   "cell_type": "markdown",
   "metadata": {},
   "source": [
    "### Explore the data through graphs"
   ]
  },
  {
   "cell_type": "code",
   "execution_count": null,
   "metadata": {},
   "outputs": [],
   "source": [
    "unique_species = clean_airdf[\"Specie\"].unique()\n",
    "unique_species"
   ]
  },
  {
   "cell_type": "code",
   "execution_count": null,
   "metadata": {},
   "outputs": [],
   "source": []
  },
  {
   "cell_type": "code",
   "execution_count": null,
   "metadata": {},
   "outputs": [],
   "source": [
    "def specie_median_distribution(df, country):\n",
    "\n",
    "    country_air_df = df[df[\"Country\"] == country]\n",
    "\n",
    "    fig, ax = plt.subplots(\n",
    "        figsize=(10, 3*len(unique_species)),\n",
    "        ncols=1,\n",
    "        nrows=len(unique_species)\n",
    "        )\n",
    "\n",
    "    for index, specie in enumerate(unique_species):\n",
    "        red_square=dict(markerfacecolor='r', marker='s', alpha=0.4)\n",
    "\n",
    "        country_air_df[country_air_df[\"Specie\"] == specie].boxplot(\n",
    "            column=\"median\",\n",
    "            flierprops=red_square,\n",
    "            ax=ax[index],\n",
    "            vert=False)"
   ]
  },
  {
   "cell_type": "code",
   "execution_count": null,
   "metadata": {},
   "outputs": [],
   "source": [
    "country_air_df[country_air_df[\"Specie\"] == specie].boxplot(\n",
    "            column=\"median\",\n",
    "            flierprops=red_square,\n",
    "            ax=ax[index],\n",
    "            vert=False)"
   ]
  },
  {
   "cell_type": "code",
   "execution_count": null,
   "metadata": {},
   "outputs": [],
   "source": [
    "au_air_df = clean_airdf[clean_airdf[\"Country\"]==]"
   ]
  },
  {
   "cell_type": "code",
   "execution_count": null,
   "metadata": {},
   "outputs": [],
   "source": [
    "        ax[index].set_title=f\"Distribution of median {specie} values in {country} (2019-2020H1)\""
   ]
  },
  {
   "cell_type": "code",
   "execution_count": null,
   "metadata": {},
   "outputs": [],
   "source": [
    "specie_median_distribution(clean_airdf, \"AU\")"
   ]
  },
  {
   "cell_type": "code",
   "execution_count": null,
   "metadata": {},
   "outputs": [],
   "source": [
    "variance_0_df = clean_airdf[cleanclean_airdf[\"variance\"]==0]\n",
    "variance_0_df"
   ]
  },
  {
   "cell_type": "code",
   "execution_count": null,
   "metadata": {},
   "outputs": [],
   "source": [
    "clean_airdf[clean_airdf[\"Specie\"]==\"pm25\"]"
   ]
  },
  {
   "cell_type": "code",
   "execution_count": null,
   "metadata": {},
   "outputs": [],
   "source": [
    "clean_airdf[(clean_airdf[\"Specie\"]==\"pm25\") & (clean_airdf[\"median\"]>=800)]"
   ]
  },
  {
   "cell_type": "code",
   "execution_count": null,
   "metadata": {},
   "outputs": [],
   "source": [
    "specie_median_distribution(clean_airdf, \"no2\")"
   ]
  },
  {
   "cell_type": "code",
   "execution_count": null,
   "metadata": {},
   "outputs": [],
   "source": [
    "clean_airdf[(clean_airdf[\"Specie\"]==\"no2\") & (clean_airdf[\"median\"]>=150)]"
   ]
  },
  {
   "cell_type": "code",
   "execution_count": null,
   "metadata": {},
   "outputs": [],
   "source": [
    "specie_median_distribution(clean_airdf, \"pm10\")"
   ]
  },
  {
   "cell_type": "code",
   "execution_count": null,
   "metadata": {},
   "outputs": [],
   "source": [
    "clean_airdf[(clean_airdf[\"Specie\"]==\"pm10\") & (clean_airdf[\"median\"]>=800)]"
   ]
  },
  {
   "cell_type": "code",
   "execution_count": null,
   "metadata": {},
   "outputs": [],
   "source": [
    "specie_median_distribution(clean_airdf, \"o3\")"
   ]
  },
  {
   "cell_type": "code",
   "execution_count": null,
   "metadata": {},
   "outputs": [],
   "source": [
    "clean_airdf[(clean_airdf[\"Specie\"]==\"o3\") & (clean_airdf[\"median\"]>=350)]"
   ]
  },
  {
   "cell_type": "code",
   "execution_count": null,
   "metadata": {},
   "outputs": [],
   "source": [
    "specie_median_distribution(clean_airdf, \"so2\")"
   ]
  },
  {
   "cell_type": "code",
   "execution_count": null,
   "metadata": {},
   "outputs": [],
   "source": [
    "clean_airdf[(clean_airdf[\"Specie\"]==\"so2\") & (clean_airdf[\"median\"]>=300)]"
   ]
  },
  {
   "cell_type": "code",
   "execution_count": null,
   "metadata": {},
   "outputs": [],
   "source": [
    "specie_median_distribution(clean_airdf, \"co\")"
   ]
  },
  {
   "cell_type": "code",
   "execution_count": null,
   "metadata": {},
   "outputs": [],
   "source": [
    "clean_airdf[(clean_airdf[\"Specie\"]==\"co\") & (clean_airdf[\"median\"]>=300)]"
   ]
  },
  {
   "cell_type": "code",
   "execution_count": null,
   "metadata": {},
   "outputs": [],
   "source": [
    "specie_median_distribution(clean_airdf, \"aqi\")"
   ]
  },
  {
   "cell_type": "code",
   "execution_count": null,
   "metadata": {},
   "outputs": [],
   "source": [
    "clean_airdf[(clean_airdf[\"Specie\"]==\"aqi\") & (clean_airdf[\"median\"]>=350)]"
   ]
  },
  {
   "cell_type": "code",
   "execution_count": null,
   "metadata": {},
   "outputs": [],
   "source": [
    "variance_0_df[\"Country\"].unique()"
   ]
  },
  {
   "cell_type": "code",
   "execution_count": null,
   "metadata": {},
   "outputs": [],
   "source": []
  },
  {
   "cell_type": "code",
   "execution_count": null,
   "metadata": {},
   "outputs": [],
   "source": []
  },
  {
   "cell_type": "markdown",
   "metadata": {},
   "source": [
    "## COVID-19 in AUSTRALIA DATA EXPLORATION AND CLEAN UP"
   ]
  },
  {
   "cell_type": "code",
   "execution_count": null,
   "metadata": {},
   "outputs": [],
   "source": [
    "au_covid_url = \"https://interactive.guim.co.uk/docsdata/1q5gdePANXci8enuiS4oHUJxcxC13d6bjMRSicakychE.json\"\n",
    "au_covid_data = requests.get(au_covid_url).json()\n",
    "pprint(au_covid_data)"
   ]
  },
  {
   "cell_type": "code",
   "execution_count": null,
   "metadata": {},
   "outputs": [],
   "source": [
    "au_covid_data.keys()"
   ]
  },
  {
   "cell_type": "code",
   "execution_count": null,
   "metadata": {},
   "outputs": [],
   "source": [
    "au_covid_data['sheets'].keys()"
   ]
  },
  {
   "cell_type": "code",
   "execution_count": null,
   "metadata": {},
   "outputs": [],
   "source": [
    "covid_by_state = au_covid_data['sheets']['updates']\n",
    "covid_by_state[50]"
   ]
  },
  {
   "cell_type": "code",
   "execution_count": null,
   "metadata": {},
   "outputs": [],
   "source": [
    "state_list = list()\n",
    "date_list = list()\n",
    "cumulative_case_count = list()\n",
    "cumulative_recovered_count = list()\n",
    "\n",
    "for element in covid_by_state:\n",
    "    state_list.append(element[\"State\"])\n",
    "    date_list.append(element[\"Date\"])\n",
    "    cumulative_case_count.append(element[\"Cumulative case count\"])\n",
    "    cumulative_recovered_count.append(element[\"Recovered (cumulative)\"])"
   ]
  },
  {
   "cell_type": "code",
   "execution_count": null,
   "metadata": {},
   "outputs": [],
   "source": [
    "au_covid_df = pd.DataFrame({\n",
    "    \"State\": state_list,\n",
    "    \"Date\": date_list,\n",
    "    \"Cumulative case count\": cumulative_case_count,\n",
    "    \"Cumulative recovered count\": cumulative_recovered_count\n",
    "})\n",
    "au_covid_df.head()"
   ]
  },
  {
   "cell_type": "code",
   "execution_count": null,
   "metadata": {},
   "outputs": [],
   "source": [
    "au_covid_df.info()"
   ]
  },
  {
   "cell_type": "code",
   "execution_count": null,
   "metadata": {},
   "outputs": [],
   "source": [
    "au_covid_df[\"Cumulative case count\"] = pd.to_numeric(au_covid_df[\"Cumulative case count\"].str.replace(\",\", \"\"))"
   ]
  },
  {
   "cell_type": "code",
   "execution_count": null,
   "metadata": {},
   "outputs": [],
   "source": [
    "au_covid_df[\"Cumulative recovered count\"] = pd.to_numeric(au_covid_df[\"Cumulative recovered count\"].str.replace(\",\", \"\"))"
   ]
  },
  {
   "cell_type": "code",
   "execution_count": null,
   "metadata": {},
   "outputs": [],
   "source": [
    "# Convert the Date column to datetime format\n",
    "au_covid_df['Date'] = pd.to_datetime(au_covid_df[\"Date\"], format= \"%d/%m/%Y\", errors='coerce')"
   ]
  },
  {
   "cell_type": "code",
   "execution_count": null,
   "metadata": {},
   "outputs": [],
   "source": [
    "au_covid_df.info()"
   ]
  },
  {
   "cell_type": "code",
   "execution_count": null,
   "metadata": {},
   "outputs": [],
   "source": [
    "# Find the earliest date the covid dataset covers:\n",
    "au_covid_df[\"Date\"].min()"
   ]
  },
  {
   "cell_type": "code",
   "execution_count": null,
   "metadata": {},
   "outputs": [],
   "source": [
    "# Find the latrest date the covid dataset covers:\n",
    "au_covid_df[\"Date\"].max()"
   ]
  },
  {
   "cell_type": "code",
   "execution_count": null,
   "metadata": {},
   "outputs": [],
   "source": [
    "# Set cutoff time on 5th July 2020 for the AU covid data\n",
    "timebound_au_covid =  au_covid_df[au_covid_df[\"Date\"] <= cut_off_date[0]].copy()"
   ]
  },
  {
   "cell_type": "code",
   "execution_count": null,
   "metadata": {},
   "outputs": [],
   "source": [
    "timebound_au_covid.info()"
   ]
  },
  {
   "cell_type": "code",
   "execution_count": null,
   "metadata": {},
   "outputs": [],
   "source": [
    "timebound_au_covid.sort_values([\"State\", \"Date\"], inplace=True, ignore_index=True)\n",
    "timebound_au_covid"
   ]
  },
  {
   "cell_type": "code",
   "execution_count": null,
   "metadata": {},
   "outputs": [],
   "source": [
    "cols_to_fill = [\"Cumulative case count\", \"Cumulative recovered count\"]\n",
    "\n",
    "timebound_au_covid[cols_to_fill]= timebound_au_covid.groupby(\"State\")[cols_to_fill].fillna(method=\"ffill\")"
   ]
  },
  {
   "cell_type": "code",
   "execution_count": null,
   "metadata": {},
   "outputs": [],
   "source": [
    "timebound_au_covid.info()"
   ]
  },
  {
   "cell_type": "code",
   "execution_count": null,
   "metadata": {},
   "outputs": [],
   "source": [
    "timebound_au_covid.fillna(0, inplace=True)"
   ]
  },
  {
   "cell_type": "code",
   "execution_count": null,
   "metadata": {},
   "outputs": [],
   "source": [
    "timebound_au_covid.info()"
   ]
  },
  {
   "cell_type": "code",
   "execution_count": null,
   "metadata": {},
   "outputs": [],
   "source": [
    "timebound_au_covid[cols_to_fill] = timebound_au_covid[cols_to_fill].astype(int)"
   ]
  },
  {
   "cell_type": "code",
   "execution_count": null,
   "metadata": {},
   "outputs": [],
   "source": [
    "timebound_au_covid.info()"
   ]
  },
  {
   "cell_type": "code",
   "execution_count": null,
   "metadata": {},
   "outputs": [],
   "source": [
    "clean_au_covid = timebound_au_covid.copy()"
   ]
  },
  {
   "cell_type": "code",
   "execution_count": null,
   "metadata": {},
   "outputs": [],
   "source": [
    "clean_au_covid.tail(20)"
   ]
  },
  {
   "cell_type": "code",
   "execution_count": null,
   "metadata": {},
   "outputs": [],
   "source": [
    "clean_au_covid[\"Active_cases\"] = clean_au_covid[\"Cumulative case count\"] - clean_au_covid[\"Cumulative recovered count\"]"
   ]
  },
  {
   "cell_type": "code",
   "execution_count": null,
   "metadata": {},
   "outputs": [],
   "source": [
    "clean_au_covid"
   ]
  },
  {
   "cell_type": "code",
   "execution_count": null,
   "metadata": {},
   "outputs": [],
   "source": [
    "clean_au_covid['New case count'] = clean_au_covid.groupby(['State'])['Cumulative case count'].diff().fillna(0).astype(int)"
   ]
  },
  {
   "cell_type": "code",
   "execution_count": null,
   "metadata": {},
   "outputs": [],
   "source": [
    "clean_au_covid"
   ]
  },
  {
   "cell_type": "code",
   "execution_count": null,
   "metadata": {},
   "outputs": [],
   "source": [
    "vic_covid = clean_au_covid[clean_au_covid[\"State\"]==\"VIC\"].set_index(\"Date\")\n",
    "vic_covid"
   ]
  },
  {
   "cell_type": "code",
   "execution_count": null,
   "metadata": {},
   "outputs": [],
   "source": [
    "ax = vic_covid.plot(y=\"Active_cases\", figsize=(15, 8), title=\"Number of active Covid-19 cases in Victoria 2020H1\")\n",
    "ax.set_ylabel(\"Number of active cases\")\n",
    "ax.set_xlabel(\"Year-Month\")"
   ]
  },
  {
   "cell_type": "code",
   "execution_count": null,
   "metadata": {},
   "outputs": [],
   "source": [
    "weekly_active_cases_vic_covid = vic_covid[\"Active_cases\"].resample(\"W\").sum().to_frame()\n",
    "weekly_active_cases_vic_covid"
   ]
  },
  {
   "cell_type": "code",
   "execution_count": null,
   "metadata": {},
   "outputs": [],
   "source": [
    "# Fill in dates to \n",
    "date_range_to_fill = pd.date_range(starting_date, \"2020-01-19\", freq=\"W\").to_frame(name=\"Active_cases\")\n",
    "date_range_to_fill[\"Active_cases\"]=0\n",
    "date_range_to_fill"
   ]
  },
  {
   "cell_type": "code",
   "execution_count": null,
   "metadata": {},
   "outputs": [],
   "source": [
    "time_matching_vic_covid_weekly_cases_df = pd.concat(\n",
    "    [date_range_to_fill, weekly_active_cases_vic_covid]).reset_index().rename(columns={\"index\": \"Date\"})\n",
    "time_matching_vic_covid_weekly_cases_df"
   ]
  },
  {
   "cell_type": "code",
   "execution_count": null,
   "metadata": {},
   "outputs": [],
   "source": [
    "weekly_median_pm25_vic_air_df.reset_index(inplace=True)\n",
    "weekly_median_pm25_vic_air_df"
   ]
  },
  {
   "cell_type": "code",
   "execution_count": null,
   "metadata": {},
   "outputs": [],
   "source": [
    "ax = weekly_median_pm25_vic_air_df.plot(x=\"Date\", y=\"pm2.5\", linestyle=\"-\", marker=\"o\")\n",
    "time_matching_vic_covid_weekly_cases_df.plot(kind=\"bar\", x=\"Date\", y=\"Active_cases\", ax=ax)"
   ]
  },
  {
   "cell_type": "code",
   "execution_count": null,
   "metadata": {},
   "outputs": [],
   "source": []
  },
  {
   "cell_type": "code",
   "execution_count": null,
   "metadata": {},
   "outputs": [],
   "source": []
  },
  {
   "cell_type": "code",
   "execution_count": null,
   "metadata": {},
   "outputs": [],
   "source": []
  },
  {
   "cell_type": "code",
   "execution_count": null,
   "metadata": {},
   "outputs": [],
   "source": []
  },
  {
   "cell_type": "code",
   "execution_count": null,
   "metadata": {},
   "outputs": [],
   "source": []
  },
  {
   "cell_type": "code",
   "execution_count": null,
   "metadata": {},
   "outputs": [],
   "source": []
  },
  {
   "cell_type": "code",
   "execution_count": null,
   "metadata": {},
   "outputs": [],
   "source": []
  },
  {
   "cell_type": "markdown",
   "metadata": {},
   "source": [
    "## COVID-19 DATA EXPLORATION AND CLEAN UP"
   ]
  },
  {
   "cell_type": "markdown",
   "metadata": {},
   "source": [
    "Covid-19 is sourced from here https://covid19api.com/"
   ]
  },
  {
   "cell_type": "code",
   "execution_count": null,
   "metadata": {},
   "outputs": [],
   "source": [
    "country_url = \"https://api.covid19api.com/countries\"\n",
    "country_covid_data = requests.get(country_url).json()\n",
    "pprint(country_covid_data)"
   ]
  },
  {
   "cell_type": "code",
   "execution_count": null,
   "metadata": {},
   "outputs": [],
   "source": [
    "country_covid_df = pd.DataFrame(country_covid_data)\n",
    "country_covid_df"
   ]
  },
  {
   "cell_type": "code",
   "execution_count": null,
   "metadata": {},
   "outputs": [],
   "source": [
    "# Merge countries available on the air quality data and the covid data\n",
    "country_covid_air_df = pd.merge(\n",
    "    country_airdata_df, country_covid_df, how=\"left\", left_on=\"country_code\", right_on=\"ISO2\")\n",
    "country_covid_air_df"
   ]
  },
  {
   "cell_type": "code",
   "execution_count": null,
   "metadata": {},
   "outputs": [],
   "source": [
    "# Find the country in the country_airdata_df but not country_covid_df\n",
    "country_to_remove = country_covid_air_df[country_covid_air_df[\"ISO2\"].isna()][\"country_code\"].tolist()\n",
    "country_to_remove"
   ]
  },
  {
   "cell_type": "code",
   "execution_count": null,
   "metadata": {},
   "outputs": [],
   "source": [
    "final_airdf = clean_airdf[~clean_airdf[\"Country\"].isin(country_to_remove)].copy()"
   ]
  },
  {
   "cell_type": "code",
   "execution_count": null,
   "metadata": {},
   "outputs": [],
   "source": [
    "final_airdf[\"Country\"].nunique()"
   ]
  },
  {
   "cell_type": "code",
   "execution_count": null,
   "metadata": {},
   "outputs": [],
   "source": [
    "country_covid_air_df"
   ]
  },
  {
   "cell_type": "code",
   "execution_count": null,
   "metadata": {},
   "outputs": [],
   "source": [
    "del country_covid_air_df[\"ISO2\"]"
   ]
  },
  {
   "cell_type": "code",
   "execution_count": null,
   "metadata": {},
   "outputs": [],
   "source": [
    "# Return a dataframe covering all countries in both the air quality data and covid-19 data.\n",
    "country_covid_air_df = country_covid_air_df[~country_covid_air_df[\"country_code\"].isin(\n",
    "    country_to_remove)].reset_index()\n",
    "country_covid_air_df"
   ]
  },
  {
   "cell_type": "code",
   "execution_count": null,
   "metadata": {},
   "outputs": [],
   "source": [
    "# Explore one covid API - By Country Total All Status\n",
    "covid_url_example = \"https://api.covid19api.com/total/country/australia\"\n",
    "covid_data_example = requests.get(covid_url_example).json()\n",
    "pprint(covid_data_example)"
   ]
  },
  {
   "cell_type": "markdown",
   "metadata": {},
   "source": [
    "The above api example covers covid-19 data until 4th July 2020. It also shows the number of confirmed, active, recovered, and death cases for each chosen country over the course of the current pandemic. Hence, we'll use this api to loop through our country_covid_air_df as above."
   ]
  },
  {
   "cell_type": "code",
   "execution_count": null,
   "metadata": {},
   "outputs": [],
   "source": [
    "slug_list = country_covid_air_df[\"Slug\"].tolist()\n",
    "len(slug_list)"
   ]
  },
  {
   "cell_type": "code",
   "execution_count": null,
   "metadata": {},
   "outputs": [],
   "source": [
    "base_covid_url = \"https://api.covid19api.com/total/country/\"\n",
    "    \n",
    "country_list = list()\n",
    "date_list = list()\n",
    "active_list = list()\n",
    "confirmed_list = list()\n",
    "recovered_list = list()\n",
    "deaths_list = list()\n",
    "\n",
    "print(\"Beginning Data Retrieval\")\n",
    "print(\"-----------------------------------\")\n",
    "\n",
    "counter = 0\n",
    "set_counter = 1\n",
    "\n",
    "for slug in slug_list:\n",
    "    \n",
    "    try:\n",
    "        response = requests.get(base_covid_url + slug).json()\n",
    "    \n",
    "        for element in response:\n",
    "            country_list.append(element['Country'])\n",
    "            date_list.append(element['Date'])\n",
    "            active_list.append(element['Active'])\n",
    "            confirmed_list.append(element['Confirmed'])\n",
    "            recovered_list.append(element['Recovered'])\n",
    "            deaths_list.append(element['Deaths'])\n",
    "\n",
    "        counter += 1\n",
    "        print(f\"Processing Record {counter} of Set {set_counter} | {slug}\")\n",
    "\n",
    "        if counter == 50:\n",
    "            set_counter += 1\n",
    "            counter = 0\n",
    "\n",
    "    except KeyError:\n",
    "        print(\"Country not found. Skipping...\")\n",
    "\n",
    "print(\"-----------------------------------\")\n",
    "print(\"Data Retrieval Complete\")\n",
    "print(\"-----------------------------------\")"
   ]
  },
  {
   "cell_type": "code",
   "execution_count": null,
   "metadata": {},
   "outputs": [],
   "source": [
    "covid_df = pd.DataFrame({\n",
    "    \"Country\": country_list,\n",
    "    \"Date\": date_list,\n",
    "    \"Active cases\": active_list,\n",
    "    \"Confirmed cases\": confirmed_list,\n",
    "    \"Recovered cases\": recovered_list,\n",
    "    \"Deaths\": deaths_list\n",
    "})\n",
    "covid_df.head()"
   ]
  },
  {
   "cell_type": "code",
   "execution_count": null,
   "metadata": {},
   "outputs": [],
   "source": [
    "covid_df.info()"
   ]
  },
  {
   "cell_type": "code",
   "execution_count": null,
   "metadata": {},
   "outputs": [],
   "source": [
    "# Convert the Date column to datetime format\n",
    "covid_df['Date'] = covid_df['Date'].astype('datetime64[ns]')"
   ]
  },
  {
   "cell_type": "code",
   "execution_count": null,
   "metadata": {},
   "outputs": [],
   "source": [
    "# Find the earliest date the covid dataset covers:\n",
    "covid_df[\"Date\"].min()"
   ]
  },
  {
   "cell_type": "code",
   "execution_count": null,
   "metadata": {},
   "outputs": [],
   "source": [
    "# Find the latrest date the covid dataset covers:\n",
    "covid_df[\"Date\"].max()"
   ]
  },
  {
   "cell_type": "code",
   "execution_count": null,
   "metadata": {},
   "outputs": [],
   "source": [
    "# Set cutoff date to the latest date on the air quality data\n",
    "world_covid_df = covid_df[covid_df[\"Date\"] <= cut_off_date]"
   ]
  },
  {
   "cell_type": "code",
   "execution_count": null,
   "metadata": {
    "scrolled": true
   },
   "outputs": [],
   "source": [
    "world_covid_df.info()"
   ]
  },
  {
   "cell_type": "code",
   "execution_count": null,
   "metadata": {},
   "outputs": [],
   "source": [
    "world_covid_df.tail()"
   ]
  },
  {
   "cell_type": "code",
   "execution_count": null,
   "metadata": {},
   "outputs": [],
   "source": []
  },
  {
   "cell_type": "code",
   "execution_count": null,
   "metadata": {},
   "outputs": [],
   "source": []
  },
  {
   "cell_type": "code",
   "execution_count": null,
   "metadata": {},
   "outputs": [],
   "source": []
  },
  {
   "cell_type": "code",
   "execution_count": null,
   "metadata": {},
   "outputs": [],
   "source": [
    "# import time\n",
    "# from scipy.stats import linregress\n",
    "\n",
    "# Incorporated citipy to determine city based on latitude and longitude\n",
    "# from citipy import citipy"
   ]
  },
  {
   "cell_type": "code",
   "execution_count": null,
   "metadata": {},
   "outputs": [],
   "source": [
    "# url = \"https://api.openaq.org/v1/measurements\"\n",
    "\n",
    "# data = requests.get(url).json()\n",
    "# pprint(data)"
   ]
  },
  {
   "cell_type": "code",
   "execution_count": null,
   "metadata": {},
   "outputs": [],
   "source": [
    "# len(data[\"results\"])"
   ]
  },
  {
   "cell_type": "code",
   "execution_count": null,
   "metadata": {},
   "outputs": [],
   "source": [
    "# data[\"results\"][0]"
   ]
  },
  {
   "cell_type": "code",
   "execution_count": null,
   "metadata": {},
   "outputs": [],
   "source": [
    "# Data source: https://aqicn.org/api/\n",
    "# base_url = \"https://api.waqi.info/feed/\"\n",
    "# city = \"melbourne\"\n",
    "# url = f\"{base_url}{city}/?token={api_key}\""
   ]
  },
  {
   "cell_type": "code",
   "execution_count": null,
   "metadata": {},
   "outputs": [],
   "source": [
    "# url_2 = \"https://api.covid19api.com/country/south-africa/status/confirmed/live\"\n",
    "# covid_data_2 = requests.get(url_2).json()\n",
    "# pprint(covid_data_2[-1])"
   ]
  }
 ],
 "metadata": {
  "kernelspec": {
   "display_name": "Python [conda env:PythonData] *",
   "language": "python",
   "name": "conda-env-PythonData-py"
  },
  "language_info": {
   "codemirror_mode": {
    "name": "ipython",
    "version": 3
   },
   "file_extension": ".py",
   "mimetype": "text/x-python",
   "name": "python",
   "nbconvert_exporter": "python",
   "pygments_lexer": "ipython3",
   "version": "3.7.6"
  },
  "toc": {
   "base_numbering": 1,
   "nav_menu": {},
   "number_sections": true,
   "sideBar": true,
   "skip_h1_title": false,
   "title_cell": "Table of Contents",
   "title_sidebar": "Contents",
   "toc_cell": true,
   "toc_position": {},
   "toc_section_display": true,
   "toc_window_display": false
  },
  "varInspector": {
   "cols": {
    "lenName": 16,
    "lenType": 16,
    "lenVar": 40
   },
   "kernels_config": {
    "python": {
     "delete_cmd_postfix": "",
     "delete_cmd_prefix": "del ",
     "library": "var_list.py",
     "varRefreshCmd": "print(var_dic_list())"
    },
    "r": {
     "delete_cmd_postfix": ") ",
     "delete_cmd_prefix": "rm(",
     "library": "var_list.r",
     "varRefreshCmd": "cat(var_dic_list()) "
    }
   },
   "types_to_exclude": [
    "module",
    "function",
    "builtin_function_or_method",
    "instance",
    "_Feature"
   ],
   "window_display": false
  }
 },
 "nbformat": 4,
 "nbformat_minor": 4
}
